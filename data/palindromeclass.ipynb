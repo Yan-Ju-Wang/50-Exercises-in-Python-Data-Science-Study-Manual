{
 "cells": [
  {
   "cell_type": "code",
   "execution_count": null,
   "id": "7309921d",
   "metadata": {},
   "outputs": [],
   "source": [
    "class Palindrome:\n",
    "    \"\"\"\n",
    "    >>> palindrome = Palindrome(\"eye\")\n",
    "    >>> palindrome.original_str\n",
    "    'eye'\n",
    "    >>> palindrome.reversed_str\n",
    "    'eye'\n",
    "    >>> palindrome.is_palindrome()\n",
    "    True\n",
    "    >>> palindrome = Palindrome(\"dye\")\n",
    "    >>> palindrome.original_text\n",
    "    'dye'\n",
    "    >>> palindrome.reversed_text\n",
    "    'eyd'\n",
    "    >>> palindrome.is_palindrome()\n",
    "    False\n",
    "    \"\"\"\n",
    "    ### BEGIN SOLUTION\n",
    "    def __init__(self, x: str):\n",
    "        self.original_str = x\n",
    "        self.reversed_str = self.reverse_str(x)\n",
    "    def reverse_str(self, x: str) -> str:\n",
    "        return x[::-1]\n",
    "    def is_palindrome(self) -> bool:\n",
    "        return self.original_str == self.reversed_str\n",
    "    ### END SOLUTION"
   ]
  }
 ],
 "metadata": {
  "kernelspec": {
   "display_name": "Python 3 (ipykernel)",
   "language": "python",
   "name": "python3"
  },
  "language_info": {
   "codemirror_mode": {
    "name": "ipython",
    "version": 3
   },
   "file_extension": ".py",
   "mimetype": "text/x-python",
   "name": "python",
   "nbconvert_exporter": "python",
   "pygments_lexer": "ipython3",
   "version": "3.9.13"
  }
 },
 "nbformat": 4,
 "nbformat_minor": 5
}
