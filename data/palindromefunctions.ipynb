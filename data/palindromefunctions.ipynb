{
 "cells": [
  {
   "cell_type": "code",
   "execution_count": null,
   "id": "b53ac015",
   "metadata": {},
   "outputs": [],
   "source": [
    "def reverse_str(x: str) -> str:\n",
    "    \"\"\"\n",
    "    >>> reverse_str(\"eye\")\n",
    "    'eye'\n",
    "    >>> reverse_str(\"dad\")\n",
    "    'dad'\n",
    "    >>> reverse_str(\"dye\")\n",
    "    'eyd'\n",
    "    >>> reverse_str(\"mad\")\n",
    "    'dam'\n",
    "    \"\"\"\n",
    "    ### BEGIN SOLUTION\n",
    "    return x[::-1]\n",
    "    ### END SOLUTION\n",
    "def is_palindrome(x: str) -> bool:\n",
    "    \"\"\"\n",
    "    >>> is_palindrome(\"eye\")\n",
    "    True\n",
    "    >>> is_palindrome(\"dad\")\n",
    "    True\n",
    "    >>> is_palindrome(\"dye\")\n",
    "    False\n",
    "    >>> is_palindrome(\"mad\")\n",
    "    False\n",
    "    \"\"\"\n",
    "    ### BEGIN SOLUTION\n",
    "    reversed_x = reverse_str(x)\n",
    "    return x == reversed_x\n",
    "    ### END SOLUTION"
   ]
  }
 ],
 "metadata": {
  "kernelspec": {
   "display_name": "Python 3 (ipykernel)",
   "language": "python",
   "name": "python3"
  },
  "language_info": {
   "codemirror_mode": {
    "name": "ipython",
    "version": 3
   },
   "file_extension": ".py",
   "mimetype": "text/x-python",
   "name": "python",
   "nbconvert_exporter": "python",
   "pygments_lexer": "ipython3",
   "version": "3.9.13"
  }
 },
 "nbformat": 4,
 "nbformat_minor": 5
}
