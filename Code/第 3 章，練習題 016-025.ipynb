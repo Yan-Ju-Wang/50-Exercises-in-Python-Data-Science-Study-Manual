{
 "cells": [
  {
   "cell_type": "markdown",
   "id": "heated-welding",
   "metadata": {
    "deletable": false
   },
   "source": [
    "# Python 的 50+ 練習：資料科學學習手冊\n",
    "\n",
    "> 使用資料結構類別管理資料\n",
    "\n",
    "[數據交點](https://www.datainpoint.com) | 郭耀仁 <yaojenkuo@datainpoint.com>"
   ]
  },
  {
   "cell_type": "markdown",
   "id": "fleet-tokyo",
   "metadata": {
    "deletable": false
   },
   "source": [
    "## 練習題指引\n",
    "\n",
    "- 練習題閒置超過 10 分鐘會自動斷線，只要重新點選練習題連結即可重新啟動。\n",
    "- 第一個程式碼儲存格會將可能用得到的模組載入。\n",
    "- 如果練習題需要載入檔案，檔案存放絕對路徑為 `/home/jovyan/data`，相對路徑為 `../data`\n",
    "- 練習題已經給定函數、類別、預期輸入或參數名稱，我們只需要寫作程式區塊。同時也給定函數的類別提示，說明預期輸入以及預期輸出的類別。\n",
    "- 說明（Docstring）會描述測試如何進行，閱讀說明能夠暸解預期輸入以及預期輸出之間的關係，幫助我們更快解題。\n",
    "- 請在 `### BEGIN SOLUTION` 與 `### END SOLUTION` 這兩個註解之間寫作函數或者類別的程式區塊。\n",
    "- 將預期輸出放置在 `return` 保留字之後，若只是用 `print()` 函數將預期輸出印出無法通過測試。\n",
    "- 語法錯誤（`SyntaxError`）或縮排錯誤（`IndentationError`）等將會導致測試失效，測試之前應該先在筆記本使用函數觀察是否與說明（Docstring）描述的功能相符。\n",
    "- 如果卡關，可以先看練習題詳解或者複習課程單元影片之後再繼續寫作。\n",
    "- 執行測試的步驟：\n",
    "    1. 點選上方選單的 File -> Save Notebook 儲存 exercises.ipynb。\n",
    "    2. 點選上方選單的 File -> New -> Terminal 開啟終端機。\n",
    "    3. 在 Terminal 輸入 `python 03-data-structures/test_runner.py` 後按下 Enter 執行測試。"
   ]
  },
  {
   "cell_type": "markdown",
   "id": "typical-impact",
   "metadata": {},
   "source": [
    "## 016. 取出第一個與最後一個元素\n",
    "\n",
    "定義函數 `retrieve_the_first_and_last_element()` 能夠將輸入 `list` 的第一個資料與最後一個資料取出，並且用 `dict` 的 keys 標註。\n",
    "\n",
    "- 運用 Indexing\n",
    "- 建立 `dict`\n",
    "- 將預期輸出寫在 `return` 之後。"
   ]
  },
  {
   "cell_type": "code",
   "execution_count": 20,
   "id": "economic-blast",
   "metadata": {},
   "outputs": [],
   "source": [
    "def retrieve_the_first_and_last_element(x: list) -> dict:\n",
    "    \"\"\"\n",
    "    >>> retrieve_the_first_and_last_element([2, 3, 5, 7, 11])\n",
    "    {'first': 2, 'last': 11}\n",
    "    >>> retrieve_the_first_and_last_element([\"Python\", \"Reticulate\", \"Anaconda\"])\n",
    "    {'first': 'Python', 'last': 'Anaconda'}\n",
    "    \"\"\"\n",
    "    ### BEGIN SOLUTION\n",
    "    return {'first': x[0],'last': x[-1]}\n",
    "    ### END SOLUTION"
   ]
  },
  {
   "cell_type": "code",
   "execution_count": 21,
   "id": "6d09483e",
   "metadata": {},
   "outputs": [
    {
     "data": {
      "text/plain": [
       "{'first': 2, 'last': 11}"
      ]
     },
     "execution_count": 21,
     "metadata": {},
     "output_type": "execute_result"
    }
   ],
   "source": [
    "retrieve_the_first_and_last_element([2, 3, 5, 7, 11])"
   ]
  },
  {
   "cell_type": "code",
   "execution_count": 22,
   "id": "1b2e9d5b",
   "metadata": {},
   "outputs": [
    {
     "data": {
      "text/plain": [
       "{'first': 'Python', 'last': 'Anaconda'}"
      ]
     },
     "execution_count": 22,
     "metadata": {},
     "output_type": "execute_result"
    }
   ],
   "source": [
    "retrieve_the_first_and_last_element([\"Python\", \"Reticulate\", \"Anaconda\"])"
   ]
  },
  {
   "cell_type": "markdown",
   "id": "north-undergraduate",
   "metadata": {},
   "source": [
    "## 017. 取出前三個字元\n",
    "\n",
    "定義函數 `retrieve_the_first_three_characters()` 能夠將輸入 `str` 的前三個字元取出。\n",
    "\n",
    "- 運用 Slicing\n",
    "- 將預期輸出寫在 `return` 之後。"
   ]
  },
  {
   "cell_type": "code",
   "execution_count": 25,
   "id": "authorized-algorithm",
   "metadata": {},
   "outputs": [],
   "source": [
    "def retrieve_the_first_three_characters(x: str) -> str:\n",
    "    \"\"\"\n",
    "    >>> retrieve_the_first_three_characters(\"Python\")\n",
    "    \"Pyt\"\n",
    "    >>> retrieve_the_first_three_characters(\"Reticulate\")\n",
    "    \"Ret\"\n",
    "    >>> retrieve_the_first_three_characters(\"Anaconda\")\n",
    "    \"Ana\"\n",
    "    \"\"\"\n",
    "    ### BEGIN SOLUTION\n",
    "    return x[0:3]\n",
    "    ### END SOLUTION"
   ]
  },
  {
   "cell_type": "code",
   "execution_count": 27,
   "id": "e3adfdca",
   "metadata": {},
   "outputs": [
    {
     "data": {
      "text/plain": [
       "'Pyt'"
      ]
     },
     "execution_count": 27,
     "metadata": {},
     "output_type": "execute_result"
    }
   ],
   "source": [
    "retrieve_the_first_three_characters(\"Python\")"
   ]
  },
  {
   "cell_type": "code",
   "execution_count": 28,
   "id": "631d6c60",
   "metadata": {},
   "outputs": [
    {
     "data": {
      "text/plain": [
       "'Ret'"
      ]
     },
     "execution_count": 28,
     "metadata": {},
     "output_type": "execute_result"
    }
   ],
   "source": [
    "retrieve_the_first_three_characters(\"Reticulate\")"
   ]
  },
  {
   "cell_type": "code",
   "execution_count": 29,
   "id": "585de3f9",
   "metadata": {},
   "outputs": [
    {
     "data": {
      "text/plain": [
       "'Ana'"
      ]
     },
     "execution_count": 29,
     "metadata": {},
     "output_type": "execute_result"
    }
   ],
   "source": [
    "retrieve_the_first_three_characters(\"Anaconda\")"
   ]
  },
  {
   "cell_type": "markdown",
   "id": "essential-server",
   "metadata": {},
   "source": [
    "## 018. 移除第一個與最後一個元素\n",
    "\n",
    "定義函數 `remove_the_first_and_last_element()` 能夠將輸入 `list` 的第一個資料與最後一個資料移除後再回傳。\n",
    "\n",
    "- 運用 Slicing\n",
    "- 將預期輸出寫在 `return` 之後。"
   ]
  },
  {
   "cell_type": "code",
   "execution_count": 42,
   "id": "expired-resort",
   "metadata": {},
   "outputs": [],
   "source": [
    "def remove_the_first_and_last_element(x: list) -> list:\n",
    "    \"\"\"\n",
    "    >>> remove_the_first_and_last_element([2, 3, 5, 7, 11])\n",
    "    [3, 5, 7]\n",
    "    >>> remove_the_first_and_last_element([\"Python\", \"Reticulate\", \"Anaconda\"])\n",
    "    [\"Reticulate\"]\n",
    "    \"\"\"\n",
    "    ### BEGIN SOLUTION\n",
    "    return x[1:-1]\n",
    "    ### END SOLUTION"
   ]
  },
  {
   "cell_type": "code",
   "execution_count": 43,
   "id": "86e3ddd5",
   "metadata": {},
   "outputs": [
    {
     "data": {
      "text/plain": [
       "[3, 5, 7]"
      ]
     },
     "execution_count": 43,
     "metadata": {},
     "output_type": "execute_result"
    }
   ],
   "source": [
    "remove_the_first_and_last_element([2, 3, 5, 7, 11])"
   ]
  },
  {
   "cell_type": "code",
   "execution_count": 44,
   "id": "2ed67194",
   "metadata": {},
   "outputs": [
    {
     "data": {
      "text/plain": [
       "['Reticulate']"
      ]
     },
     "execution_count": 44,
     "metadata": {},
     "output_type": "execute_result"
    }
   ],
   "source": [
    "remove_the_first_and_last_element([\"Python\", \"Reticulate\", \"Anaconda\"])"
   ]
  },
  {
   "cell_type": "markdown",
   "id": "comprehensive-shannon",
   "metadata": {},
   "source": [
    "## 019. 取出中間的元素\n",
    "\n",
    "定義函數 `retrieve_the_middle_element()` 能夠將長度為奇數 `list` 的「中位」整數取出。\n",
    "\n",
    "- 使用 `len()` 函數得知 `list` 長度。\n",
    "- 對長度求其除以 2 的商數（floor divide）。\n",
    "- 運用 Indexing\n",
    "- 將預期輸出寫在 `return` 之後。"
   ]
  },
  {
   "cell_type": "code",
   "execution_count": 64,
   "id": "prospective-brown",
   "metadata": {},
   "outputs": [],
   "source": [
    "def retrieve_the_middle_element(x: list) -> int:\n",
    "    \"\"\"\n",
    "    >>> retrieve_the_middle_element([2, 3, 5])\n",
    "    3\n",
    "    >>> retrieve_the_middle_element([2, 3, 5, 7, 11])\n",
    "    5\n",
    "    >>> retrieve_the_middle_element([2, 3, 5, 7, 11, 13, 17])\n",
    "    7\n",
    "    \"\"\"\n",
    "    ### BEGIN SOLUTION\n",
    "    return x[len(x) // 2]\n",
    "    ### END SOLUTION"
   ]
  },
  {
   "cell_type": "code",
   "execution_count": 66,
   "id": "6ffaf196",
   "metadata": {},
   "outputs": [
    {
     "data": {
      "text/plain": [
       "3"
      ]
     },
     "execution_count": 66,
     "metadata": {},
     "output_type": "execute_result"
    }
   ],
   "source": [
    "retrieve_the_middle_element([2, 3, 5])"
   ]
  },
  {
   "cell_type": "code",
   "execution_count": 68,
   "id": "94146115",
   "metadata": {},
   "outputs": [
    {
     "data": {
      "text/plain": [
       "5"
      ]
     },
     "execution_count": 68,
     "metadata": {},
     "output_type": "execute_result"
    }
   ],
   "source": [
    "retrieve_the_middle_element([2, 3, 5, 7, 11])"
   ]
  },
  {
   "cell_type": "code",
   "execution_count": 69,
   "id": "bef6a927",
   "metadata": {},
   "outputs": [
    {
     "data": {
      "text/plain": [
       "7"
      ]
     },
     "execution_count": 69,
     "metadata": {},
     "output_type": "execute_result"
    }
   ],
   "source": [
    "retrieve_the_middle_element([2, 3, 5, 7, 11, 13, 17])"
   ]
  },
  {
   "cell_type": "markdown",
   "id": "false-somerset",
   "metadata": {},
   "source": [
    "## 020. 取出中間的三個字元\n",
    "\n",
    "定義函數 `retrieve_the_middle_three_characters()` 能夠將字元個數為奇數 `str` 的中間三個字元取出。\n",
    "\n",
    "- 使用 `len()` 函數得知 `str` 長度。\n",
    "- 對長度求其除以 2 的商數（floor divide）。\n",
    "- 運用 Slicing\n",
    "- 將預期輸出寫在 `return` 之後。"
   ]
  },
  {
   "cell_type": "code",
   "execution_count": 77,
   "id": "organic-alliance",
   "metadata": {},
   "outputs": [],
   "source": [
    "def retrieve_the_middle_three_characters(x: str) -> str:\n",
    "    \"\"\"\n",
    "    >>> retrieve_the_middle_three_characters(\"Steve\")\n",
    "    \"tev\"\n",
    "    >>> retrieve_the_middle_three_characters(\"Stark\")\n",
    "    \"tar\"\n",
    "    >>> retrieve_the_middle_three_characters(\"Natasha\")\n",
    "    \"tas\"\n",
    "    \"\"\"\n",
    "    ### BEGIN SOLUTION\n",
    "    \n",
    "    return x[(len(x) // 2)-1] + x[(len(x) // 2)] + x[(len(x) // 2) + 1]\n",
    "    ### END SOLUTION"
   ]
  },
  {
   "cell_type": "code",
   "execution_count": 79,
   "id": "9615d6fe",
   "metadata": {},
   "outputs": [
    {
     "data": {
      "text/plain": [
       "'tev'"
      ]
     },
     "execution_count": 79,
     "metadata": {},
     "output_type": "execute_result"
    }
   ],
   "source": [
    "retrieve_the_middle_three_characters(\"Steve\")"
   ]
  },
  {
   "cell_type": "code",
   "execution_count": 81,
   "id": "893c7d3f",
   "metadata": {},
   "outputs": [
    {
     "data": {
      "text/plain": [
       "'tar'"
      ]
     },
     "execution_count": 81,
     "metadata": {},
     "output_type": "execute_result"
    }
   ],
   "source": [
    "retrieve_the_middle_three_characters(\"Stark\")"
   ]
  },
  {
   "cell_type": "code",
   "execution_count": 82,
   "id": "9591ceb3",
   "metadata": {},
   "outputs": [
    {
     "data": {
      "text/plain": [
       "'tas'"
      ]
     },
     "execution_count": 82,
     "metadata": {},
     "output_type": "execute_result"
    }
   ],
   "source": [
    "retrieve_the_middle_three_characters(\"Natasha\")"
   ]
  },
  {
   "cell_type": "markdown",
   "id": "lightweight-aberdeen",
   "metadata": {},
   "source": [
    "## 021. 台北市行政區郵遞區號\n",
    "\n",
    "定義函數 `find_taipei_citys_zip_code()` 能輸入台北市的行政區名稱，回傳三碼的郵遞區號。\n",
    "\n",
    "來源：[臺北市行政區劃](https://zh.wikipedia.org/wiki/%E8%87%BA%E5%8C%97%E5%B8%82%E8%A1%8C%E6%94%BF%E5%8D%80%E5%8A%83)\n",
    "\n",
    "- 建立 `dict`\n",
    "- 將預期輸出寫在 `return` 之後。"
   ]
  },
  {
   "cell_type": "code",
   "execution_count": 94,
   "id": "latter-control",
   "metadata": {},
   "outputs": [],
   "source": [
    "def find_taipei_citys_zip_code(area_name: str) -> int:\n",
    "    \"\"\"\n",
    "    >>> find_taipei_citys_zip_code(\"中正區\")\n",
    "    100\n",
    "    >>> find_taipei_citys_zip_code(\"大同區\")\n",
    "    103\n",
    "    >>> find_taipei_citys_zip_code(\"中山區\")\n",
    "    104\n",
    "    \"\"\"\n",
    "    ### BEGIN SOLUTION\n",
    "    taipei_citys_zip_code = {\n",
    "        \"中正區\": 100,\n",
    "        \"大同區\": 103,\n",
    "        \"中山區\": 104,\n",
    "        \"松山區\": 105,\n",
    "        \"大安區\": 106,\n",
    "        \"萬華區\": 108,\n",
    "        \"信義區\": 110,\n",
    "        \"士林區\": 111,\n",
    "        \"北投區\": 112,\n",
    "        \"內湖區\": 114,\n",
    "        \"南港區\": 115,\n",
    "        \"文山區\": 116        \n",
    "    }\n",
    "    return taipei_citys_zip_code[area_name]\n",
    "    ### END SOLUTION"
   ]
  },
  {
   "cell_type": "code",
   "execution_count": 96,
   "id": "d4333ce1",
   "metadata": {},
   "outputs": [
    {
     "data": {
      "text/plain": [
       "100"
      ]
     },
     "execution_count": 96,
     "metadata": {},
     "output_type": "execute_result"
    }
   ],
   "source": [
    "find_taipei_citys_zip_code(\"中正區\")"
   ]
  },
  {
   "cell_type": "code",
   "execution_count": 97,
   "id": "4f4a1dd2",
   "metadata": {},
   "outputs": [
    {
     "data": {
      "text/plain": [
       "103"
      ]
     },
     "execution_count": 97,
     "metadata": {},
     "output_type": "execute_result"
    }
   ],
   "source": [
    "find_taipei_citys_zip_code(\"大同區\")"
   ]
  },
  {
   "cell_type": "code",
   "execution_count": 98,
   "id": "85695962",
   "metadata": {},
   "outputs": [
    {
     "data": {
      "text/plain": [
       "104"
      ]
     },
     "execution_count": 98,
     "metadata": {},
     "output_type": "execute_result"
    }
   ],
   "source": [
    "find_taipei_citys_zip_code(\"中山區\")"
   ]
  },
  {
   "cell_type": "markdown",
   "id": "mysterious-purple",
   "metadata": {},
   "source": [
    "## 022. 國家 ISO 代碼\n",
    "\n",
    "定義函數 `find_country_iso_codes()` 能輸入國家名稱，回傳 ISO 國家二位字母代碼、三位字母代碼。\n",
    "\n",
    "備註：本題**不需要**完成所有國家的名稱與 ISO 國家字母代碼之對應關係，只需要能完成測試範例即可。\n",
    "\n",
    "- 建立 `dict`\n",
    "- 將預期輸出寫在 `return` 之後。"
   ]
  },
  {
   "cell_type": "code",
   "execution_count": 101,
   "id": "prime-stranger",
   "metadata": {},
   "outputs": [],
   "source": [
    "def find_country_iso_codes(country_name: str) -> dict:\n",
    "    \"\"\"\n",
    "    >>> find_country_iso_codes(\"Taiwan\")\n",
    "    {'alpha2': 'TW', 'alpha3': 'TWN'}\n",
    "    >>> find_country_iso_codes(\"Japan\")\n",
    "    {'alpha2': 'JP', 'alpha3': 'JPN'}\n",
    "    >>> find_country_iso_codes(\"United States\")\n",
    "    {'alpha2': 'US', 'alpha3': 'USA'}\n",
    "    >>> find_country_iso_codes(\"Czech Republic\")\n",
    "    {'alpha2': 'CZ', 'alpha3': 'CZE'}\n",
    "    >>> find_country_iso_codes(\"Lithuania\")\n",
    "    {'alpha2': 'LT', 'alpha3': 'LTU'}\n",
    "    >>> find_country_iso_codes(\"Slovakia\")\n",
    "    {'alpha2': 'SK', 'alpha3': 'SVK'}\n",
    "    >>> find_country_iso_codes(\"Poland\")\n",
    "    {'alpha2': 'PL', 'alpha3': 'POL'}\n",
    "    \"\"\"\n",
    "    ### BEGIN SOLUTION\n",
    "    country_iso_codes = {\n",
    "        \"Taiwan\" : {'alpha2': 'TW', 'alpha3': 'TWN'} ,\n",
    "        \"Japan\" : {'alpha2': 'JP', 'alpha3': 'JPN'} ,\n",
    "        \"United States\" : {'alpha2': 'US', 'alpha3': 'USA'} ,\n",
    "        \"Czech Republic\" : {'alpha2': 'CZ', 'alpha3': 'CZE'} ,\n",
    "        \"Lithuania\" : {'alpha2': 'LT', 'alpha3': 'LTU'} ,\n",
    "        \"Slovakia\" : {'alpha2': 'SK', 'alpha3': 'SVK'} ,\n",
    "        \"Poland\" : {'alpha2': 'PL', 'alpha3': 'POL'}\n",
    "    }\n",
    "    return country_iso_codes[country_name]\n",
    "    ### END SOLUTION"
   ]
  },
  {
   "cell_type": "code",
   "execution_count": 103,
   "id": "5854ec6d",
   "metadata": {},
   "outputs": [
    {
     "data": {
      "text/plain": [
       "{'alpha2': 'TW', 'alpha3': 'TWN'}"
      ]
     },
     "execution_count": 103,
     "metadata": {},
     "output_type": "execute_result"
    }
   ],
   "source": [
    "find_country_iso_codes(\"Taiwan\")"
   ]
  },
  {
   "cell_type": "code",
   "execution_count": 105,
   "id": "3eea7036",
   "metadata": {},
   "outputs": [
    {
     "data": {
      "text/plain": [
       "{'alpha2': 'JP', 'alpha3': 'JPN'}"
      ]
     },
     "execution_count": 105,
     "metadata": {},
     "output_type": "execute_result"
    }
   ],
   "source": [
    "find_country_iso_codes(\"Japan\")"
   ]
  },
  {
   "cell_type": "code",
   "execution_count": 106,
   "id": "a888ea3a",
   "metadata": {},
   "outputs": [
    {
     "data": {
      "text/plain": [
       "{'alpha2': 'US', 'alpha3': 'USA'}"
      ]
     },
     "execution_count": 106,
     "metadata": {},
     "output_type": "execute_result"
    }
   ],
   "source": [
    "find_country_iso_codes(\"United States\")"
   ]
  },
  {
   "cell_type": "code",
   "execution_count": 107,
   "id": "aaabc346",
   "metadata": {},
   "outputs": [
    {
     "data": {
      "text/plain": [
       "{'alpha2': 'CZ', 'alpha3': 'CZE'}"
      ]
     },
     "execution_count": 107,
     "metadata": {},
     "output_type": "execute_result"
    }
   ],
   "source": [
    "find_country_iso_codes(\"Czech Republic\")"
   ]
  },
  {
   "cell_type": "code",
   "execution_count": 108,
   "id": "d2733283",
   "metadata": {},
   "outputs": [
    {
     "data": {
      "text/plain": [
       "{'alpha2': 'LT', 'alpha3': 'LTU'}"
      ]
     },
     "execution_count": 108,
     "metadata": {},
     "output_type": "execute_result"
    }
   ],
   "source": [
    "find_country_iso_codes(\"Lithuania\")"
   ]
  },
  {
   "cell_type": "code",
   "execution_count": 109,
   "id": "a5d5fc42",
   "metadata": {},
   "outputs": [
    {
     "data": {
      "text/plain": [
       "{'alpha2': 'SK', 'alpha3': 'SVK'}"
      ]
     },
     "execution_count": 109,
     "metadata": {},
     "output_type": "execute_result"
    }
   ],
   "source": [
    "find_country_iso_codes(\"Slovakia\")"
   ]
  },
  {
   "cell_type": "code",
   "execution_count": 110,
   "id": "9c13f331",
   "metadata": {},
   "outputs": [
    {
     "data": {
      "text/plain": [
       "{'alpha2': 'PL', 'alpha3': 'POL'}"
      ]
     },
     "execution_count": 110,
     "metadata": {},
     "output_type": "execute_result"
    }
   ],
   "source": [
    "find_country_iso_codes(\"Poland\")"
   ]
  },
  {
   "cell_type": "markdown",
   "id": "silver-mechanism",
   "metadata": {},
   "source": [
    "## 023. 剔除重複值\n",
    "\n",
    "定義函數 `remove_duplicates()` 能夠將輸入 `list` 中重複的元素剔除後遞增排序回傳。\n",
    "\n",
    "- 運用 `set` 的特性。\n",
    "- 使用 `set()`、`list()` 函數轉換資料結構類別。\n",
    "- 使用 `sorted()` 函數或 `list.sort()`\n",
    "- 留意物件更新的兩種方式。\n",
    "- 將預期輸出寫在 `return` 之後。"
   ]
  },
  {
   "cell_type": "code",
   "execution_count": 139,
   "id": "former-clinton",
   "metadata": {},
   "outputs": [],
   "source": [
    "def remove_duplicates(x: list) -> list:\n",
    "    \"\"\"\n",
    "    >>> remove_duplicates([5, 5, 6, 6])\n",
    "    [5, 6]\n",
    "    >>> remove_duplicates([2, 2, 6, 6])\n",
    "    [2, 6]\n",
    "    >>> remove_duplicates([9, 9, 8, 1])\n",
    "    [1, 8, 9]\n",
    "    \"\"\"\n",
    "    ### BEGIN SOLUTION\n",
    "    return sorted(list(set(x)))\n",
    "    ### END SOLUTION"
   ]
  },
  {
   "cell_type": "code",
   "execution_count": 140,
   "id": "618028ad",
   "metadata": {},
   "outputs": [
    {
     "data": {
      "text/plain": [
       "[5, 6]"
      ]
     },
     "execution_count": 140,
     "metadata": {},
     "output_type": "execute_result"
    }
   ],
   "source": [
    "remove_duplicates([5, 5, 6, 6])"
   ]
  },
  {
   "cell_type": "code",
   "execution_count": 141,
   "id": "7d3dcb5a",
   "metadata": {},
   "outputs": [
    {
     "data": {
      "text/plain": [
       "[2, 6]"
      ]
     },
     "execution_count": 141,
     "metadata": {},
     "output_type": "execute_result"
    }
   ],
   "source": [
    "remove_duplicates([2, 2, 6, 6])"
   ]
  },
  {
   "cell_type": "code",
   "execution_count": 142,
   "id": "5a39dffb",
   "metadata": {},
   "outputs": [
    {
     "data": {
      "text/plain": [
       "[1, 8, 9]"
      ]
     },
     "execution_count": 142,
     "metadata": {},
     "output_type": "execute_result"
    }
   ],
   "source": [
    "remove_duplicates([9, 9, 8, 1])"
   ]
  },
  {
   "cell_type": "markdown",
   "id": "endangered-dimension",
   "metadata": {},
   "source": [
    "## 024. 相同個數\n",
    "\n",
    "定義函數 `find_number_of_intersections()` 能夠回傳兩份資料之間的相同個數。\n",
    "\n",
    "- 運用 `set` 的集合運算方法。\n",
    "- 使用 `len()` 函數得知長度。\n",
    "- 將預期輸出寫在 `return` 之後。"
   ]
  },
  {
   "cell_type": "code",
   "execution_count": 146,
   "id": "extraordinary-facility",
   "metadata": {},
   "outputs": [],
   "source": [
    "def find_number_of_intersections(x: set, y: set) -> int:\n",
    "    \"\"\"\n",
    "    >>> find_number_of_intersections({5, 5, 6, 6}, {5, 6, 7, 8})\n",
    "    2\n",
    "    >>> find_number_of_intersections({1, 3, 5, 7, 9}, {2, 3, 5, 7})\n",
    "    3\n",
    "    >>> find_number_of_intersections({1, 3, 5, 7, 9}, {1, 3, 5, 7, 9})\n",
    "    5\n",
    "    >>> find_number_of_intersections({1, 3, 5, 7, 9}, {2, 4, 6, 8, 10})\n",
    "    0\n",
    "    \"\"\"\n",
    "    ### BEGIN SOLUTION\n",
    "    return len(x & y)\n",
    "    ### END SOLUTION"
   ]
  },
  {
   "cell_type": "code",
   "execution_count": 147,
   "id": "f6cc118d",
   "metadata": {},
   "outputs": [
    {
     "data": {
      "text/plain": [
       "2"
      ]
     },
     "execution_count": 147,
     "metadata": {},
     "output_type": "execute_result"
    }
   ],
   "source": [
    "find_number_of_intersections({5, 5, 6, 6}, {5, 6, 7, 8})"
   ]
  },
  {
   "cell_type": "code",
   "execution_count": 148,
   "id": "220e3665",
   "metadata": {},
   "outputs": [
    {
     "data": {
      "text/plain": [
       "3"
      ]
     },
     "execution_count": 148,
     "metadata": {},
     "output_type": "execute_result"
    }
   ],
   "source": [
    "find_number_of_intersections({1, 3, 5, 7, 9}, {2, 3, 5, 7})"
   ]
  },
  {
   "cell_type": "code",
   "execution_count": 149,
   "id": "63bdc1a9",
   "metadata": {},
   "outputs": [
    {
     "data": {
      "text/plain": [
       "5"
      ]
     },
     "execution_count": 149,
     "metadata": {},
     "output_type": "execute_result"
    }
   ],
   "source": [
    "find_number_of_intersections({1, 3, 5, 7, 9}, {1, 3, 5, 7, 9})"
   ]
  },
  {
   "cell_type": "code",
   "execution_count": 150,
   "id": "d4eed2b9",
   "metadata": {},
   "outputs": [
    {
     "data": {
      "text/plain": [
       "0"
      ]
     },
     "execution_count": 150,
     "metadata": {},
     "output_type": "execute_result"
    }
   ],
   "source": [
    "find_number_of_intersections({1, 3, 5, 7, 9}, {2, 4, 6, 8, 10})"
   ]
  },
  {
   "cell_type": "markdown",
   "id": "initial-melissa",
   "metadata": {},
   "source": [
    "## 025. 相異個數\n",
    "\n",
    "定義函數 `find_number_of_differences()` 能夠回傳兩份資料之間的相異個數。\n",
    "\n",
    "- 運用 `set` 的集合運算方法。\n",
    "- 使用 `len()` 函數得知長度。\n",
    "- 將預期輸出寫在 `return` 之後。"
   ]
  },
  {
   "cell_type": "code",
   "execution_count": 157,
   "id": "latest-connectivity",
   "metadata": {},
   "outputs": [],
   "source": [
    "def find_number_of_differences(x: set, y: set) -> int:\n",
    "    \"\"\"\n",
    "    >>> find_number_of_differences({5, 5, 6, 6}, {5, 6, 7, 8})\n",
    "    2\n",
    "    >>> find_number_of_differences({1, 3, 5, 7, 9}, {2, 3, 5, 7})\n",
    "    3\n",
    "    >>> find_number_of_differences({1, 3, 5, 7, 9}, {1, 3, 5, 7, 9})\n",
    "    0\n",
    "    >>> find_number_of_differences({1, 3, 5, 7, 9}, {2, 4, 6, 8, 10})\n",
    "    10\n",
    "    \"\"\"\n",
    "    ### BEGIN SOLUTION\n",
    "    return len(x ^ y)\n",
    "    ### END SOLUTION"
   ]
  },
  {
   "cell_type": "code",
   "execution_count": 158,
   "id": "41855895",
   "metadata": {},
   "outputs": [
    {
     "data": {
      "text/plain": [
       "2"
      ]
     },
     "execution_count": 158,
     "metadata": {},
     "output_type": "execute_result"
    }
   ],
   "source": [
    "find_number_of_differences({5, 5, 6, 6}, {5, 6, 7, 8})"
   ]
  },
  {
   "cell_type": "code",
   "execution_count": 159,
   "id": "f54c4d56",
   "metadata": {},
   "outputs": [
    {
     "data": {
      "text/plain": [
       "3"
      ]
     },
     "execution_count": 159,
     "metadata": {},
     "output_type": "execute_result"
    }
   ],
   "source": [
    "find_number_of_differences({1, 3, 5, 7, 9}, {2, 3, 5, 7})"
   ]
  },
  {
   "cell_type": "code",
   "execution_count": 160,
   "id": "e8e6aa86",
   "metadata": {},
   "outputs": [
    {
     "data": {
      "text/plain": [
       "0"
      ]
     },
     "execution_count": 160,
     "metadata": {},
     "output_type": "execute_result"
    }
   ],
   "source": [
    "find_number_of_differences({1, 3, 5, 7, 9}, {1, 3, 5, 7, 9})"
   ]
  },
  {
   "cell_type": "code",
   "execution_count": 161,
   "id": "fbd97760",
   "metadata": {},
   "outputs": [
    {
     "data": {
      "text/plain": [
       "10"
      ]
     },
     "execution_count": 161,
     "metadata": {},
     "output_type": "execute_result"
    }
   ],
   "source": [
    "find_number_of_differences({1, 3, 5, 7, 9}, {2, 4, 6, 8, 10})"
   ]
  }
 ],
 "metadata": {
  "kernelspec": {
   "display_name": "Python 3 (ipykernel)",
   "language": "python",
   "name": "python3"
  },
  "language_info": {
   "codemirror_mode": {
    "name": "ipython",
    "version": 3
   },
   "file_extension": ".py",
   "mimetype": "text/x-python",
   "name": "python",
   "nbconvert_exporter": "python",
   "pygments_lexer": "ipython3",
   "version": "3.9.13"
  }
 },
 "nbformat": 4,
 "nbformat_minor": 5
}
