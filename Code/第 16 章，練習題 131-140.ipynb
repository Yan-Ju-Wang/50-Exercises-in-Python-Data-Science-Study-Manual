{
 "cells": [
  {
   "cell_type": "markdown",
   "id": "heated-welding",
   "metadata": {
    "deletable": false
   },
   "source": [
    "# Python 的 50+ 練習：資料科學學習手冊\n",
    "\n",
    "> 文字資料操作\n",
    "\n",
    "[數據交點](https://www.datainpoint.com) | 郭耀仁 <yaojenkuo@datainpoint.com>"
   ]
  },
  {
   "cell_type": "markdown",
   "id": "fleet-tokyo",
   "metadata": {
    "deletable": false
   },
   "source": [
    "## 練習題指引\n",
    "\n",
    "- 練習題閒置超過 10 分鐘會自動斷線，只要重新點選練習題連結即可重新啟動。\n",
    "- 第一個程式碼儲存格會將可能用得到的模組載入。\n",
    "- 如果練習題需要載入檔案，檔案存放絕對路徑為 `/home/jovyan/data`\n",
    "- 練習題已經給定函數、類別、預期輸入或參數名稱，我們只需要寫作程式區塊。同時也給定函數的類別提示，說明預期輸入以及預期輸出的類別。\n",
    "- 說明（Docstring）會描述測試如何進行，閱讀說明能夠暸解預期輸入以及預期輸出之間的關係，幫助我們更快解題。\n",
    "- 請在 `### BEGIN SOLUTION` 與 `### END SOLUTION` 這兩個註解之間寫作函數或者類別的程式區塊。\n",
    "- 將預期輸出放置在 `return` 保留字之後，若只是用 `print()` 函數將預期輸出印出無法通過測試。\n",
    "- 語法錯誤（`SyntaxError`）或縮排錯誤（`IndentationError`）等將會導致測試失效，測試之前應該先在筆記本使用函數觀察是否與說明（Docstring）描述的功能相符。\n",
    "- 如果卡關，可以先看練習題詳解或者複習課程單元影片之後再繼續寫作。\n",
    "- 執行測試的步驟：\n",
    "    1. 點選上方選單的 File -> Save Notebook 儲存 exercises.ipynb。\n",
    "    2. 點選上方選單的 File -> New -> Terminal 開啟終端機。\n",
    "    3. 在終端機輸入 `python 16-working-with-text/test_runner.py` 後按下 Enter 執行測試。"
   ]
  },
  {
   "cell_type": "code",
   "execution_count": 1,
   "id": "collected-norwegian",
   "metadata": {},
   "outputs": [],
   "source": [
    "import re\n",
    "import numpy as np\n",
    "import pandas as pd"
   ]
  },
  {
   "cell_type": "markdown",
   "id": "touched-discharge",
   "metadata": {},
   "source": [
    "## 131. 轉換英文字母為 ASCII 整數\n",
    "\n",
    "定義函數 `convert_character_to_int()` 將輸入的英文子母轉換為 ASCII 整數。\n",
    "\n",
    "來源：<https://en.wikipedia.org/wiki/ASCII>\n",
    "\n",
    "- 使用內建函數 `ord()` <https://docs.python.org/3/library/functions.html#ord>\n",
    "- 將預期輸出寫在 `return` 之後。"
   ]
  },
  {
   "cell_type": "code",
   "execution_count": 3,
   "id": "28fa5ed2",
   "metadata": {},
   "outputs": [],
   "source": [
    "def convert_character_to_int(x: str) -> int:\n",
    "    \"\"\"\n",
    "    >>> convert_character_to_int(\"A\")\n",
    "    65\n",
    "    >>> convert_character_to_int(\"M\")\n",
    "    77\n",
    "    >>> convert_character_to_int(\"N\")\n",
    "    78\n",
    "    >>> convert_character_to_int(\"Z\")\n",
    "    90\n",
    "    >>> convert_character_to_int(\"a\")\n",
    "    97\n",
    "    >>> convert_character_to_int(\"m\")\n",
    "    109\n",
    "    >>> convert_character_to_int(\"n\")\n",
    "    110\n",
    "    >>> convert_character_to_int(\"z\")\n",
    "    122\n",
    "    \"\"\"\n",
    "    ### BEGIN SOLUTION\n",
    "    return ord(x)\n",
    "    ### END SOLUTION"
   ]
  },
  {
   "cell_type": "code",
   "execution_count": 11,
   "id": "00d33436",
   "metadata": {},
   "outputs": [
    {
     "data": {
      "text/plain": [
       "122"
      ]
     },
     "execution_count": 11,
     "metadata": {},
     "output_type": "execute_result"
    }
   ],
   "source": [
    "convert_character_to_int(\"A\")\n",
    "convert_character_to_int(\"M\")\n",
    "convert_character_to_int(\"N\")\n",
    "convert_character_to_int(\"Z\")\n",
    "convert_character_to_int(\"a\")\n",
    "convert_character_to_int(\"m\")\n",
    "convert_character_to_int(\"n\")\n",
    "convert_character_to_int(\"z\")"
   ]
  },
  {
   "cell_type": "markdown",
   "id": "52e8eef7",
   "metadata": {},
   "source": [
    "## 132. 轉換整數為英文字母\n",
    "\n",
    "定義函數 `convert_int_to_character()` 將輸入介於 65 到 90、97 到 122 之間的整數轉換為英文字母。\n",
    "\n",
    "來源：<https://en.wikipedia.org/wiki/ASCII>\n",
    "\n",
    "- 使用內建函數 `chr()` <https://docs.python.org/3/library/functions.html#chr>\n",
    "- 將預期輸出寫在 `return` 之後。"
   ]
  },
  {
   "cell_type": "code",
   "execution_count": 13,
   "id": "59aa04a2",
   "metadata": {},
   "outputs": [],
   "source": [
    "def convert_int_to_character(x: int) -> str:\n",
    "    \"\"\"\n",
    "    >>> convert_int_to_character(65)\n",
    "    'A'\n",
    "    >>> convert_int_to_character(77)\n",
    "    'M'\n",
    "    >>> convert_int_to_character(78)\n",
    "    'N'\n",
    "    >>> convert_int_to_character(90)\n",
    "    'Z'\n",
    "    >>> convert_int_to_character(97)\n",
    "    'a'\n",
    "    >>> convert_int_to_character(109)\n",
    "    'm'\n",
    "    >>> convert_int_to_character(110)\n",
    "    'n'\n",
    "    >>> convert_int_to_character(122)\n",
    "    'z'\n",
    "    \"\"\"\n",
    "    ### BEGIN SOLUTION\n",
    "    return chr(x)\n",
    "    ### END SOLUTION"
   ]
  },
  {
   "cell_type": "code",
   "execution_count": 22,
   "id": "28961631",
   "metadata": {},
   "outputs": [
    {
     "data": {
      "text/plain": [
       "'z'"
      ]
     },
     "execution_count": 22,
     "metadata": {},
     "output_type": "execute_result"
    }
   ],
   "source": [
    "convert_int_to_character(65)\n",
    "convert_int_to_character(77)\n",
    "convert_int_to_character(78)\n",
    "convert_int_to_character(90)\n",
    "convert_int_to_character(97)\n",
    "convert_int_to_character(109)\n",
    "convert_int_to_character(110)\n",
    "convert_int_to_character(122)"
   ]
  },
  {
   "cell_type": "markdown",
   "id": "ff7542d3",
   "metadata": {},
   "source": [
    "## 133. 使用 ROT13 轉換英文字母\n",
    "\n",
    "定義函數 `rot13_character()` 將輸入的英文字母用 ROT13（迴轉 13 位）的規則轉換。\n",
    "\n",
    "![](ROT13.png)\n",
    "\n",
    "來源：<https://en.wikipedia.org/wiki/ROT13>\n",
    "\n",
    "- 使用內建函數 `ord()` <https://docs.python.org/3/library/functions.html#ord>\n",
    "- 使用內建函數 `chr()` <https://docs.python.org/3/library/functions.html#chr>\n",
    "- 運用條件敘述。\n",
    "- 運用數值運算符。\n",
    "- 將預期輸出寫在 `return` 之後。"
   ]
  },
  {
   "cell_type": "code",
   "execution_count": 29,
   "id": "75305479",
   "metadata": {},
   "outputs": [],
   "source": [
    "def rot13_character(x: str) -> str:\n",
    "    \"\"\"\n",
    "    >>> rot13_character(\"A\")\n",
    "    'N'\n",
    "    >>> rot13_character(\"M\")\n",
    "    'Z'\n",
    "    >>> rot13_character(\"N\")\n",
    "    'A'\n",
    "    >>> rot13_character(\"Z\")\n",
    "    'M'\n",
    "    >>> rot13_character(\"a\")\n",
    "    'n'\n",
    "    >>> rot13_character(\"m\")\n",
    "    'z'\n",
    "    >>> rot13_character(\"n\")\n",
    "    'a'\n",
    "    >>> rot13_character(\"z\")\n",
    "    'm'\n",
    "    >>> rot13_character(\"!\")\n",
    "    '!'\n",
    "    >>> rot13_character(\"*\")\n",
    "    '*'\n",
    "    \"\"\"\n",
    "    ### BEGIN SOLUTION\n",
    "    ord_x = ord(x)\n",
    "    condition_A_M = 65 <= ord_x <= 77\n",
    "    condition_N_Z = 78 <= ord_x <= 90\n",
    "    condition_a_m = 97 <= ord_x <= 109\n",
    "    condition_n_z = 110 <= ord_x <= 122\n",
    "    if condition_A_M or condition_a_m:\n",
    "        ord_x += 13\n",
    "        return chr(ord_x)\n",
    "    elif condition_N_Z or condition_n_z:\n",
    "        ord_x -= 13\n",
    "        return chr(ord_x)\n",
    "    else:\n",
    "        return x\n",
    "    ### END SOLUTION"
   ]
  },
  {
   "cell_type": "code",
   "execution_count": 39,
   "id": "eb817d30",
   "metadata": {},
   "outputs": [
    {
     "data": {
      "text/plain": [
       "'*'"
      ]
     },
     "execution_count": 39,
     "metadata": {},
     "output_type": "execute_result"
    }
   ],
   "source": [
    "rot13_character(\"A\")\n",
    "rot13_character(\"M\")\n",
    "rot13_character(\"N\")\n",
    "rot13_character(\"Z\")\n",
    "rot13_character(\"a\")\n",
    "rot13_character(\"m\")\n",
    "rot13_character(\"n\")\n",
    "rot13_character(\"z\")\n",
    "rot13_character(\"!\")\n",
    "rot13_character(\"*\")"
   ]
  },
  {
   "cell_type": "code",
   "execution_count": 28,
   "id": "c6fff6f5",
   "metadata": {},
   "outputs": [],
   "source": [
    "# help(ord)\n",
    "# help(chr)"
   ]
  },
  {
   "cell_type": "markdown",
   "id": "92878e8c",
   "metadata": {},
   "source": [
    "## 134. 使用 ROT13 轉換英文句子\n",
    "\n",
    "定義函數 `rot13_sentence()` 將輸入的英文句子用 ROT13（迴轉 13 位）的規則轉換。\n",
    "\n",
    "![](ROT13.png)\n",
    "\n",
    "來源：<https://en.wikipedia.org/wiki/ROT13>\n",
    "\n",
    "- 使用 `rot13_character()`\n",
    "- 運用迴圈。\n",
    "- 將預期輸出寫在 `return` 之後。"
   ]
  },
  {
   "cell_type": "code",
   "execution_count": 43,
   "id": "12952106",
   "metadata": {},
   "outputs": [],
   "source": [
    "def rot13_sentence(x: str) -> str:\n",
    "    \"\"\"\n",
    "    >>> rot13_sentence(\"Gur Mra bs Clguba, ol Gvz Crgref\")\n",
    "    'The Zen of Python, by Tim Peters'\n",
    "    >>> rot13_sentence(\"The Zen of Python, by Tim Peters\")\n",
    "    'Gur Mra bs Clguba, ol Gvz Crgref'\n",
    "    >>> rot13_sentence(\"Abj vf orggre guna arire.\")\n",
    "    'Now is better than never.'\n",
    "    >>> rot13_sentence(\"Now is better than never.\")\n",
    "    'Abj vf orggre guna arire.'\n",
    "    >>> rot13_sentence(\"Nygubhtu arire vf bsgra orggre guna *evtug* abj.\")\n",
    "    'Although never is often better than *right* now.'\n",
    "    >>> rot13_sentence(\"Although never is often better than *right* now.\")\n",
    "    'Nygubhtu arire vf bsgra orggre guna *evtug* abj.'\n",
    "    \"\"\"\n",
    "    ### BEGIN SOLUTION\n",
    "    rotated_list = []\n",
    "    for character in x:\n",
    "        rotated_character = rot13_character(character)\n",
    "        rotated_list.append(rotated_character)\n",
    "    return \"\".join(rotated_list)\n",
    "    ### END SOLUTION"
   ]
  },
  {
   "cell_type": "code",
   "execution_count": 49,
   "id": "84df192a",
   "metadata": {},
   "outputs": [
    {
     "data": {
      "text/plain": [
       "'Nygubhtu arire vf bsgra orggre guna *evtug* abj.'"
      ]
     },
     "execution_count": 49,
     "metadata": {},
     "output_type": "execute_result"
    }
   ],
   "source": [
    "rot13_sentence(\"Gur Mra bs Clguba, ol Gvz Crgref\")\n",
    "rot13_sentence(\"The Zen of Python, by Tim Peters\")\n",
    "rot13_sentence(\"Abj vf orggre guna arire.\")\n",
    "rot13_sentence(\"Now is better than never.\")\n",
    "rot13_sentence(\"Nygubhtu arire vf bsgra orggre guna *evtug* abj.\")\n",
    "rot13_sentence(\"Although never is often better than *right* now.\")"
   ]
  },
  {
   "cell_type": "markdown",
   "id": "e351910c",
   "metadata": {},
   "source": [
    "## 135. 使用 ROT13 轉換 Python 禪學（Zen of Python）\n",
    "\n",
    "定義函數 `rot13_zen_of_python()` 將位於 `/home/jovyan/data` 路徑的 `thispy.txt` 用 ROT13（迴轉 13 位）的規則轉換。\n",
    "\n",
    "![](ROT13.png)\n",
    "\n",
    "來源：<https://en.wikipedia.org/wiki/ROT13>\n",
    "\n",
    "- 使用 `rot13_sentence()`\n",
    "- 運用 `with` 敘述。\n",
    "- 使用 `open()` 函數。\n",
    "- 運用絕對路徑。\n",
    "- 使用 `TextIOWrapper.readlines()`\n",
    "- 運用迴圈。\n",
    "- 使用 `str.strip()`\n",
    "- 將預期輸出寫在 `return` 之後。"
   ]
  },
  {
   "cell_type": "code",
   "execution_count": 65,
   "id": "3bbe6179",
   "metadata": {},
   "outputs": [],
   "source": [
    "def rot13_zen_of_python() -> list:\n",
    "    \"\"\"\n",
    "    >>> zen_of_python = rot13_zen_of_python()\n",
    "    >>> type(zen_of_python)\n",
    "    list\n",
    "    >>> \"Now is better than never.\" in zen_of_python\n",
    "    True\n",
    "    >>> \"Although never is often better than *right* now.\" in zen_of_python\n",
    "    True\n",
    "    \"\"\"\n",
    "    ### BEGIN SOLUTION\n",
    "    file_path = \"C:\\\\Users\\\\Yan-Ju-Wang\\\\Python_Hahow\\\\thispy.txt\"\n",
    "    \n",
    "    with open(file_path) as file:\n",
    "        thispy_list = file.readlines()\n",
    "        \n",
    "    output_list = []\n",
    "    for element in thispy_list:\n",
    "        output_list.append(rot13_sentence(element).strip())\n",
    "    \n",
    "    return output_list\n",
    "    ### END SOLUTION"
   ]
  },
  {
   "cell_type": "code",
   "execution_count": 68,
   "id": "9413e1ac",
   "metadata": {},
   "outputs": [
    {
     "data": {
      "text/plain": [
       "True"
      ]
     },
     "execution_count": 68,
     "metadata": {},
     "output_type": "execute_result"
    }
   ],
   "source": [
    "zen_of_python = rot13_zen_of_python()\n",
    "type(zen_of_python)\n",
    "\"Now is better than never.\" in zen_of_python\n",
    "\"Although never is often better than *right* now.\" in zen_of_python"
   ]
  },
  {
   "cell_type": "markdown",
   "id": "1f3bff68",
   "metadata": {},
   "source": [
    "## 136. 取代文字中的星號\n",
    "\n",
    "定義函數 `replace_strs_asterisks()` 將文字中的 `*` 取代。\n",
    "\n",
    "- 使用 `str.replace()`\n",
    "- 將預期輸出寫在 `return` 之後。"
   ]
  },
  {
   "cell_type": "code",
   "execution_count": 75,
   "id": "957a2823",
   "metadata": {},
   "outputs": [],
   "source": [
    "def replace_strs_asterisks(x: str) -> str:\n",
    "    \"\"\"\n",
    "    >>> replace_strs_asterisks(\"Taiwan*\")\n",
    "    'Taiwan'\n",
    "    >>> replace_strs_asterisks(\"Crimea Republic*\")\n",
    "    'Crimea Republic'\n",
    "    >>> replace_strs_asterisks(\"Crimea Republic*, Ukraine\")\n",
    "    'Crimea Republic, Ukraine'\n",
    "    >>> replace_strs_asterisks(\"Sevastopol*\")\n",
    "    'Sevastopol'\n",
    "    >>> replace_strs_asterisks(\"Sevastopol*, Ukraine\")\n",
    "    'Sevastopol, Ukraine'\n",
    "    \"\"\"\n",
    "    ### BEGIN SOLUTION\n",
    "    return x.replace(\"*\", \"\")\n",
    "    ### END SOLUTION"
   ]
  },
  {
   "cell_type": "code",
   "execution_count": 80,
   "id": "c2f5d63a",
   "metadata": {},
   "outputs": [
    {
     "data": {
      "text/plain": [
       "'Sevastopol, Ukraine'"
      ]
     },
     "execution_count": 80,
     "metadata": {},
     "output_type": "execute_result"
    }
   ],
   "source": [
    "replace_strs_asterisks(\"Taiwan*\")\n",
    "replace_strs_asterisks(\"Crimea Republic*\")\n",
    "replace_strs_asterisks(\"Crimea Republic*, Ukraine\")\n",
    "replace_strs_asterisks(\"Sevastopol*\")\n",
    "replace_strs_asterisks(\"Sevastopol*, Ukraine\")"
   ]
  },
  {
   "cell_type": "code",
   "execution_count": 74,
   "id": "1d84979a",
   "metadata": {
    "scrolled": true
   },
   "outputs": [],
   "source": [
    "# help(str.replace)"
   ]
  },
  {
   "cell_type": "markdown",
   "id": "e3a4be35",
   "metadata": {},
   "source": [
    "## 137. 載入 `UID_ISO_FIPS_LookUp_Table.csv`\n",
    "\n",
    "定義函數 `import_lookup_table()` 將位於 `/home/jovyan/data/covid19` 路徑的 `UID_ISO_FIPS_LookUp_Table.csv` 載入為一個 `DataFrame`\n",
    "\n",
    "來源：<https://github.com/CSSEGISandData/COVID-19/tree/master/csse_covid_19_data>\n",
    "\n",
    "- 使用絕對路徑。\n",
    "- 使用 `pd.read_csv()` 函數。\n",
    "- 將預期輸出寫在 `return` 之後。"
   ]
  },
  {
   "cell_type": "code",
   "execution_count": 82,
   "id": "0fab7e74",
   "metadata": {},
   "outputs": [],
   "source": [
    "def import_lookup_table() -> pd.core.frame.DataFrame:\n",
    "    \"\"\"\n",
    "    >>> lookup_table = import_lookup_table()\n",
    "    >>> type(lookup_table)\n",
    "    pandas.core.frame.DataFrame\n",
    "    >>> lookup_table.shape\n",
    "    (4215, 12)\n",
    "    \"\"\"\n",
    "    ### BEGIN SOLUTION\n",
    "    file_path = \"C:\\\\Users\\\\Yan-Ju-Wang\\\\Python_Hahow\\\\covid19\\\\UID_ISO_FIPS_LookUp_Table.csv\"\n",
    "    with open(file_path) as file:\n",
    "        return pd.read_csv(file)\n",
    "    ### END SOLUTION"
   ]
  },
  {
   "cell_type": "code",
   "execution_count": 84,
   "id": "d768e7f1",
   "metadata": {},
   "outputs": [
    {
     "data": {
      "text/plain": [
       "(4215, 12)"
      ]
     },
     "execution_count": 84,
     "metadata": {},
     "output_type": "execute_result"
    }
   ],
   "source": [
    "lookup_table = import_lookup_table()\n",
    "type(lookup_table)\n",
    "lookup_table.shape"
   ]
  },
  {
   "cell_type": "markdown",
   "id": "fbb33f99",
   "metadata": {},
   "source": [
    "## 138. 篩選台灣、克里米亞共和國與塞瓦斯托波爾\n",
    "\n",
    "定義函數 `import_lookup_table()` 將位於 `/home/jovyan/data/covid19` 路徑的 `UID_ISO_FIPS_LookUp_Table.csv` 中的台灣、克里米亞共和國與塞瓦斯托波爾篩選出來。\n",
    "\n",
    "來源：<https://github.com/CSSEGISandData/COVID-19/tree/master/csse_covid_19_data>\n",
    "\n",
    "- 使用 `import_lookup_table()` 函數。\n",
    "- 運用篩選觀測值的技巧。\n",
    "- 將預期輸出寫在 `return` 之後。"
   ]
  },
  {
   "cell_type": "code",
   "execution_count": 88,
   "id": "1408375d",
   "metadata": {},
   "outputs": [],
   "source": [
    "def filter_taiwan_crimea_sevastopol() -> pd.core.frame.DataFrame:\n",
    "    \"\"\"\n",
    "    >>> taiwan_crimea_sevastopol = filter_taiwan_crimea_sevastopol()\n",
    "    >>> type(taiwan_crimea_sevastopol)\n",
    "    pandas.core.frame.DataFrame\n",
    "    >>> taiwan_crimea_sevastopol.shape\n",
    "    (3, 12)\n",
    "    >>> taiwan_crimea_sevastopol\n",
    "           UID iso2 iso3  code3  FIPS Admin2    Province_State Country_Region  \\\n",
    "    680    158   TW  TWN  158.0   NaN    NaN               NaN        Taiwan*   \n",
    "    695  80404   UA  UKR  804.0   NaN    NaN  Crimea Republic*        Ukraine   \n",
    "    711  80420   UA  UKR  804.0   NaN    NaN       Sevastopol*        Ukraine   \n",
    "\n",
    "             Lat     Long_               Combined_Key  Population  \n",
    "    680  23.7000  121.0000                    Taiwan*  23816775.0  \n",
    "    695  45.2835   34.2008  Crimea Republic*, Ukraine   1913731.0  \n",
    "    711  44.6054   33.5220       Sevastopol*, Ukraine    443211.0 \n",
    "    \"\"\"\n",
    "    ### BEGIN SOLUTION\n",
    "    lookup_table = import_lookup_table()\n",
    "    condition_taiwan = lookup_table[\"Combined_Key\"] == \"Taiwan*\"\n",
    "    condition_Crimea = lookup_table[\"Combined_Key\"] == \"Crimea Republic*, Ukraine\"\n",
    "    condition_Sevastopol = lookup_table[\"Combined_Key\"] == \"Sevastopol*, Ukraine\"\n",
    "    output_dataframe = lookup_table[condition_taiwan | condition_Crimea | condition_Sevastopol]\n",
    "    return output_dataframe\n",
    "    ### END SOLUTION"
   ]
  },
  {
   "cell_type": "code",
   "execution_count": 91,
   "id": "a9004ff5",
   "metadata": {},
   "outputs": [
    {
     "data": {
      "text/html": [
       "<div>\n",
       "<style scoped>\n",
       "    .dataframe tbody tr th:only-of-type {\n",
       "        vertical-align: middle;\n",
       "    }\n",
       "\n",
       "    .dataframe tbody tr th {\n",
       "        vertical-align: top;\n",
       "    }\n",
       "\n",
       "    .dataframe thead th {\n",
       "        text-align: right;\n",
       "    }\n",
       "</style>\n",
       "<table border=\"1\" class=\"dataframe\">\n",
       "  <thead>\n",
       "    <tr style=\"text-align: right;\">\n",
       "      <th></th>\n",
       "      <th>UID</th>\n",
       "      <th>iso2</th>\n",
       "      <th>iso3</th>\n",
       "      <th>code3</th>\n",
       "      <th>FIPS</th>\n",
       "      <th>Admin2</th>\n",
       "      <th>Province_State</th>\n",
       "      <th>Country_Region</th>\n",
       "      <th>Lat</th>\n",
       "      <th>Long_</th>\n",
       "      <th>Combined_Key</th>\n",
       "      <th>Population</th>\n",
       "    </tr>\n",
       "  </thead>\n",
       "  <tbody>\n",
       "    <tr>\n",
       "      <th>680</th>\n",
       "      <td>158</td>\n",
       "      <td>TW</td>\n",
       "      <td>TWN</td>\n",
       "      <td>158.0</td>\n",
       "      <td>NaN</td>\n",
       "      <td>NaN</td>\n",
       "      <td>NaN</td>\n",
       "      <td>Taiwan*</td>\n",
       "      <td>23.7000</td>\n",
       "      <td>121.0000</td>\n",
       "      <td>Taiwan*</td>\n",
       "      <td>23816775.0</td>\n",
       "    </tr>\n",
       "    <tr>\n",
       "      <th>695</th>\n",
       "      <td>80404</td>\n",
       "      <td>UA</td>\n",
       "      <td>UKR</td>\n",
       "      <td>804.0</td>\n",
       "      <td>NaN</td>\n",
       "      <td>NaN</td>\n",
       "      <td>Crimea Republic*</td>\n",
       "      <td>Ukraine</td>\n",
       "      <td>45.2835</td>\n",
       "      <td>34.2008</td>\n",
       "      <td>Crimea Republic*, Ukraine</td>\n",
       "      <td>1913731.0</td>\n",
       "    </tr>\n",
       "    <tr>\n",
       "      <th>711</th>\n",
       "      <td>80420</td>\n",
       "      <td>UA</td>\n",
       "      <td>UKR</td>\n",
       "      <td>804.0</td>\n",
       "      <td>NaN</td>\n",
       "      <td>NaN</td>\n",
       "      <td>Sevastopol*</td>\n",
       "      <td>Ukraine</td>\n",
       "      <td>44.6054</td>\n",
       "      <td>33.5220</td>\n",
       "      <td>Sevastopol*, Ukraine</td>\n",
       "      <td>443211.0</td>\n",
       "    </tr>\n",
       "  </tbody>\n",
       "</table>\n",
       "</div>"
      ],
      "text/plain": [
       "       UID iso2 iso3  code3  FIPS Admin2    Province_State Country_Region  \\\n",
       "680    158   TW  TWN  158.0   NaN    NaN               NaN        Taiwan*   \n",
       "695  80404   UA  UKR  804.0   NaN    NaN  Crimea Republic*        Ukraine   \n",
       "711  80420   UA  UKR  804.0   NaN    NaN       Sevastopol*        Ukraine   \n",
       "\n",
       "         Lat     Long_               Combined_Key  Population  \n",
       "680  23.7000  121.0000                    Taiwan*  23816775.0  \n",
       "695  45.2835   34.2008  Crimea Republic*, Ukraine   1913731.0  \n",
       "711  44.6054   33.5220       Sevastopol*, Ukraine    443211.0  "
      ]
     },
     "execution_count": 91,
     "metadata": {},
     "output_type": "execute_result"
    }
   ],
   "source": [
    "taiwan_crimea_sevastopol = filter_taiwan_crimea_sevastopol()\n",
    "type(taiwan_crimea_sevastopol)\n",
    "taiwan_crimea_sevastopol.shape\n",
    "taiwan_crimea_sevastopol"
   ]
  },
  {
   "cell_type": "markdown",
   "id": "95001300",
   "metadata": {},
   "source": [
    "## 139. 取代 `Series` 中的星號\n",
    "\n",
    "定義函數 `replace_series_asterisks()` 將 `Series` 中的 `*` 取代。\n",
    "\n",
    "- 使用 `Series.str.replace()`。\n",
    "- 如果指定參數 `regex=True` 要注意 `*` 是正規表達式的特殊字元。\n",
    "- 將預期輸出寫在 `return` 之後。"
   ]
  },
  {
   "cell_type": "code",
   "execution_count": 102,
   "id": "f98d706a",
   "metadata": {},
   "outputs": [],
   "source": [
    "def replace_series_asterisks(x: pd.core.series.Series) -> pd.core.series.Series:\n",
    "    \"\"\"\n",
    "    >>> province_states = pd.Series([np.nan, \"Crimea Republic*\", \"Sevastopol*\"])\n",
    "    >>> replace_series_asterisks(province_states)\n",
    "    0                NaN\n",
    "    1    Crimea Republic\n",
    "    2         Sevastopol\n",
    "    dtype: object\n",
    "    >>> country_regions = pd.Series([\"Taiwan*\", \"Ukraine\", \"Ukraine\"])\n",
    "    >>> replace_series_asterisks(country_regions)\n",
    "    0     Taiwan\n",
    "    1    Ukraine\n",
    "    2    Ukraine\n",
    "    dtype: object\n",
    "    >>> combined_keys = pd.Series([\"Taiwan*\", \"Crimea Republic*, Ukraine\", \"Sevastopol*, Ukraine\"])\n",
    "    >>> replace_series_asterisks(combined_keys)\n",
    "    0                      Taiwan\n",
    "    1    Crimea Republic, Ukraine\n",
    "    2         Sevastopol, Ukraine\n",
    "    dtype: object\n",
    "    \"\"\"\n",
    "    ### BEGIN SOLUTION\n",
    "    return x.str.replace(\"*\", \"\", regex=True)\n",
    "    ### END SOLUTION"
   ]
  },
  {
   "cell_type": "code",
   "execution_count": 105,
   "id": "af5e15ab",
   "metadata": {},
   "outputs": [
    {
     "data": {
      "text/plain": [
       "0                      Taiwan\n",
       "1    Crimea Republic, Ukraine\n",
       "2         Sevastopol, Ukraine\n",
       "dtype: object"
      ]
     },
     "execution_count": 105,
     "metadata": {},
     "output_type": "execute_result"
    }
   ],
   "source": [
    "province_states = pd.Series([np.nan, \"Crimea Republic*\", \"Sevastopol*\"])\n",
    "replace_series_asterisks(province_states)\n",
    "country_regions = pd.Series([\"Taiwan*\", \"Ukraine\", \"Ukraine\"])\n",
    "replace_series_asterisks(country_regions)\n",
    "combined_keys = pd.Series([\"Taiwan*\", \"Crimea Republic*, Ukraine\", \"Sevastopol*, Ukraine\"])\n",
    "replace_series_asterisks(combined_keys)"
   ]
  },
  {
   "cell_type": "markdown",
   "id": "e26ca215",
   "metadata": {},
   "source": [
    "## 140. 輸出沒有星號的 `lookup_table.csv`\n",
    "\n",
    "定義函數 `export_lookup_table()` 將位於 `/home/jovyan/data/covid19` 路徑的 `UID_ISO_FIPS_LookUp_Table.csv` 載入後，取代 `Province_State`、`Country_Region` 與 `Combined_Key` 欄位中的星號後，在工作目錄輸出 `lookup_table.csv`\n",
    "\n",
    "來源：<https://github.com/CSSEGISandData/COVID-19/tree/master/csse_covid_19_data>\n",
    "\n",
    "- 使用 `import_lookup_table()` 函數。\n",
    "- 使用 `replace_series_asterisks()` 函數。\n",
    "- 運用 `DataFrame.to_csv(\"lookup_table.csv\", index=False)` 在工作目錄輸出 `DataFrame` 為 `lookup_table.csv`"
   ]
  },
  {
   "cell_type": "code",
   "execution_count": 113,
   "id": "c01bf411",
   "metadata": {},
   "outputs": [],
   "source": [
    "def export_lookup_table() -> None:\n",
    "    \"\"\"\n",
    "    >>> export_lookup_table()\n",
    "    >>> lookup_table = pd.read_csv(\"lookup_table.csv\")\n",
    "    >>> condition = lookup_table[\"Combined_Key\"].isin([\"Taiwan\", \"Crimea Republic, Ukraine\", \"Sevastopol, Ukraine\"])\n",
    "    >>> lookup_table[condition]\n",
    "           UID iso2 iso3  code3  FIPS Admin2   Province_State Country_Region  \\\n",
    "    680    158   TW  TWN  158.0   NaN    NaN              NaN         Taiwan   \n",
    "    695  80404   UA  UKR  804.0   NaN    NaN  Crimea Republic        Ukraine   \n",
    "    711  80420   UA  UKR  804.0   NaN    NaN       Sevastopol        Ukraine   \n",
    "\n",
    "             Lat     Long_              Combined_Key  Population  \n",
    "    680  23.7000  121.0000                    Taiwan  23816775.0  \n",
    "    695  45.2835   34.2008  Crimea Republic, Ukraine   1913731.0  \n",
    "    711  44.6054   33.5220       Sevastopol, Ukraine    443211.0\n",
    "    \"\"\"\n",
    "    ### BEGIN SOLUTION\n",
    "    lookup_table = import_lookup_table()\n",
    "    replace_Province_State = replace_series_asterisks(lookup_table[\"Province_State\"])\n",
    "    replace_Country_Region = replace_series_asterisks(lookup_table[\"Country_Region\"])\n",
    "    replace_Combined_Key = replace_series_asterisks(lookup_table[\"Combined_Key\"])\n",
    "    export_dataframe = pd.DataFrame()\n",
    "    export_dataframe[\"UID\"] = lookup_table[\"UID\"]\n",
    "    export_dataframe[\"iso2\"] = lookup_table[\"iso2\"]\n",
    "    export_dataframe[\"iso3\"] = lookup_table[\"iso3\"]\n",
    "    export_dataframe[\"code3\"] = lookup_table[\"code3\"]\n",
    "    export_dataframe[\"FIPS\"] = lookup_table[\"FIPS\"]\n",
    "    export_dataframe[\"Admin2\"] = lookup_table[\"Admin2\"]\n",
    "    export_dataframe[\"Province_State\"] = replace_Province_State\n",
    "    export_dataframe[\"Country_Region\"] = replace_Country_Region\n",
    "    export_dataframe[\"Lat\"] = lookup_table[\"Lat\"]\n",
    "    export_dataframe[\"Long_\"] = lookup_table[\"Long_\"]\n",
    "    export_dataframe[\"Combined_Key\"] = replace_Combined_Key\n",
    "    export_dataframe[\"Population\"] = lookup_table[\"Population\"]\n",
    "    export_dataframe.to_csv(\"lookup_table.csv\", index=False)\n",
    "    ### END SOLUTION"
   ]
  },
  {
   "cell_type": "code",
   "execution_count": 114,
   "id": "0b09a600",
   "metadata": {},
   "outputs": [
    {
     "data": {
      "text/html": [
       "<div>\n",
       "<style scoped>\n",
       "    .dataframe tbody tr th:only-of-type {\n",
       "        vertical-align: middle;\n",
       "    }\n",
       "\n",
       "    .dataframe tbody tr th {\n",
       "        vertical-align: top;\n",
       "    }\n",
       "\n",
       "    .dataframe thead th {\n",
       "        text-align: right;\n",
       "    }\n",
       "</style>\n",
       "<table border=\"1\" class=\"dataframe\">\n",
       "  <thead>\n",
       "    <tr style=\"text-align: right;\">\n",
       "      <th></th>\n",
       "      <th>UID</th>\n",
       "      <th>iso2</th>\n",
       "      <th>iso3</th>\n",
       "      <th>code3</th>\n",
       "      <th>FIPS</th>\n",
       "      <th>Admin2</th>\n",
       "      <th>Province_State</th>\n",
       "      <th>Country_Region</th>\n",
       "      <th>Lat</th>\n",
       "      <th>Long_</th>\n",
       "      <th>Combined_Key</th>\n",
       "      <th>Population</th>\n",
       "    </tr>\n",
       "  </thead>\n",
       "  <tbody>\n",
       "    <tr>\n",
       "      <th>680</th>\n",
       "      <td>158</td>\n",
       "      <td>TW</td>\n",
       "      <td>TWN</td>\n",
       "      <td>158.0</td>\n",
       "      <td>NaN</td>\n",
       "      <td>NaN</td>\n",
       "      <td>NaN</td>\n",
       "      <td>Taiwan</td>\n",
       "      <td>23.7000</td>\n",
       "      <td>121.0000</td>\n",
       "      <td>Taiwan</td>\n",
       "      <td>23816775.0</td>\n",
       "    </tr>\n",
       "    <tr>\n",
       "      <th>695</th>\n",
       "      <td>80404</td>\n",
       "      <td>UA</td>\n",
       "      <td>UKR</td>\n",
       "      <td>804.0</td>\n",
       "      <td>NaN</td>\n",
       "      <td>NaN</td>\n",
       "      <td>Crimea Republic</td>\n",
       "      <td>Ukraine</td>\n",
       "      <td>45.2835</td>\n",
       "      <td>34.2008</td>\n",
       "      <td>Crimea Republic, Ukraine</td>\n",
       "      <td>1913731.0</td>\n",
       "    </tr>\n",
       "    <tr>\n",
       "      <th>711</th>\n",
       "      <td>80420</td>\n",
       "      <td>UA</td>\n",
       "      <td>UKR</td>\n",
       "      <td>804.0</td>\n",
       "      <td>NaN</td>\n",
       "      <td>NaN</td>\n",
       "      <td>Sevastopol</td>\n",
       "      <td>Ukraine</td>\n",
       "      <td>44.6054</td>\n",
       "      <td>33.5220</td>\n",
       "      <td>Sevastopol, Ukraine</td>\n",
       "      <td>443211.0</td>\n",
       "    </tr>\n",
       "  </tbody>\n",
       "</table>\n",
       "</div>"
      ],
      "text/plain": [
       "       UID iso2 iso3  code3  FIPS Admin2   Province_State Country_Region  \\\n",
       "680    158   TW  TWN  158.0   NaN    NaN              NaN         Taiwan   \n",
       "695  80404   UA  UKR  804.0   NaN    NaN  Crimea Republic        Ukraine   \n",
       "711  80420   UA  UKR  804.0   NaN    NaN       Sevastopol        Ukraine   \n",
       "\n",
       "         Lat     Long_              Combined_Key  Population  \n",
       "680  23.7000  121.0000                    Taiwan  23816775.0  \n",
       "695  45.2835   34.2008  Crimea Republic, Ukraine   1913731.0  \n",
       "711  44.6054   33.5220       Sevastopol, Ukraine    443211.0  "
      ]
     },
     "execution_count": 114,
     "metadata": {},
     "output_type": "execute_result"
    }
   ],
   "source": [
    "export_lookup_table()\n",
    "lookup_table = pd.read_csv(\"lookup_table.csv\")\n",
    "condition = lookup_table[\"Combined_Key\"].isin([\"Taiwan\", \"Crimea Republic, Ukraine\", \"Sevastopol, Ukraine\"])\n",
    "lookup_table[condition]"
   ]
  },
  {
   "cell_type": "code",
   "execution_count": null,
   "id": "3aefd225",
   "metadata": {},
   "outputs": [],
   "source": []
  }
 ],
 "metadata": {
  "kernelspec": {
   "display_name": "Python 3 (ipykernel)",
   "language": "python",
   "name": "python3"
  },
  "language_info": {
   "codemirror_mode": {
    "name": "ipython",
    "version": 3
   },
   "file_extension": ".py",
   "mimetype": "text/x-python",
   "name": "python",
   "nbconvert_exporter": "python",
   "pygments_lexer": "ipython3",
   "version": "3.9.13"
  }
 },
 "nbformat": 4,
 "nbformat_minor": 5
}
