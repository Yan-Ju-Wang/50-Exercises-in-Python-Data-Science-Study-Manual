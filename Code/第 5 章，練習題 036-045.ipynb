{
 "cells": [
  {
   "cell_type": "markdown",
   "metadata": {
    "deletable": false
   },
   "source": [
    "# Python 的 50+ 練習：資料科學學習手冊\n",
    "\n",
    "> 使用函數組織程式碼\n",
    "\n",
    "[數據交點](https://www.datainpoint.com) | 郭耀仁 <yaojenkuo@datainpoint.com>"
   ]
  },
  {
   "cell_type": "markdown",
   "metadata": {
    "deletable": false
   },
   "source": [
    "## 練習題指引\n",
    "\n",
    "- 練習題閒置超過 10 分鐘會自動斷線，只要重新點選練習題連結即可重新啟動。\n",
    "- 第一個程式碼儲存格會將可能用得到的模組載入。\n",
    "- 如果練習題需要載入檔案，檔案存放絕對路徑為 `/home/jovyan/data`，相對路徑為 `../data`\n",
    "- 練習題已經給定函數、類別、預期輸入或參數名稱，我們只需要寫作程式區塊。同時也給定函數的類別提示，說明預期輸入以及預期輸出的類別。\n",
    "- 說明（Docstring）會描述測試如何進行，閱讀說明能夠暸解預期輸入以及預期輸出之間的關係，幫助我們更快解題。\n",
    "- 請在 `### BEGIN SOLUTION` 與 `### END SOLUTION` 這兩個註解之間寫作函數或者類別的程式區塊。\n",
    "- 將預期輸出放置在 `return` 保留字之後，若只是用 `print()` 函數將預期輸出印出無法通過測試。\n",
    "- 語法錯誤（`SyntaxError`）或縮排錯誤（`IndentationError`）等將會導致測試失效，測試之前應該先在筆記本使用函數觀察是否與說明（Docstring）描述的功能相符。\n",
    "- 如果卡關，可以先看練習題詳解或者複習課程單元影片之後再繼續寫作。\n",
    "- 執行測試的步驟：\n",
    "    1. 點選上方選單的 File -> Save Notebook 儲存 exercises.ipynb。\n",
    "    2. 點選上方選單的 File -> New -> Terminal 開啟終端機。\n",
    "    3. 在 Terminal 輸入 `python 05-functions/test_runner.py` 後按下 Enter 執行測試。"
   ]
  },
  {
   "cell_type": "markdown",
   "metadata": {},
   "source": [
    "## 036. 計算圓面積\n",
    "\n",
    "定義函數 `calculate_circle_area()` 能夠對輸入的半徑計算圓面積，我們使用圓周率 $\\pi = 3.14$\n",
    "\n",
    "\\begin{equation}\n",
    "\\text{Circle area} = \\pi r^2\n",
    "\\end{equation}\n",
    "\n",
    "\n",
    "- 運用數值運算符。\n",
    "- 將預期輸出寫在 `return` 之後。"
   ]
  },
  {
   "cell_type": "code",
   "execution_count": 21,
   "metadata": {},
   "outputs": [],
   "source": [
    "def calculate_circle_area(r: int) -> float:\n",
    "    \"\"\"\n",
    "    >>> calculate_circle_area(5)\n",
    "    78.5\n",
    "    >>> calculate_circle_area(6)\n",
    "    113.04\n",
    "    >>> calculate_circle_area(7)\n",
    "    153.86\n",
    "    \"\"\"\n",
    "    ### BEGIN SOLUTION\n",
    "    return round(3.14 * r * r , 2)\n",
    "    ### END SOLUTION"
   ]
  },
  {
   "cell_type": "code",
   "execution_count": 25,
   "metadata": {},
   "outputs": [
    {
     "data": {
      "text/plain": [
       "153.86"
      ]
     },
     "execution_count": 25,
     "metadata": {},
     "output_type": "execute_result"
    }
   ],
   "source": [
    "calculate_circle_area(5)\n",
    "calculate_circle_area(6)\n",
    "calculate_circle_area(7)"
   ]
  },
  {
   "cell_type": "markdown",
   "metadata": {},
   "source": [
    "## 037. 計算圓柱體積\n",
    "\n",
    "定義函數 `calculate_cylinder_volume()` 能夠對輸入的半徑、高度計算圓柱體積，我們使用圓周率 $\\pi = 3.14$\n",
    "\n",
    "\\begin{equation}\n",
    "\\text{Cylinder volume} = \\pi r^2 h\n",
    "\\end{equation}\n",
    "\n",
    "\n",
    "- 運用數值運算符。\n",
    "- 使用 `calculate_circle_area()` 函數。\n",
    "- 將預期輸出寫在 `return` 之後。"
   ]
  },
  {
   "cell_type": "code",
   "execution_count": 32,
   "metadata": {},
   "outputs": [],
   "source": [
    "def calculate_cylinder_volume(r: int, h: int) -> float:\n",
    "    \"\"\"\n",
    "    >>> calculate_cylinder_volume(5, 6)\n",
    "    471.0\n",
    "    >>> calculate_cylinder_volume(6, 5)\n",
    "    565.2\n",
    "    >>> calculate_cylinder_volume(7, 8)\n",
    "    1230.88\n",
    "    \"\"\"\n",
    "    ### BEGIN SOLUTION\n",
    "    return round(3.14 * r * r * h , 2)\n",
    "    ### END SOLUTION"
   ]
  },
  {
   "cell_type": "code",
   "execution_count": 36,
   "metadata": {},
   "outputs": [
    {
     "data": {
      "text/plain": [
       "1230.88"
      ]
     },
     "execution_count": 36,
     "metadata": {},
     "output_type": "execute_result"
    }
   ],
   "source": [
    "calculate_cylinder_volume(5, 6)\n",
    "calculate_cylinder_volume(6, 5)\n",
    "calculate_cylinder_volume(7, 8)"
   ]
  },
  {
   "cell_type": "markdown",
   "metadata": {},
   "source": [
    "## 038. 因數個數\n",
    "\n",
    "定義函數 `count_number_of_divisors()` 能夠回傳輸入整數的因數個數。\n",
    "\n",
    "- 運用迴圈走訪所有可能因數。\n",
    "- 運用條件敘述是否為因數來計數。\n",
    "- 將預期輸出寫在 `return` 之後。"
   ]
  },
  {
   "cell_type": "code",
   "execution_count": 50,
   "metadata": {},
   "outputs": [],
   "source": [
    "def count_number_of_divisors(x: int) -> int:\n",
    "    \"\"\"\n",
    "    >>> count_number_of_divisors(1)\n",
    "    1\n",
    "    >>> count_number_of_divisors(2)\n",
    "    2\n",
    "    >>> count_number_of_divisors(3)\n",
    "    2\n",
    "    >>> count_number_of_divisors(4)\n",
    "    3\n",
    "    >>> count_number_of_divisors(5)\n",
    "    2\n",
    "    >>> count_number_of_divisors(6)\n",
    "    4\n",
    "    \"\"\"\n",
    "    ### BEGIN SOLUTION\n",
    "    counts = 0\n",
    "    for integers in range(1,x+1):\n",
    "        if x % integers == 0:\n",
    "            counts += 1\n",
    "    return counts\n",
    "    ### END SOLUTION"
   ]
  },
  {
   "cell_type": "code",
   "execution_count": 56,
   "metadata": {},
   "outputs": [
    {
     "data": {
      "text/plain": [
       "4"
      ]
     },
     "execution_count": 56,
     "metadata": {},
     "output_type": "execute_result"
    }
   ],
   "source": [
    "count_number_of_divisors(1)\n",
    "count_number_of_divisors(2)\n",
    "count_number_of_divisors(3)\n",
    "count_number_of_divisors(4)\n",
    "count_number_of_divisors(5)\n",
    "count_number_of_divisors(6)"
   ]
  },
  {
   "cell_type": "markdown",
   "metadata": {},
   "source": [
    "## 039. 是否為質數\n",
    "\n",
    "定義函數 `is_prime()` 能夠回傳輸入正整數是否為質數的判斷。\n",
    "\n",
    "來源：<https://en.wikipedia.org/wiki/Prime_number>\n",
    "\n",
    "- 使用 `count_number_of_divisors()` 函數。\n",
    "- 運用條件敘述依據因數個數是否為 2 判斷。\n",
    "- 將預期輸出寫在 `return` 之後。"
   ]
  },
  {
   "cell_type": "code",
   "execution_count": 79,
   "metadata": {},
   "outputs": [],
   "source": [
    "def is_prime(x: int) -> bool:\n",
    "    \"\"\"\n",
    "    >>> is_prime(1)\n",
    "    False\n",
    "    >>> is_prime(2)\n",
    "    True\n",
    "    >>> is_prime(3)\n",
    "    True\n",
    "    >>> is_prime(4)\n",
    "    False\n",
    "    >>> is_prime(5)\n",
    "    True\n",
    "    >>> is_prime(6)\n",
    "    False\n",
    "    \"\"\"\n",
    "    ### BEGIN SOLUTION\n",
    "    number_of_divisors = count_number_of_divisors(x)\n",
    "    return number_of_divisors == 2\n",
    "    ### END SOLUTION"
   ]
  },
  {
   "cell_type": "code",
   "execution_count": 86,
   "metadata": {},
   "outputs": [
    {
     "data": {
      "text/plain": [
       "False"
      ]
     },
     "execution_count": 86,
     "metadata": {},
     "output_type": "execute_result"
    }
   ],
   "source": [
    "is_prime(1)\n",
    "is_prime(2)\n",
    "is_prime(3)\n",
    "is_prime(4)\n",
    "is_prime(5)\n",
    "is_prime(6)"
   ]
  },
  {
   "cell_type": "markdown",
   "metadata": {},
   "source": [
    "## 040. 彈性參數是否為質數\n",
    "\n",
    "定義函數 `is_args_prime()` 能夠回傳輸入的彈性參數是否為質數的判斷。\n",
    "\n",
    "- 運用彈性參數 `*args`\n",
    "- 使用 `is_prime()` 函數。\n",
    "- 將預期輸出寫在 `return` 之後。"
   ]
  },
  {
   "cell_type": "code",
   "execution_count": 88,
   "metadata": {},
   "outputs": [],
   "source": [
    "from typing import List\n",
    "\n",
    "def is_args_prime(*args) -> List[bool]:\n",
    "    \"\"\"\n",
    "    >>> is_args_prime(1, 2, 3)\n",
    "    [False, True, True]\n",
    "    >>> is_args_prime(4, 5, 6)\n",
    "    [False, True, False]\n",
    "    >>> is_args_prime(7, 11, 13, 17, 19)\n",
    "    [True, True, True, True, True]\n",
    "    >>> is_args_prime(20, 21, 22, 24, 25, 26, 27)\n",
    "    [False, False, False, False, False, False, False]\n",
    "    \"\"\"\n",
    "    ### BEGIN SOLUTION\n",
    "    ouput_list = list()\n",
    "    for arg in args:\n",
    "        is_prime_arg = is_prime(arg)\n",
    "        ouput_list.append(is_prime_arg)\n",
    "    return ouput_list\n",
    "    ### END SOLUTION"
   ]
  },
  {
   "cell_type": "code",
   "execution_count": 92,
   "metadata": {},
   "outputs": [
    {
     "data": {
      "text/plain": [
       "[False, False, False, False, False, False, False]"
      ]
     },
     "execution_count": 92,
     "metadata": {},
     "output_type": "execute_result"
    }
   ],
   "source": [
    "is_args_prime(1, 2, 3)\n",
    "is_args_prime(4, 5, 6)\n",
    "is_args_prime(7, 11, 13, 17, 19)\n",
    "is_args_prime(20, 21, 22, 24, 25, 26, 27)"
   ]
  },
  {
   "cell_type": "markdown",
   "metadata": {},
   "source": [
    "## 041. 範圍內的質數\n",
    "\n",
    "定義函數 `find_primes_in_range()` 能夠回傳輸入正整數範圍內的質數。\n",
    "\n",
    "- 使用 `is_prime()` 函數。\n",
    "- 使用 `range()` 函數。\n",
    "- 將預期輸出寫在 `return` 之後。"
   ]
  },
  {
   "cell_type": "code",
   "execution_count": 100,
   "metadata": {},
   "outputs": [],
   "source": [
    "def find_primes_in_range(x: int, y: int) -> list:\n",
    "    \"\"\"\n",
    "    >>> find_primes_in_range(1, 5)\n",
    "    [2, 3, 5]\n",
    "    >>> find_primes_in_range(6, 10)\n",
    "    [7]\n",
    "    >>> find_primes_in_range(11, 15)\n",
    "    [11, 13]\n",
    "    \"\"\"\n",
    "    ### BEGIN SOLUTION\n",
    "    primes = list()\n",
    "    for integers in range(x,y+1):\n",
    "        if is_prime(integers):\n",
    "            primes.append(integers)\n",
    "    return primes\n",
    "    ### END SOLUTION"
   ]
  },
  {
   "cell_type": "code",
   "execution_count": 103,
   "metadata": {},
   "outputs": [
    {
     "data": {
      "text/plain": [
       "[11, 13]"
      ]
     },
     "execution_count": 103,
     "metadata": {},
     "output_type": "execute_result"
    }
   ],
   "source": [
    "find_primes_in_range(1, 5)\n",
    "find_primes_in_range(6, 10)\n",
    "find_primes_in_range(11, 15)"
   ]
  },
  {
   "cell_type": "markdown",
   "metadata": {},
   "source": [
    "## 042. 小於 100 的質數\n",
    "\n",
    "定義函數 `find_primes_below_100()` 能夠回傳小於 100 的所有質數。\n",
    "\n",
    "- 使用 `find_primes_in_range()` 函數。\n",
    "- 將預期輸出寫在 `return` 之後。"
   ]
  },
  {
   "cell_type": "code",
   "execution_count": 109,
   "metadata": {},
   "outputs": [],
   "source": [
    "def find_primes_below_100() -> list:\n",
    "    \"\"\"\n",
    "    >>> primes_below_100 = find_primes_below_100()\n",
    "    >>> len(primes_below_100)\n",
    "    25\n",
    "    >>> print(primes_below_100)\n",
    "    [2, 3, 5, 7, 11, 13, 17, 19, 23, 29, 31, 37, 41, 43, 47, 53, 59, 61, 67, 71, 73, 79, 83, 89, 97]\n",
    "    \"\"\"\n",
    "    ### BEGIN SOLUTION\n",
    "    primes = list()\n",
    "    for integers in range(1,101):\n",
    "        if is_prime(integers):\n",
    "            primes.append(integers)\n",
    "    return primes\n",
    "    ### END SOLUTION"
   ]
  },
  {
   "cell_type": "code",
   "execution_count": 112,
   "metadata": {},
   "outputs": [
    {
     "name": "stdout",
     "output_type": "stream",
     "text": [
      "[2, 3, 5, 7, 11, 13, 17, 19, 23, 29, 31, 37, 41, 43, 47, 53, 59, 61, 67, 71, 73, 79, 83, 89, 97]\n"
     ]
    }
   ],
   "source": [
    "primes_below_100 = find_primes_below_100()\n",
    "len(primes_below_100)\n",
    "print(primes_below_100)"
   ]
  },
  {
   "cell_type": "markdown",
   "metadata": {},
   "source": [
    "## 043. 前 `n` 個質數\n",
    "\n",
    "定義函數 `find_the_first_n_primes()` 能夠回傳前 `n` 個質數。\n",
    "\n",
    "- 運用 `while` 迴圈。\n",
    "- 使用 `is_prime()` 函數。\n",
    "- 將預期輸出寫在 `return` 之後。"
   ]
  },
  {
   "cell_type": "code",
   "execution_count": 126,
   "metadata": {},
   "outputs": [],
   "source": [
    "def find_the_first_n_primes(n: int) -> list:\n",
    "    \"\"\"\n",
    "    >>> print(find_the_first_n_primes(5))\n",
    "    [2, 3, 5, 7, 11]\n",
    "    >>> print(find_the_first_n_primes(10))\n",
    "    [2, 3, 5, 7, 11, 13, 17, 19, 23, 29]\n",
    "    >>> print(find_the_first_n_primes(30))\n",
    "    [2, 3, 5, 7, 11, 13, 17, 19, 23, 29, 31, 37, 41, 43, 47, 53, 59, 61, 67, 71, 73, 79, 83, 89, 97, 101, 103, 107, 109, 113]\n",
    "    \"\"\"\n",
    "    ### BEGIN SOLUTION\n",
    "    first_n_primes = list()\n",
    "    integers = 2\n",
    "    while len(first_n_primes) < n:\n",
    "        if is_prime(integers):\n",
    "            first_n_primes.append(integers)\n",
    "        integers += 1\n",
    "    return first_n_primes\n",
    "    ### END SOLUTION"
   ]
  },
  {
   "cell_type": "code",
   "execution_count": 129,
   "metadata": {},
   "outputs": [
    {
     "name": "stdout",
     "output_type": "stream",
     "text": [
      "[2, 3, 5, 7, 11]\n",
      "[2, 3, 5, 7, 11, 13, 17, 19, 23, 29]\n",
      "[2, 3, 5, 7, 11, 13, 17, 19, 23, 29, 31, 37, 41, 43, 47, 53, 59, 61, 67, 71, 73, 79, 83, 89, 97, 101, 103, 107, 109, 113]\n"
     ]
    }
   ],
   "source": [
    "print(find_the_first_n_primes(5))\n",
    "print(find_the_first_n_primes(10))\n",
    "print(find_the_first_n_primes(30))"
   ]
  },
  {
   "cell_type": "markdown",
   "metadata": {},
   "source": [
    "## 044. 挑出負的彈性參數並且平方\n",
    "\n",
    "定義函數 `square_negatives_from_args()` 能夠從彈性參數中挑出負數再平方。\n",
    "\n",
    "- 運用彈性參數 `*args`\n",
    "- 運用迴圈。\n",
    "- 運用條件敘述判斷負數。\n",
    "- 運用數值運算符。\n",
    "- 將預期輸出寫在 `return` 之後。"
   ]
  },
  {
   "cell_type": "code",
   "execution_count": 132,
   "metadata": {},
   "outputs": [],
   "source": [
    "def square_negatives_from_args(*args) -> list:\n",
    "    \"\"\"\n",
    "    >>> square_negatives_from_args(-3, -2, -1, 0, 1, 2, 3)\n",
    "    [9, 4, 1]\n",
    "    >>> square_negatives_from_args(-3, 0, 1, 2, 3, -2, -1)\n",
    "    [9, 4, 1]\n",
    "    >>> square_negatives_from_args(0, 1, 2, 3, -1, -2, -3)\n",
    "    [1, 4, 9]\n",
    "    \"\"\"\n",
    "    ### BEGIN SOLUTION\n",
    "    negatives_from_args = list()\n",
    "    for arg in args:\n",
    "        if arg < 0:\n",
    "            negatives_from_args.append(arg * arg)\n",
    "    return negatives_from_args\n",
    "    ### END SOLUTION"
   ]
  },
  {
   "cell_type": "code",
   "execution_count": 135,
   "metadata": {},
   "outputs": [
    {
     "data": {
      "text/plain": [
       "[1, 4, 9]"
      ]
     },
     "execution_count": 135,
     "metadata": {},
     "output_type": "execute_result"
    }
   ],
   "source": [
    "square_negatives_from_args(-3, -2, -1, 0, 1, 2, 3)\n",
    "square_negatives_from_args(-3, 0, 1, 2, 3, -2, -1)\n",
    "square_negatives_from_args(0, 1, 2, 3, -1, -2, -3)"
   ]
  },
  {
   "cell_type": "markdown",
   "metadata": {},
   "source": [
    "## 045. 轉換彈性參數的鍵、值為大寫\n",
    "\n",
    "定義函數 `uppercase_keys_values_from_kwargs()` 能夠從彈性參數中把鍵與值都轉換為大寫英文。\n",
    "\n",
    "- 運用彈性參數 `**kwargs`\n",
    "- 使用 `dict.items()`\n",
    "- 運用迴圈。\n",
    "- 使用 `str.upper()`\n",
    "- 將預期輸出寫在 `return` 之後。"
   ]
  },
  {
   "cell_type": "code",
   "execution_count": 140,
   "metadata": {},
   "outputs": [],
   "source": [
    "def uppercase_keys_values_from_kwargs(**kwargs) -> dict:\n",
    "    \"\"\"\n",
    "    >>> uppercase_keys_values_from_kwargs(tw=\"twn\")\n",
    "    {'TW': 'TWN'}\n",
    "    >>> uppercase_keys_values_from_kwargs(tw=\"twn\", jp=\"jpn\")\n",
    "    {'TW': 'TWN', 'JP': 'JPN'}\n",
    "    >>> uppercase_keys_values_from_kwargs(tw=\"twn\", jp=\"jpn\", lt=\"ltu\")\n",
    "    {'TW': 'TWN', 'JP': 'JPN', 'LT': 'LTU'}\n",
    "    \"\"\"\n",
    "    ### BEGIN SOLUTION\n",
    "    output_dict = dict()\n",
    "    for key,value in kwargs.items():\n",
    "        key_upper = key.upper()\n",
    "        value_upper = value.upper()\n",
    "        output_dict[key_upper] = value_upper\n",
    "    return output_dict\n",
    "    ### END SOLUTION"
   ]
  },
  {
   "cell_type": "code",
   "execution_count": 143,
   "metadata": {},
   "outputs": [
    {
     "data": {
      "text/plain": [
       "{'TW': 'TWN', 'JP': 'JPN', 'LT': 'LTU'}"
      ]
     },
     "execution_count": 143,
     "metadata": {},
     "output_type": "execute_result"
    }
   ],
   "source": [
    "uppercase_keys_values_from_kwargs(tw=\"twn\")\n",
    "uppercase_keys_values_from_kwargs(tw=\"twn\", jp=\"jpn\")\n",
    "uppercase_keys_values_from_kwargs(tw=\"twn\", jp=\"jpn\", lt=\"ltu\")"
   ]
  },
  {
   "cell_type": "code",
   "execution_count": null,
   "metadata": {},
   "outputs": [],
   "source": []
  }
 ],
 "metadata": {
  "kernelspec": {
   "display_name": "Python 3 (ipykernel)",
   "language": "python",
   "name": "python3"
  },
  "language_info": {
   "codemirror_mode": {
    "name": "ipython",
    "version": 3
   },
   "file_extension": ".py",
   "mimetype": "text/x-python",
   "name": "python",
   "nbconvert_exporter": "python",
   "pygments_lexer": "ipython3",
   "version": "3.9.13"
  }
 },
 "nbformat": 4,
 "nbformat_minor": 4
}
