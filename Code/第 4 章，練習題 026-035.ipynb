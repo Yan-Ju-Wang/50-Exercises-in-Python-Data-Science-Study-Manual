{
 "cells": [
  {
   "cell_type": "markdown",
   "id": "heated-welding",
   "metadata": {
    "deletable": false
   },
   "source": [
    "# Python 的 50+ 練習：資料科學學習手冊\n",
    "\n",
    "> 使用流程控制管理程式區塊的執行\n",
    "\n",
    "[數據交點](https://www.datainpoint.com) | 郭耀仁 <yaojenkuo@datainpoint.com>"
   ]
  },
  {
   "cell_type": "markdown",
   "id": "fleet-tokyo",
   "metadata": {
    "deletable": false
   },
   "source": [
    "## 練習題指引\n",
    "\n",
    "- 練習題閒置超過 10 分鐘會自動斷線，只要重新點選練習題連結即可重新啟動。\n",
    "- 第一個程式碼儲存格會將可能用得到的模組載入。\n",
    "- 如果練習題需要載入檔案，檔案存放絕對路徑為 `/home/jovyan/data`，相對路徑為 `../data`\n",
    "- 練習題已經給定函數、類別、預期輸入或參數名稱，我們只需要寫作程式區塊。同時也給定函數的類別提示，說明預期輸入以及預期輸出的類別。\n",
    "- 說明（Docstring）會描述測試如何進行，閱讀說明能夠暸解預期輸入以及預期輸出之間的關係，幫助我們更快解題。\n",
    "- 請在 `### BEGIN SOLUTION` 與 `### END SOLUTION` 這兩個註解之間寫作函數或者類別的程式區塊。\n",
    "- 將預期輸出放置在 `return` 保留字之後，若只是用 `print()` 函數將預期輸出印出無法通過測試。\n",
    "- 語法錯誤（`SyntaxError`）或縮排錯誤（`IndentationError`）等將會導致測試失效，測試之前應該先在筆記本使用函數觀察是否與說明（Docstring）描述的功能相符。\n",
    "- 如果卡關，可以先看練習題詳解或者複習課程單元影片之後再繼續寫作。\n",
    "- 執行測試的步驟：\n",
    "    1. 點選上方選單的 File -> Save Notebook 儲存 exercises.ipynb。\n",
    "    2. 點選上方選單的 File -> New -> Terminal 開啟終端機。\n",
    "    3. 在 Terminal 輸入 `python 04-control-flows/test_runner.py` 後按下 Enter 執行測試。"
   ]
  },
  {
   "cell_type": "markdown",
   "id": "typical-impact",
   "metadata": {},
   "source": [
    "## 026. 判斷 BMI 分類\n",
    "\n",
    "定義函數 `find_bmi_category()` 能夠將輸入 BMI 值所對應的分類以文字輸出。\n",
    "\n",
    "|BMI|Category|\n",
    "|---|--------|\n",
    "|BMI < 18.5|Underweight|\n",
    "|18.5 <= BMI < 25|Normal weight|\n",
    "|25 <= BMI  < 30|Overweight|\n",
    "|BMI >= 30|Obese|\n",
    "\n",
    "來源：<https://en.wikipedia.org/wiki/Body_mass_index>\n",
    "\n",
    "- 運用條件敘述。\n",
    "- 將預期輸出寫在 `return` 之後。"
   ]
  },
  {
   "cell_type": "code",
   "execution_count": 4,
   "id": "economic-blast",
   "metadata": {},
   "outputs": [],
   "source": [
    "def find_bmi_category(bmi: float) -> str:\n",
    "    \"\"\"\n",
    "    >>> find_bmi_category(32.90) # Zion Williamson, professional basketball player\n",
    "    'Obese'\n",
    "    >>> find_bmi_category(26.63) # LeBron James, professional basketball player\n",
    "    'Overweight'\n",
    "    >>> find_bmi_category(24.83) # Roger Federer, professional tennis player\n",
    "    'Normal weight'\n",
    "    >>> find_bmi_category(17.58) # Suguru Osako, professional marathon runner \n",
    "    'Underweight'\n",
    "    \"\"\"\n",
    "    ### BEGIN SOLUTION\n",
    "    if bmi < 18.5:\n",
    "        return \"Underweight\"\n",
    "    elif 18.5 <= bmi < 25:\n",
    "        return \"Normal weight\"\n",
    "    elif 25 <= bmi < 30:\n",
    "        return \"Overweight\"\n",
    "    elif bmi >= 30:\n",
    "        return \"Obese\"\n",
    "    ### END SOLUTION"
   ]
  },
  {
   "cell_type": "code",
   "execution_count": 6,
   "id": "0d95781f",
   "metadata": {},
   "outputs": [
    {
     "data": {
      "text/plain": [
       "'Obese'"
      ]
     },
     "execution_count": 6,
     "metadata": {},
     "output_type": "execute_result"
    }
   ],
   "source": [
    "find_bmi_category(32.90)"
   ]
  },
  {
   "cell_type": "code",
   "execution_count": 7,
   "id": "68855a37",
   "metadata": {},
   "outputs": [
    {
     "data": {
      "text/plain": [
       "'Overweight'"
      ]
     },
     "execution_count": 7,
     "metadata": {},
     "output_type": "execute_result"
    }
   ],
   "source": [
    "find_bmi_category(26.63)"
   ]
  },
  {
   "cell_type": "code",
   "execution_count": 8,
   "id": "a9cb3368",
   "metadata": {},
   "outputs": [
    {
     "data": {
      "text/plain": [
       "'Normal weight'"
      ]
     },
     "execution_count": 8,
     "metadata": {},
     "output_type": "execute_result"
    }
   ],
   "source": [
    "find_bmi_category(24.83)"
   ]
  },
  {
   "cell_type": "code",
   "execution_count": 9,
   "id": "93d8d051",
   "metadata": {},
   "outputs": [
    {
     "data": {
      "text/plain": [
       "'Underweight'"
      ]
     },
     "execution_count": 9,
     "metadata": {},
     "output_type": "execute_result"
    }
   ],
   "source": [
    "find_bmi_category(17.58)"
   ]
  },
  {
   "cell_type": "markdown",
   "id": "north-undergraduate",
   "metadata": {},
   "source": [
    "## 027. 判斷資料類別\n",
    "\n",
    "定義函數 `check_data_type()` 能夠將輸入的資料類別以 `str` 輸出。\n",
    "\n",
    "- 運用 `type()` 函數判斷資料類別。\n",
    "- 運用條件敘述。\n",
    "- 將預期輸出寫在 `return` 之後。"
   ]
  },
  {
   "cell_type": "code",
   "execution_count": 11,
   "id": "authorized-algorithm",
   "metadata": {},
   "outputs": [],
   "source": [
    "def check_data_type(x) -> str:\n",
    "    \"\"\"\n",
    "    >>> check_data_type(0)\n",
    "    'int'\n",
    "    >>> check_data_type(1.0)\n",
    "    'float'\n",
    "    >>> check_data_type(False)\n",
    "    'bool'\n",
    "    >>> check_data_type(True)\n",
    "    'bool'\n",
    "    >>> check_data_type('5566')\n",
    "    'str'\n",
    "    >>> check_data_type(None)\n",
    "    'NoneType'\n",
    "    \"\"\"\n",
    "    ### BEGIN SOLUTION\n",
    "    if type(x) == int:\n",
    "        return \"int\"\n",
    "    elif type(x) == float:\n",
    "        return \"float\"\n",
    "    elif type(x) == bool:\n",
    "        return \"bool\"\n",
    "    elif type(x) == str:\n",
    "        return \"str\"\n",
    "    else:\n",
    "        return \"NoneType\"\n",
    "    ### END SOLUTION"
   ]
  },
  {
   "cell_type": "code",
   "execution_count": 12,
   "id": "9d7881e5",
   "metadata": {},
   "outputs": [
    {
     "data": {
      "text/plain": [
       "'int'"
      ]
     },
     "execution_count": 12,
     "metadata": {},
     "output_type": "execute_result"
    }
   ],
   "source": [
    "check_data_type(0)"
   ]
  },
  {
   "cell_type": "code",
   "execution_count": 13,
   "id": "5a1670ec",
   "metadata": {},
   "outputs": [
    {
     "data": {
      "text/plain": [
       "'float'"
      ]
     },
     "execution_count": 13,
     "metadata": {},
     "output_type": "execute_result"
    }
   ],
   "source": [
    "check_data_type(1.0)"
   ]
  },
  {
   "cell_type": "code",
   "execution_count": 14,
   "id": "6e56c9b1",
   "metadata": {},
   "outputs": [
    {
     "data": {
      "text/plain": [
       "'bool'"
      ]
     },
     "execution_count": 14,
     "metadata": {},
     "output_type": "execute_result"
    }
   ],
   "source": [
    "check_data_type(False)"
   ]
  },
  {
   "cell_type": "code",
   "execution_count": 15,
   "id": "91f0f55a",
   "metadata": {},
   "outputs": [
    {
     "data": {
      "text/plain": [
       "'bool'"
      ]
     },
     "execution_count": 15,
     "metadata": {},
     "output_type": "execute_result"
    }
   ],
   "source": [
    "check_data_type(True)"
   ]
  },
  {
   "cell_type": "code",
   "execution_count": 16,
   "id": "a417faaa",
   "metadata": {},
   "outputs": [
    {
     "data": {
      "text/plain": [
       "'str'"
      ]
     },
     "execution_count": 16,
     "metadata": {},
     "output_type": "execute_result"
    }
   ],
   "source": [
    "check_data_type('5566')"
   ]
  },
  {
   "cell_type": "code",
   "execution_count": 17,
   "id": "951fd6b3",
   "metadata": {},
   "outputs": [
    {
     "data": {
      "text/plain": [
       "'NoneType'"
      ]
     },
     "execution_count": 17,
     "metadata": {},
     "output_type": "execute_result"
    }
   ],
   "source": [
    "check_data_type(None)"
   ]
  },
  {
   "cell_type": "markdown",
   "id": "essential-server",
   "metadata": {},
   "source": [
    "## 028. 判斷資料結構類別\n",
    "\n",
    "定義函數 `check_data_structure_type()` 能夠將輸入的資料類別以 `str` 輸出。\n",
    "\n",
    "- 運用 `type()` 函數判斷資料結構類別。\n",
    "- 運用條件敘述。\n",
    "- 將預期輸出寫在 `return` 之後。"
   ]
  },
  {
   "cell_type": "code",
   "execution_count": 19,
   "id": "expired-resort",
   "metadata": {},
   "outputs": [],
   "source": [
    "def check_data_structure_type(x) -> str:\n",
    "    \"\"\"\n",
    "    >>> check_data_structure_type([5, 5, 6, 6])\n",
    "    'list'\n",
    "    >>> check_data_structure_type((5, 5, 6, 6))\n",
    "    'tuple'\n",
    "    >>> check_data_structure_type({5, 6})\n",
    "    'set'\n",
    "    >>> check_data_structure_type({'title': 'The Shawshank Redemption', 'year': 1994})\n",
    "    'dict'\n",
    "    \"\"\"\n",
    "    ### BEGIN SOLUTION\n",
    "    if type(x) == list:\n",
    "        return \"list\"\n",
    "    elif type(x) == tuple:\n",
    "        return \"tuple\"\n",
    "    elif type(x) == set:\n",
    "        return \"set\"\n",
    "    elif type(x) == dict:\n",
    "        return \"dict\"\n",
    "    ### END SOLUTION"
   ]
  },
  {
   "cell_type": "code",
   "execution_count": 21,
   "id": "d9ad5406",
   "metadata": {},
   "outputs": [
    {
     "data": {
      "text/plain": [
       "'list'"
      ]
     },
     "execution_count": 21,
     "metadata": {},
     "output_type": "execute_result"
    }
   ],
   "source": [
    "check_data_structure_type([5, 5, 6, 6])"
   ]
  },
  {
   "cell_type": "code",
   "execution_count": 22,
   "id": "e973039f",
   "metadata": {},
   "outputs": [
    {
     "data": {
      "text/plain": [
       "'tuple'"
      ]
     },
     "execution_count": 22,
     "metadata": {},
     "output_type": "execute_result"
    }
   ],
   "source": [
    "check_data_structure_type((5, 5, 6, 6))"
   ]
  },
  {
   "cell_type": "code",
   "execution_count": 23,
   "id": "90fb39cc",
   "metadata": {},
   "outputs": [
    {
     "data": {
      "text/plain": [
       "'set'"
      ]
     },
     "execution_count": 23,
     "metadata": {},
     "output_type": "execute_result"
    }
   ],
   "source": [
    "check_data_structure_type({5, 6})"
   ]
  },
  {
   "cell_type": "code",
   "execution_count": 24,
   "id": "c6b11d40",
   "metadata": {},
   "outputs": [
    {
     "data": {
      "text/plain": [
       "'dict'"
      ]
     },
     "execution_count": 24,
     "metadata": {},
     "output_type": "execute_result"
    }
   ],
   "source": [
    "check_data_structure_type({'title': 'The Shawshank Redemption', 'year': 1994})"
   ]
  },
  {
   "cell_type": "markdown",
   "id": "comprehensive-shannon",
   "metadata": {},
   "source": [
    "## 029. 取出中位元素\n",
    "\n",
    "定義函數 `retrieve_middle_elements()` 能夠將輸入 `list` 的中位元素取出（奇數長度取出中間元素、偶數長度取出中間的兩個元素）。\n",
    "\n",
    "- 使用 `len()` 函數得知 `list` 長度。\n",
    "- 運用條件敘述判斷長度為奇數或者偶數。\n",
    "- 運用 Indexing/Slicing\n",
    "- 將預期輸出寫在 `return` 之後。"
   ]
  },
  {
   "cell_type": "code",
   "execution_count": 36,
   "id": "wrapped-plymouth",
   "metadata": {},
   "outputs": [],
   "source": [
    "from typing import Union\n",
    "\n",
    "def retrieve_middle_elements(x: list) -> Union[int, tuple]:\n",
    "    \"\"\"\n",
    "    >>> retrieve_middle_elements([2, 3, 5])\n",
    "    3\n",
    "    >>> retrieve_middle_elements([2, 3, 5, 7])\n",
    "    (3, 5)\n",
    "    >>> retrieve_middle_elements([2, 3, 5, 7, 11])\n",
    "    5\n",
    "    >>> retrieve_middle_elements([2, 3, 5, 7, 11, 13])\n",
    "    (5, 7)\n",
    "    \"\"\"\n",
    "    ### BEGIN SOLUTION\n",
    "    if len(x) % 2 == 0:\n",
    "        return (x[(len(x) // 2) -1] , x[len(x) // 2])\n",
    "    else:\n",
    "        return x[len(x)  // 2]\n",
    "    ### END SOLUTION"
   ]
  },
  {
   "cell_type": "code",
   "execution_count": 37,
   "id": "5323aff9",
   "metadata": {},
   "outputs": [
    {
     "data": {
      "text/plain": [
       "3"
      ]
     },
     "execution_count": 37,
     "metadata": {},
     "output_type": "execute_result"
    }
   ],
   "source": [
    "retrieve_middle_elements([2, 3, 5])"
   ]
  },
  {
   "cell_type": "code",
   "execution_count": 39,
   "id": "0a9fdf6d",
   "metadata": {},
   "outputs": [
    {
     "data": {
      "text/plain": [
       "(3, 5)"
      ]
     },
     "execution_count": 39,
     "metadata": {},
     "output_type": "execute_result"
    }
   ],
   "source": [
    "retrieve_middle_elements([2, 3, 5, 7])"
   ]
  },
  {
   "cell_type": "code",
   "execution_count": 40,
   "id": "541f1974",
   "metadata": {},
   "outputs": [
    {
     "data": {
      "text/plain": [
       "5"
      ]
     },
     "execution_count": 40,
     "metadata": {},
     "output_type": "execute_result"
    }
   ],
   "source": [
    "retrieve_middle_elements([2, 3, 5, 7, 11])"
   ]
  },
  {
   "cell_type": "code",
   "execution_count": 41,
   "id": "0db75cf0",
   "metadata": {},
   "outputs": [
    {
     "data": {
      "text/plain": [
       "(5, 7)"
      ]
     },
     "execution_count": 41,
     "metadata": {},
     "output_type": "execute_result"
    }
   ],
   "source": [
    "retrieve_middle_elements([2, 3, 5, 7, 11, 13])"
   ]
  },
  {
   "cell_type": "markdown",
   "id": "false-somerset",
   "metadata": {},
   "source": [
    "## 030. 計算中位數\n",
    "\n",
    "定義函數 `calculate_median()` 能夠計算輸入 `list` 的中位數。\n",
    "\n",
    "\\begin{equation}\n",
    "Median(x) =\n",
    "  \\begin{cases}\n",
    "    x[\\frac{n-1}{2}]       & \\quad \\text{if } n \\text{ is odd}\\\\\n",
    "    \\frac{x[\\frac{n-2}{2}] + x[\\frac{n}{2}]}{2}  & \\quad \\text{if } n \\text{ is even}\n",
    "  \\end{cases} \\\\\n",
    "\\text{where} \\, x= \\, \\text{ordered list of values in data set} \\\\\n",
    "\\text{where} \\, n= \\, \\text{number of values in data set}\n",
    "\\end{equation}\n",
    "\n",
    "來源：<https://en.wikipedia.org/wiki/Median>\n",
    "\n",
    "- 遞增排序 `list`\n",
    "- 使用 `len()` 函數得知 `list` 長度。\n",
    "- 運用條件敘述判斷長度為奇數或者偶數。\n",
    "- 運用 Indexing/Slicing 計算中位數。\n",
    "- 將預期輸出寫在 `return` 之後。"
   ]
  },
  {
   "cell_type": "code",
   "execution_count": 68,
   "id": "prospective-brown",
   "metadata": {},
   "outputs": [],
   "source": [
    "from typing import Union\n",
    "\n",
    "def calculate_median(x: list) -> Union[int, float]:\n",
    "    \"\"\"\n",
    "    >>> calculate_median([9, 8, 3, 6, 7, 3, 1])\n",
    "    6\n",
    "    >>> calculate_median([1, 3, 2, 5, 4, 9, 8, 6])\n",
    "    4.5\n",
    "    \"\"\"\n",
    "    ### BEGIN SOLUTION\n",
    "    if len(x) % 2 == 0:\n",
    "        return ( x[(len(x) // 2) -1] + x[len(x) // 2] ) / 2\n",
    "    else:\n",
    "        return x[(len(x) // 2)]\n",
    "    ### END SOLUTION"
   ]
  },
  {
   "cell_type": "code",
   "execution_count": 69,
   "id": "88fe35a4",
   "metadata": {},
   "outputs": [
    {
     "data": {
      "text/plain": [
       "6"
      ]
     },
     "execution_count": 69,
     "metadata": {},
     "output_type": "execute_result"
    }
   ],
   "source": [
    "calculate_median([9, 8, 3, 6, 7, 3, 1])"
   ]
  },
  {
   "cell_type": "code",
   "execution_count": 70,
   "id": "1c716368",
   "metadata": {},
   "outputs": [
    {
     "data": {
      "text/plain": [
       "4.5"
      ]
     },
     "execution_count": 70,
     "metadata": {},
     "output_type": "execute_result"
    }
   ],
   "source": [
    "calculate_median([1, 3, 2, 5, 4, 9, 8, 6])"
   ]
  },
  {
   "cell_type": "markdown",
   "id": "increased-partition",
   "metadata": {},
   "source": [
    "## 031. 計算平均數\n",
    "\n",
    "定義函數 `calculate_mean()` 能夠計算輸入 `list` 的算數平均數。\n",
    "\n",
    "\\begin{equation}\n",
    "Mean(x) = \\frac{\\sum_{i=0}^{n - 1} x_i}{n} \\\\\n",
    "\\text{where} \\, x= \\, \\text{list of values in data set} \\\\\n",
    "\\text{where} \\, n= \\, \\text{number of values in data set}\n",
    "\\end{equation}\n",
    "\n",
    "來源：<https://en.wikipedia.org/wiki/Mean>\n",
    "\n",
    "- 取得 `list` 中的元素個數。\n",
    "- 取得 `list` 中的元素加總。\n",
    "- 將預期輸出寫在 `return` 之後。"
   ]
  },
  {
   "cell_type": "code",
   "execution_count": 83,
   "id": "compact-publisher",
   "metadata": {},
   "outputs": [],
   "source": [
    "def calculate_mean(x: list) -> float:\n",
    "    \"\"\"\n",
    "    >>> calculate_mean([5, 5, 6, 6])\n",
    "    5.5\n",
    "    >>> calculate_mean([5, 3, 4])\n",
    "    4.0\n",
    "    >>> calculate_mean([4, 3])\n",
    "    3.5\n",
    "    \"\"\"\n",
    "    ### BEGIN SOLUTION\n",
    "    sum = 0\n",
    "    for i in x: \n",
    "        sum += i\n",
    "    return sum / len(x)\n",
    "    ### END SOLUTION"
   ]
  },
  {
   "cell_type": "code",
   "execution_count": 85,
   "id": "fd66b57e",
   "metadata": {},
   "outputs": [
    {
     "data": {
      "text/plain": [
       "5.5"
      ]
     },
     "execution_count": 85,
     "metadata": {},
     "output_type": "execute_result"
    }
   ],
   "source": [
    "calculate_mean([5, 5, 6, 6])"
   ]
  },
  {
   "cell_type": "code",
   "execution_count": 86,
   "id": "69e845f9",
   "metadata": {},
   "outputs": [
    {
     "data": {
      "text/plain": [
       "4.0"
      ]
     },
     "execution_count": 86,
     "metadata": {},
     "output_type": "execute_result"
    }
   ],
   "source": [
    "calculate_mean([5, 3, 4])"
   ]
  },
  {
   "cell_type": "code",
   "execution_count": 87,
   "id": "dc79794b",
   "metadata": {},
   "outputs": [
    {
     "data": {
      "text/plain": [
       "3.5"
      ]
     },
     "execution_count": 87,
     "metadata": {},
     "output_type": "execute_result"
    }
   ],
   "source": [
    "calculate_mean([4, 3])"
   ]
  },
  {
   "cell_type": "markdown",
   "id": "thermal-infrared",
   "metadata": {},
   "source": [
    "## 032. 前 100 個 Fizz buzz\n",
    "\n",
    "定義函數 `create_first_100_fizz_buzz()` 能夠回傳一個 `list` 包含前 100 個符合 Fizz buzz 規則的元素。\n",
    "\n",
    "來源：<https://en.wikipedia.org/wiki/Fizz_buzz>\n",
    "\n",
    "- 運用迴圈讓物件的值能從 1 走到 100\n",
    "- 運用條件敘述依據 Fizz Buzz 規則合併建立一個 `list`。\n",
    "- 將預期輸出寫在 `return` 之後。"
   ]
  },
  {
   "cell_type": "code",
   "execution_count": 150,
   "id": "remarkable-analyst",
   "metadata": {},
   "outputs": [],
   "source": [
    "def create_first_100_fizz_buzz() -> list:\n",
    "    \"\"\"\n",
    "    >>> len(create_first_100_fizz_buzz())\n",
    "    100\n",
    "    >>> create_first_100_fizz_buzz()[0]\n",
    "    1\n",
    "    >>> create_first_100_fizz_buzz()[1]\n",
    "    2\n",
    "    >>> create_first_100_fizz_buzz()[2]\n",
    "    'Fizz'\n",
    "    >>> create_first_100_fizz_buzz()[3]\n",
    "    4\n",
    "    >>> create_first_100_fizz_buzz()[4]\n",
    "    'Buzz'\n",
    "    >>> create_first_100_fizz_buzz()[13]\n",
    "    14\n",
    "    >>> create_first_100_fizz_buzz()[14]\n",
    "    'Fizz Buzz'\n",
    "    \"\"\"\n",
    "    ### BEGIN SOLUTION\n",
    "    fizz_buzz_list = list()\n",
    "    for integer in range(1,101):\n",
    "        if integer % 15 == 0:\n",
    "            fizz_buzz_list.append(\"Fizz Buzz\")\n",
    "        elif integer % 3 == 0:\n",
    "            fizz_buzz_list.append(\"Fizz\")\n",
    "        elif integer % 5 == 0:\n",
    "            fizz_buzz_list.append(\"Buzz\")\n",
    "        else:\n",
    "            fizz_buzz_list.append(integer)\n",
    "    return fizz_buzz_list\n",
    "    ### END SOLUTION"
   ]
  },
  {
   "cell_type": "code",
   "execution_count": 151,
   "id": "6288a976",
   "metadata": {},
   "outputs": [
    {
     "data": {
      "text/plain": [
       "100"
      ]
     },
     "execution_count": 151,
     "metadata": {},
     "output_type": "execute_result"
    }
   ],
   "source": [
    "len(create_first_100_fizz_buzz())"
   ]
  },
  {
   "cell_type": "code",
   "execution_count": 152,
   "id": "9dbc6515",
   "metadata": {},
   "outputs": [
    {
     "data": {
      "text/plain": [
       "1"
      ]
     },
     "execution_count": 152,
     "metadata": {},
     "output_type": "execute_result"
    }
   ],
   "source": [
    "create_first_100_fizz_buzz()[0]"
   ]
  },
  {
   "cell_type": "code",
   "execution_count": 153,
   "id": "ad32da22",
   "metadata": {},
   "outputs": [
    {
     "data": {
      "text/plain": [
       "2"
      ]
     },
     "execution_count": 153,
     "metadata": {},
     "output_type": "execute_result"
    }
   ],
   "source": [
    "create_first_100_fizz_buzz()[1]"
   ]
  },
  {
   "cell_type": "code",
   "execution_count": 154,
   "id": "1000f93e",
   "metadata": {},
   "outputs": [
    {
     "data": {
      "text/plain": [
       "'Fizz'"
      ]
     },
     "execution_count": 154,
     "metadata": {},
     "output_type": "execute_result"
    }
   ],
   "source": [
    "create_first_100_fizz_buzz()[2]"
   ]
  },
  {
   "cell_type": "code",
   "execution_count": 155,
   "id": "53dec527",
   "metadata": {},
   "outputs": [
    {
     "data": {
      "text/plain": [
       "4"
      ]
     },
     "execution_count": 155,
     "metadata": {},
     "output_type": "execute_result"
    }
   ],
   "source": [
    "create_first_100_fizz_buzz()[3]"
   ]
  },
  {
   "cell_type": "code",
   "execution_count": 156,
   "id": "d644beb0",
   "metadata": {},
   "outputs": [
    {
     "data": {
      "text/plain": [
       "'Buzz'"
      ]
     },
     "execution_count": 156,
     "metadata": {},
     "output_type": "execute_result"
    }
   ],
   "source": [
    "create_first_100_fizz_buzz()[4]"
   ]
  },
  {
   "cell_type": "code",
   "execution_count": 157,
   "id": "8b435825",
   "metadata": {},
   "outputs": [
    {
     "data": {
      "text/plain": [
       "14"
      ]
     },
     "execution_count": 157,
     "metadata": {},
     "output_type": "execute_result"
    }
   ],
   "source": [
    "create_first_100_fizz_buzz()[13]"
   ]
  },
  {
   "cell_type": "code",
   "execution_count": 158,
   "id": "d0791f71",
   "metadata": {},
   "outputs": [
    {
     "data": {
      "text/plain": [
       "'Fizz Buzz'"
      ]
     },
     "execution_count": 158,
     "metadata": {},
     "output_type": "execute_result"
    }
   ],
   "source": [
    "create_first_100_fizz_buzz()[14]"
   ]
  },
  {
   "cell_type": "markdown",
   "id": "correct-uzbekistan",
   "metadata": {},
   "source": [
    "## 033. Fizz buzz 片段\n",
    "\n",
    "定義函數 `create_fizz_buzz_slice()` 能夠回傳一個 `list` 包含符合 Fizz buzz 規則元素的片段。\n",
    "\n",
    "來源：<https://en.wikipedia.org/wiki/Fizz_buzz>\n",
    "\n",
    "- 運用迴圈讓物件的值能從 `start` 走到 `stop`\n",
    "- 運用條件敘述依據 Fizz Buzz 規則添加元素到 `list` 之中。\n",
    "- 將預期輸出寫在 `return` 之後。"
   ]
  },
  {
   "cell_type": "code",
   "execution_count": 162,
   "id": "acceptable-estonia",
   "metadata": {},
   "outputs": [],
   "source": [
    "def create_fizz_buzz_slice(start: int, stop: int) -> list:\n",
    "    \"\"\"\n",
    "    >>> create_fizz_buzz_slice(1, 5)\n",
    "    [1, 2, 'Fizz', 4, 'Buzz']\n",
    "    >>> create_fizz_buzz_slice(11, 15)\n",
    "    [11, 'Fizz', 13, 14, 'Fizz Buzz']\n",
    "    >>> create_fizz_buzz_slice(25, 30)\n",
    "    ['Buzz', 26, 'Fizz', 28, 29, 'Fizz Buzz']\n",
    "    \"\"\"\n",
    "    ### BEGIN SOLUTION\n",
    "    fizz_buzz_slice = list()\n",
    "    for integer in range(start,stop+1):\n",
    "        if integer % 15 == 0:\n",
    "            fizz_buzz_slice.append(\"Fizz Buzz\")\n",
    "        elif integer % 3 == 0:\n",
    "            fizz_buzz_slice.append(\"Fizz\")\n",
    "        elif integer % 5 == 0:\n",
    "            fizz_buzz_slice.append(\"Buzz\")\n",
    "        else:\n",
    "            fizz_buzz_slice.append(integer)\n",
    "    return fizz_buzz_slice\n",
    "    ### END SOLUTION"
   ]
  },
  {
   "cell_type": "code",
   "execution_count": 164,
   "id": "79294420",
   "metadata": {},
   "outputs": [
    {
     "data": {
      "text/plain": [
       "[1, 2, 'Fizz', 4, 'Buzz']"
      ]
     },
     "execution_count": 164,
     "metadata": {},
     "output_type": "execute_result"
    }
   ],
   "source": [
    "create_fizz_buzz_slice(1, 5)"
   ]
  },
  {
   "cell_type": "code",
   "execution_count": 165,
   "id": "857de203",
   "metadata": {},
   "outputs": [
    {
     "data": {
      "text/plain": [
       "[11, 'Fizz', 13, 14, 'Fizz Buzz']"
      ]
     },
     "execution_count": 165,
     "metadata": {},
     "output_type": "execute_result"
    }
   ],
   "source": [
    "create_fizz_buzz_slice(11, 15)"
   ]
  },
  {
   "cell_type": "code",
   "execution_count": 166,
   "id": "ad811359",
   "metadata": {},
   "outputs": [
    {
     "data": {
      "text/plain": [
       "['Buzz', 26, 'Fizz', 28, 29, 'Fizz Buzz']"
      ]
     },
     "execution_count": 166,
     "metadata": {},
     "output_type": "execute_result"
    }
   ],
   "source": [
    "create_fizz_buzz_slice(25, 30)"
   ]
  },
  {
   "cell_type": "markdown",
   "id": "cleared-rover",
   "metadata": {},
   "source": [
    "## 034. 因數分解\n",
    "\n",
    "定義函數 `collect_divisors()` 能夠將輸入整數的所有因數回傳為一個 `list`。\n",
    "\n",
    "- 運用迴圈從 1 走到 `x`\n",
    "- 運用條件敘述是否為因數添加元素到 `list` 之中。\n",
    "- 將預期輸出寫在 `return` 之後。"
   ]
  },
  {
   "cell_type": "code",
   "execution_count": 180,
   "id": "former-seattle",
   "metadata": {},
   "outputs": [],
   "source": [
    "def collect_divisors(x: int) -> list:\n",
    "    \"\"\"\n",
    "    >>> collect_divisors(2)\n",
    "    [1, 2]\n",
    "    >>> collect_divisors(3)\n",
    "    [1, 3]\n",
    "    >>> collect_divisors(4)\n",
    "    [1, 2, 4]\n",
    "    >>> collect_divisors(8)\n",
    "    [1, 2, 4, 8]\n",
    "    \"\"\"\n",
    "    ### BEGIN SOLUTION\n",
    "    divisors = list()\n",
    "    for integer in range(1,x+1):\n",
    "        if  x % integer == 0:\n",
    "            divisors.append(integer)\n",
    "    return divisors\n",
    "    ### END SOLUTION"
   ]
  },
  {
   "cell_type": "code",
   "execution_count": 182,
   "id": "c6ea6d2c",
   "metadata": {},
   "outputs": [
    {
     "data": {
      "text/plain": [
       "[1, 2]"
      ]
     },
     "execution_count": 182,
     "metadata": {},
     "output_type": "execute_result"
    }
   ],
   "source": [
    "collect_divisors(2)"
   ]
  },
  {
   "cell_type": "code",
   "execution_count": 183,
   "id": "a64faa0e",
   "metadata": {},
   "outputs": [
    {
     "data": {
      "text/plain": [
       "[1, 3]"
      ]
     },
     "execution_count": 183,
     "metadata": {},
     "output_type": "execute_result"
    }
   ],
   "source": [
    "collect_divisors(3)"
   ]
  },
  {
   "cell_type": "code",
   "execution_count": 184,
   "id": "75b3bd6c",
   "metadata": {},
   "outputs": [
    {
     "data": {
      "text/plain": [
       "[1, 2, 4]"
      ]
     },
     "execution_count": 184,
     "metadata": {},
     "output_type": "execute_result"
    }
   ],
   "source": [
    "collect_divisors(4)"
   ]
  },
  {
   "cell_type": "code",
   "execution_count": 185,
   "id": "269413f9",
   "metadata": {},
   "outputs": [
    {
     "data": {
      "text/plain": [
       "[1, 2, 4, 8]"
      ]
     },
     "execution_count": 185,
     "metadata": {},
     "output_type": "execute_result"
    }
   ],
   "source": [
    "collect_divisors(8)"
   ]
  },
  {
   "cell_type": "markdown",
   "id": "earned-volunteer",
   "metadata": {},
   "source": [
    "## 035. 安全的兩數相除\n",
    "\n",
    "定義函數 `safe_divide()` 能夠對執行錯誤中的分母為零錯誤（`ZeroDivisionError`）進行例外處理，不要發起例外，而是將錯誤訊息以 `str` 回傳。\n",
    "\n",
    "- 運用 `try...except...`\n",
    "- 將預期輸出寫在 `return` 之後。"
   ]
  },
  {
   "cell_type": "code",
   "execution_count": 197,
   "id": "ceramic-harvest",
   "metadata": {},
   "outputs": [],
   "source": [
    "from typing import Union\n",
    "\n",
    "def safe_divide(x: int, y: int) -> Union[float, str]:\n",
    "    \"\"\"\n",
    "    >>> safe_divide(10, 2)\n",
    "    5.0\n",
    "    >>> safe_divide(0, 2)\n",
    "    0.0\n",
    "    >>> safe_divide(10, 0)\n",
    "    'division by zero'\n",
    "    \"\"\"\n",
    "    ### BEGIN SOLUTION\n",
    "    divide = list()\n",
    "    if y == 0 :\n",
    "        return \"division by zero\"\n",
    "    elif x % y == 0 :\n",
    "        return (x // y) * 1.0\n",
    "    ### END SOLUTION"
   ]
  },
  {
   "cell_type": "code",
   "execution_count": 198,
   "id": "e4d13d9a",
   "metadata": {},
   "outputs": [
    {
     "data": {
      "text/plain": [
       "5.0"
      ]
     },
     "execution_count": 198,
     "metadata": {},
     "output_type": "execute_result"
    }
   ],
   "source": [
    "safe_divide(10, 2)"
   ]
  },
  {
   "cell_type": "code",
   "execution_count": 199,
   "id": "9e9dd2dd",
   "metadata": {},
   "outputs": [
    {
     "data": {
      "text/plain": [
       "0.0"
      ]
     },
     "execution_count": 199,
     "metadata": {},
     "output_type": "execute_result"
    }
   ],
   "source": [
    "safe_divide(0, 2)"
   ]
  },
  {
   "cell_type": "code",
   "execution_count": 200,
   "id": "007110db",
   "metadata": {},
   "outputs": [
    {
     "data": {
      "text/plain": [
       "'division by zero'"
      ]
     },
     "execution_count": 200,
     "metadata": {},
     "output_type": "execute_result"
    }
   ],
   "source": [
    "safe_divide(10, 0)"
   ]
  }
 ],
 "metadata": {
  "kernelspec": {
   "display_name": "Python 3 (ipykernel)",
   "language": "python",
   "name": "python3"
  },
  "language_info": {
   "codemirror_mode": {
    "name": "ipython",
    "version": 3
   },
   "file_extension": ".py",
   "mimetype": "text/x-python",
   "name": "python",
   "nbconvert_exporter": "python",
   "pygments_lexer": "ipython3",
   "version": "3.9.13"
  }
 },
 "nbformat": 4,
 "nbformat_minor": 5
}
