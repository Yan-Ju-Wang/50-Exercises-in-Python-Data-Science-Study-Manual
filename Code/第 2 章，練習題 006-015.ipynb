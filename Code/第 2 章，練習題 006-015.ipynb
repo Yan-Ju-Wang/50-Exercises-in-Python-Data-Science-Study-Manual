{
 "cells": [
  {
   "cell_type": "markdown",
   "id": "heated-welding",
   "metadata": {
    "deletable": false
   },
   "source": [
    "# Python 的 50+ 練習：資料科學學習手冊\n",
    "\n",
    "> 使用資料類別運算顯示與判斷\n",
    "\n",
    "[數據交點](https://www.datainpoint.com) | 郭耀仁 <yaojenkuo@datainpoint.com>"
   ]
  },
  {
   "cell_type": "markdown",
   "id": "fleet-tokyo",
   "metadata": {
    "deletable": false
   },
   "source": [
    "## 練習題指引\n",
    "\n",
    "- 練習題閒置超過 10 分鐘會自動斷線，只要重新點選練習題連結即可重新啟動。\n",
    "- 第一個程式碼儲存格會將可能用得到的模組載入。\n",
    "- 如果練習題需要載入檔案，檔案存放絕對路徑為 `/home/jovyan/data`，相對路徑為 `../data`\n",
    "- 練習題已經給定函數、類別、預期輸入或參數名稱，我們只需要寫作程式區塊。同時也給定函數的類別提示，說明預期輸入以及預期輸出的類別。\n",
    "- 說明（Docstring）會描述測試如何進行，閱讀說明能夠暸解預期輸入以及預期輸出之間的關係，幫助我們更快解題。\n",
    "- 請在 `### BEGIN SOLUTION` 與 `### END SOLUTION` 這兩個註解之間寫作函數或者類別的程式區塊。\n",
    "- 將預期輸出放置在 `return` 保留字之後，若只是用 `print()` 函數將預期輸出印出無法通過測試。\n",
    "- 語法錯誤（`SyntaxError`）或縮排錯誤（`IndentationError`）等將會導致測試失效，測試之前應該先在筆記本使用函數觀察是否與說明（Docstring）描述的功能相符。\n",
    "- 如果卡關，可以先看練習題詳解或者複習課程單元影片之後再繼續寫作。\n",
    "- 執行測試的步驟：\n",
    "    1. 點選上方選單的 File -> Save Notebook 儲存 exercises.ipynb。\n",
    "    2. 點選上方選單的 File -> New -> Terminal 開啟終端機。\n",
    "    3. 在 Terminal 輸入 `python 02-data-types/test_runner.py` 後按下 Enter 執行測試。"
   ]
  },
  {
   "cell_type": "markdown",
   "id": "typical-impact",
   "metadata": {},
   "source": [
    "## 006. 轉換公里為英里\n",
    "\n",
    "定義函數 `convert_km_to_mile()` 能夠將以公里（km）為單位的距離轉換為以英里（mile）為單位的距離。\n",
    "\n",
    "\\begin{equation}\n",
    "1 \\; \\text{km} = 0.62137 \\; \\text{mile}\n",
    "\\end{equation}\n",
    "\n",
    "- 運用數值運算符。\n",
    "- 將預期輸出寫在 `return` 之後。"
   ]
  },
  {
   "cell_type": "code",
   "execution_count": 9,
   "id": "economic-blast",
   "metadata": {},
   "outputs": [],
   "source": [
    "def convert_km_to_mile(km: float) -> float:\n",
    "    \"\"\"\n",
    "    >>> convert_km_to_mile(42.195) # a full marathon\n",
    "    26.21870715\n",
    "    >>> convert_km_to_mile(21.095) # a half marathon\n",
    "    13.10780015\n",
    "    \"\"\"\n",
    "    ### BEGIN SOLUTION\n",
    "    mile = km * 0.62137\n",
    "    return mile\n",
    "    ### END SOLUTION"
   ]
  },
  {
   "cell_type": "code",
   "execution_count": 10,
   "id": "781dd6a5",
   "metadata": {},
   "outputs": [
    {
     "data": {
      "text/plain": [
       "26.21870715"
      ]
     },
     "execution_count": 10,
     "metadata": {},
     "output_type": "execute_result"
    }
   ],
   "source": [
    "convert_km_to_mile(42.195)"
   ]
  },
  {
   "cell_type": "code",
   "execution_count": 11,
   "id": "6c82cbaf",
   "metadata": {},
   "outputs": [
    {
     "data": {
      "text/plain": [
       "13.10780015"
      ]
     },
     "execution_count": 11,
     "metadata": {},
     "output_type": "execute_result"
    }
   ],
   "source": [
    "convert_km_to_mile(21.095)"
   ]
  },
  {
   "cell_type": "markdown",
   "id": "silver-mechanism",
   "metadata": {},
   "source": [
    "## 007. 轉換華氏為攝氏\n",
    "\n",
    "定義函數 `convert_fahrenheit_to_celsius()` 能夠將以華氏為單位的溫度轉換為以攝氏為單位的溫度。\n",
    "\n",
    "\\begin{equation}\n",
    "\\text{Celsius}(^{\\circ} \\text{C}) = (\\text{Fahrenheit}(^{\\circ} \\text{F}) - 32) \\times \\frac{5}{9}\n",
    "\\end{equation}\n",
    "\n",
    "- 運用數值運算符。\n",
    "- 注意數值運算符作用的優先順序。\n",
    "- 將預期輸出寫在 `return` 之後。"
   ]
  },
  {
   "cell_type": "code",
   "execution_count": 16,
   "id": "latest-connectivity",
   "metadata": {},
   "outputs": [],
   "source": [
    "def convert_fahrenheit_to_celsius(x: int) -> float:\n",
    "    \"\"\"\n",
    "    >>> convert_fahrenheit_to_celsius(212)\n",
    "    100.0\n",
    "    >>> convert_fahrenheit_to_celsius(32)\n",
    "    0.0\n",
    "    \"\"\"\n",
    "    ### BEGIN SOLUTION\n",
    "    celsius = (x -32) * 5/9\n",
    "    return celsius\n",
    "    ### END SOLUTION"
   ]
  },
  {
   "cell_type": "code",
   "execution_count": 17,
   "id": "5532d472",
   "metadata": {},
   "outputs": [
    {
     "data": {
      "text/plain": [
       "100.0"
      ]
     },
     "execution_count": 17,
     "metadata": {},
     "output_type": "execute_result"
    }
   ],
   "source": [
    "convert_fahrenheit_to_celsius(212)"
   ]
  },
  {
   "cell_type": "code",
   "execution_count": 18,
   "id": "85ef5ff1",
   "metadata": {},
   "outputs": [
    {
     "data": {
      "text/plain": [
       "0.0"
      ]
     },
     "execution_count": 18,
     "metadata": {},
     "output_type": "execute_result"
    }
   ],
   "source": [
    "convert_fahrenheit_to_celsius(32)"
   ]
  },
  {
   "cell_type": "markdown",
   "id": "driven-hacker",
   "metadata": {},
   "source": [
    "## 008. 計算 BMI\n",
    "\n",
    "定義函數 `calculate_bmi()` 能夠計算身高（公分）與體重（公斤）換算為身體質量指數（Body Mass Index, BMI）。\n",
    "\n",
    "\\begin{equation}\n",
    "\\text{BMI} = \\frac{\\text{weight}_{kg}}{\\text{height}_{m}^2}\n",
    "\\end{equation}\n",
    "\n",
    "- 運用數值運算符。\n",
    "- 注意數值運算符作用的優先順序。\n",
    "- 將預期輸出寫在 `return` 之後。"
   ]
  },
  {
   "cell_type": "code",
   "execution_count": 21,
   "id": "regulation-former",
   "metadata": {},
   "outputs": [],
   "source": [
    "def calculate_bmi(height: int, weight: int) -> float:\n",
    "    \"\"\"\n",
    "    >>> calculate_bmi(206, 113) # LeBron James\n",
    "    26.628334433028563\n",
    "    >>> calculate_bmi(211, 110) # Giannis Antetokounmpo\n",
    "    24.70744143213315\n",
    "    >>> calculate_bmi(201, 104) # Luka Doncic\n",
    "    25.74193708076532\n",
    "    \"\"\"\n",
    "    ### BEGIN SOLUTION\n",
    "    bmi = weight / ((height / 100) ** 2)\n",
    "    return bmi\n",
    "    ### END SOLUTION"
   ]
  },
  {
   "cell_type": "code",
   "execution_count": 22,
   "id": "45816974",
   "metadata": {},
   "outputs": [
    {
     "data": {
      "text/plain": [
       "26.628334433028563"
      ]
     },
     "execution_count": 22,
     "metadata": {},
     "output_type": "execute_result"
    }
   ],
   "source": [
    "calculate_bmi(206, 113) # LeBron James"
   ]
  },
  {
   "cell_type": "code",
   "execution_count": 23,
   "id": "918ba570",
   "metadata": {},
   "outputs": [
    {
     "data": {
      "text/plain": [
       "24.70744143213315"
      ]
     },
     "execution_count": 23,
     "metadata": {},
     "output_type": "execute_result"
    }
   ],
   "source": [
    "calculate_bmi(211, 110)"
   ]
  },
  {
   "cell_type": "code",
   "execution_count": 24,
   "id": "dc4ca818",
   "metadata": {},
   "outputs": [
    {
     "data": {
      "text/plain": [
       "25.741937080765336"
      ]
     },
     "execution_count": 24,
     "metadata": {},
     "output_type": "execute_result"
    }
   ],
   "source": [
    "calculate_bmi(201, 104)"
   ]
  },
  {
   "cell_type": "markdown",
   "id": "hollywood-lottery",
   "metadata": {},
   "source": [
    "## 009. 顯示逗號與兩位小數格式\n",
    "\n",
    "定義函數 `show_integer_with_commas_and_digits()` 能夠將整數以千分位逗號與兩位浮點數顯示。\n",
    "\n",
    "- 運用 `str` 的特定顯示格式：`str.format()` 方法或 f-string 語法。\n",
    "- 將預期輸出寫在 `return` 之後。"
   ]
  },
  {
   "cell_type": "code",
   "execution_count": 42,
   "id": "neutral-windsor",
   "metadata": {},
   "outputs": [],
   "source": [
    "def show_integer_with_commas_and_digits(x: int) -> str:\n",
    "    \"\"\"\n",
    "    >>> show_integer_with_commas_and_digits(1000)\n",
    "    '1,000.00'\n",
    "    >>> show_integer_with_commas_and_digits(10000)\n",
    "    '10,000.00'\n",
    "    >>> show_integer_with_commas_and_digits(100000)\n",
    "    '100,000.00'\n",
    "    \"\"\"\n",
    "    ### BEGIN SOLUTION\n",
    "    return \"{:,.2f}\".format(x)\n",
    "    ### END SOLUTION"
   ]
  },
  {
   "cell_type": "code",
   "execution_count": 43,
   "id": "fc79a05e",
   "metadata": {},
   "outputs": [
    {
     "data": {
      "text/plain": [
       "'1,000.00'"
      ]
     },
     "execution_count": 43,
     "metadata": {},
     "output_type": "execute_result"
    }
   ],
   "source": [
    "show_integer_with_commas_and_digits(1000)"
   ]
  },
  {
   "cell_type": "code",
   "execution_count": 44,
   "id": "42a48290",
   "metadata": {},
   "outputs": [
    {
     "data": {
      "text/plain": [
       "'10,000.00'"
      ]
     },
     "execution_count": 44,
     "metadata": {},
     "output_type": "execute_result"
    }
   ],
   "source": [
    "show_integer_with_commas_and_digits(10000)"
   ]
  },
  {
   "cell_type": "code",
   "execution_count": 45,
   "id": "c98f45e3",
   "metadata": {},
   "outputs": [
    {
     "data": {
      "text/plain": [
       "'100,000.00'"
      ]
     },
     "execution_count": 45,
     "metadata": {},
     "output_type": "execute_result"
    }
   ],
   "source": [
    "show_integer_with_commas_and_digits(100000)"
   ]
  },
  {
   "cell_type": "markdown",
   "id": "persistent-powell",
   "metadata": {},
   "source": [
    "## 010. 轉換 1 美元為其他貨幣\n",
    "\n",
    "定義函數 `convert_one_usd_to_another_currency()` 能夠將 1 美元與兌換其他貨幣以千分位逗號與兩位浮點數顯示。\n",
    "\n",
    "- 運用 `str` 的特定顯示格式：`str.format()` 方法或 f-string 語法。\n",
    "- 將預期輸出寫在 `return` 之後。"
   ]
  },
  {
   "cell_type": "code",
   "execution_count": 48,
   "id": "smooth-material",
   "metadata": {},
   "outputs": [],
   "source": [
    "def convert_one_usd_to_another_currency(currency_name: str, exchange_rate: float) -> str:\n",
    "    \"\"\"\n",
    "    >>> convert_one_usd_to_another_currency(\"NTD\", 28)\n",
    "    '1.00 USD = 28.00 NTD'\n",
    "    >>> convert_one_usd_to_another_currency(\"KRW\", 1196)\n",
    "    '1.00 USD = 1,196.00 KRW'\n",
    "    >>> convert_one_usd_to_another_currency(\"JPY\", 112)\n",
    "    '1.00 USD = 112.00 JPY'\n",
    "    \"\"\"\n",
    "    ### BEGIN SOLUTION\n",
    "    currency = \"1.00 USD = {0:,.2f} {1}\".format(exchange_rate,currency_name)\n",
    "    return currency\n",
    "    ### END SOLUTION"
   ]
  },
  {
   "cell_type": "code",
   "execution_count": 49,
   "id": "ad473dcb",
   "metadata": {},
   "outputs": [
    {
     "data": {
      "text/plain": [
       "'1.00 USD = 28.00 NTD'"
      ]
     },
     "execution_count": 49,
     "metadata": {},
     "output_type": "execute_result"
    }
   ],
   "source": [
    "convert_one_usd_to_another_currency(\"NTD\", 28)"
   ]
  },
  {
   "cell_type": "code",
   "execution_count": 50,
   "id": "b5b60440",
   "metadata": {},
   "outputs": [
    {
     "data": {
      "text/plain": [
       "'1.00 USD = 1,196.00 KRW'"
      ]
     },
     "execution_count": 50,
     "metadata": {},
     "output_type": "execute_result"
    }
   ],
   "source": [
    "convert_one_usd_to_another_currency(\"KRW\", 1196)"
   ]
  },
  {
   "cell_type": "code",
   "execution_count": 51,
   "id": "397b443c",
   "metadata": {},
   "outputs": [
    {
     "data": {
      "text/plain": [
       "'1.00 USD = 112.00 JPY'"
      ]
     },
     "execution_count": 51,
     "metadata": {},
     "output_type": "execute_result"
    }
   ],
   "source": [
    "convert_one_usd_to_another_currency(\"JPY\", 112)"
   ]
  },
  {
   "cell_type": "markdown",
   "id": "automated-glossary",
   "metadata": {},
   "source": [
    "## 011. 是否為正數\n",
    "\n",
    "定義函數 `is_positive()` 能夠判斷輸入的整數是否為正數。\n",
    "\n",
    "- 運用關係運算符。\n",
    "- 將預期輸出寫在 `return` 之後。"
   ]
  },
  {
   "cell_type": "code",
   "execution_count": 52,
   "id": "interior-spanish",
   "metadata": {},
   "outputs": [],
   "source": [
    "def is_positive(x: int) -> bool:\n",
    "    \"\"\"\n",
    "    >>> is_positive(-1)\n",
    "    False\n",
    "    >>> is_positive(0)\n",
    "    False\n",
    "    >>> is_positive(1)\n",
    "    True\n",
    "    \"\"\"\n",
    "    ### BEGIN SOLUTION\n",
    "    return x > 0\n",
    "    ### END SOLUTION"
   ]
  },
  {
   "cell_type": "code",
   "execution_count": 53,
   "id": "38321d2a",
   "metadata": {},
   "outputs": [
    {
     "data": {
      "text/plain": [
       "False"
      ]
     },
     "execution_count": 53,
     "metadata": {},
     "output_type": "execute_result"
    }
   ],
   "source": [
    "is_positive(-1)"
   ]
  },
  {
   "cell_type": "code",
   "execution_count": 54,
   "id": "480cbb22",
   "metadata": {},
   "outputs": [
    {
     "data": {
      "text/plain": [
       "False"
      ]
     },
     "execution_count": 54,
     "metadata": {},
     "output_type": "execute_result"
    }
   ],
   "source": [
    "is_positive(0)"
   ]
  },
  {
   "cell_type": "code",
   "execution_count": 55,
   "id": "888ac6ce",
   "metadata": {},
   "outputs": [
    {
     "data": {
      "text/plain": [
       "True"
      ]
     },
     "execution_count": 55,
     "metadata": {},
     "output_type": "execute_result"
    }
   ],
   "source": [
    "is_positive(1)"
   ]
  },
  {
   "cell_type": "markdown",
   "id": "particular-samoa",
   "metadata": {},
   "source": [
    "## 012. 是否為兩位數\n",
    "\n",
    "定義函數 `has_two_digits()` 能夠判斷輸入的正整數是否為兩位數。\n",
    "\n",
    "- 運用關係運算符。\n",
    "- 將預期輸出寫在 `return` 之後。"
   ]
  },
  {
   "cell_type": "code",
   "execution_count": 57,
   "id": "third-ability",
   "metadata": {},
   "outputs": [],
   "source": [
    "def has_two_digits(x: int) -> bool:\n",
    "    \"\"\"\n",
    "    >>> has_two_digits(9)\n",
    "    False\n",
    "    >>> has_two_digits(10)\n",
    "    True\n",
    "    >>> has_two_digits(100)\n",
    "    False\n",
    "    \"\"\"\n",
    "    ### BEGIN SOLUTION\n",
    "    condition_1 = x >= 10\n",
    "    condition_2 = x <= 99\n",
    "    return condition_1 and condition_2\n",
    "    ### END SOLUTION"
   ]
  },
  {
   "cell_type": "code",
   "execution_count": 59,
   "id": "95cf4e06",
   "metadata": {},
   "outputs": [
    {
     "data": {
      "text/plain": [
       "False"
      ]
     },
     "execution_count": 59,
     "metadata": {},
     "output_type": "execute_result"
    }
   ],
   "source": [
    "has_two_digits(9)"
   ]
  },
  {
   "cell_type": "code",
   "execution_count": 60,
   "id": "84c56b28",
   "metadata": {},
   "outputs": [
    {
     "data": {
      "text/plain": [
       "True"
      ]
     },
     "execution_count": 60,
     "metadata": {},
     "output_type": "execute_result"
    }
   ],
   "source": [
    "has_two_digits(10)"
   ]
  },
  {
   "cell_type": "code",
   "execution_count": 61,
   "id": "a945eed6",
   "metadata": {},
   "outputs": [
    {
     "data": {
      "text/plain": [
       "False"
      ]
     },
     "execution_count": 61,
     "metadata": {},
     "output_type": "execute_result"
    }
   ],
   "source": [
    "has_two_digits(100)"
   ]
  },
  {
   "cell_type": "markdown",
   "id": "corporate-building",
   "metadata": {},
   "source": [
    "## 013. 是否為奇數\n",
    "\n",
    "定義函數 `is_odd()` 能夠判斷輸入的整數是否為奇數。\n",
    "\n",
    "- 運用數值運算符。\n",
    "- 運用關係運算符。\n",
    "- 將預期輸出寫在 `return` 之後。"
   ]
  },
  {
   "cell_type": "code",
   "execution_count": 66,
   "id": "domestic-constraint",
   "metadata": {},
   "outputs": [],
   "source": [
    "def is_odd(x: int) -> bool:\n",
    "    \"\"\"\n",
    "    >>> is_odd(0)\n",
    "    False\n",
    "    >>> is_odd(1)\n",
    "    True\n",
    "    >>> is_odd(2)\n",
    "    False\n",
    "    \"\"\"\n",
    "    ### BEGIN SOLUTION\n",
    "    condition = ((x % 2) != 0)\n",
    "    \n",
    "    return condition\n",
    "    ### END SOLUTION"
   ]
  },
  {
   "cell_type": "code",
   "execution_count": 68,
   "id": "2b439b4d",
   "metadata": {},
   "outputs": [
    {
     "data": {
      "text/plain": [
       "False"
      ]
     },
     "execution_count": 68,
     "metadata": {},
     "output_type": "execute_result"
    }
   ],
   "source": [
    "is_odd(0)"
   ]
  },
  {
   "cell_type": "code",
   "execution_count": 69,
   "id": "e747f4f9",
   "metadata": {},
   "outputs": [
    {
     "data": {
      "text/plain": [
       "True"
      ]
     },
     "execution_count": 69,
     "metadata": {},
     "output_type": "execute_result"
    }
   ],
   "source": [
    "is_odd(1)"
   ]
  },
  {
   "cell_type": "code",
   "execution_count": 70,
   "id": "add64931",
   "metadata": {},
   "outputs": [
    {
     "data": {
      "text/plain": [
       "False"
      ]
     },
     "execution_count": 70,
     "metadata": {},
     "output_type": "execute_result"
    }
   ],
   "source": [
    "is_odd(2)"
   ]
  },
  {
   "cell_type": "markdown",
   "id": "intellectual-system",
   "metadata": {},
   "source": [
    "## 014. 是否為因數\n",
    "\n",
    "自行定義函數 `is_a_divisor()` 能夠判斷輸入的兩個正整數中，前者是否為後者的因數（前者能否把後者整除）。\n",
    "\n",
    "- 運用數值運算符。\n",
    "- 運用關係運算符。\n",
    "- 將預期輸出寫在 `return` 之後。"
   ]
  },
  {
   "cell_type": "code",
   "execution_count": 78,
   "id": "rapid-wilderness",
   "metadata": {},
   "outputs": [],
   "source": [
    "def is_a_divisor(x: int, y: int) -> bool:\n",
    "    \"\"\"\n",
    "    >>> is_a_divisor(1, 3)\n",
    "    True\n",
    "    >>> is_a_divisor(2, 3)\n",
    "    False\n",
    "    >>> is_a_divisor(3, 3)\n",
    "    True\n",
    "    >>> is_a_divisor(1, 4)\n",
    "    True\n",
    "    >>> is_a_divisor(2, 4)\n",
    "    True\n",
    "    >>> is_a_divisor(3, 4)\n",
    "    False\n",
    "    >>> is_a_divisor(4, 4)\n",
    "    True\n",
    "    \"\"\"\n",
    "    ### BEGIN SOLUTION\n",
    "    condition = ((y % x) == 0)\n",
    "    return condition\n",
    "    ### END SOLUTION"
   ]
  },
  {
   "cell_type": "code",
   "execution_count": 79,
   "id": "b6d976bb",
   "metadata": {},
   "outputs": [
    {
     "data": {
      "text/plain": [
       "True"
      ]
     },
     "execution_count": 79,
     "metadata": {},
     "output_type": "execute_result"
    }
   ],
   "source": [
    "is_a_divisor(1, 3)"
   ]
  },
  {
   "cell_type": "code",
   "execution_count": 80,
   "id": "0a75278d",
   "metadata": {},
   "outputs": [
    {
     "data": {
      "text/plain": [
       "False"
      ]
     },
     "execution_count": 80,
     "metadata": {},
     "output_type": "execute_result"
    }
   ],
   "source": [
    "is_a_divisor(2, 3)"
   ]
  },
  {
   "cell_type": "code",
   "execution_count": 81,
   "id": "15bbed43",
   "metadata": {},
   "outputs": [
    {
     "data": {
      "text/plain": [
       "True"
      ]
     },
     "execution_count": 81,
     "metadata": {},
     "output_type": "execute_result"
    }
   ],
   "source": [
    "is_a_divisor(3, 3)"
   ]
  },
  {
   "cell_type": "code",
   "execution_count": 82,
   "id": "43e052fc",
   "metadata": {},
   "outputs": [
    {
     "data": {
      "text/plain": [
       "True"
      ]
     },
     "execution_count": 82,
     "metadata": {},
     "output_type": "execute_result"
    }
   ],
   "source": [
    "is_a_divisor(1, 4)"
   ]
  },
  {
   "cell_type": "code",
   "execution_count": 83,
   "id": "480e65f7",
   "metadata": {},
   "outputs": [
    {
     "data": {
      "text/plain": [
       "True"
      ]
     },
     "execution_count": 83,
     "metadata": {},
     "output_type": "execute_result"
    }
   ],
   "source": [
    "is_a_divisor(2, 4)"
   ]
  },
  {
   "cell_type": "code",
   "execution_count": 84,
   "id": "cf34f4bb",
   "metadata": {},
   "outputs": [
    {
     "data": {
      "text/plain": [
       "False"
      ]
     },
     "execution_count": 84,
     "metadata": {},
     "output_type": "execute_result"
    }
   ],
   "source": [
    "is_a_divisor(3, 4)"
   ]
  },
  {
   "cell_type": "code",
   "execution_count": 85,
   "id": "38c93740",
   "metadata": {},
   "outputs": [
    {
     "data": {
      "text/plain": [
       "True"
      ]
     },
     "execution_count": 85,
     "metadata": {},
     "output_type": "execute_result"
    }
   ],
   "source": [
    "is_a_divisor(4, 4)"
   ]
  },
  {
   "cell_type": "markdown",
   "id": "thousand-delaware",
   "metadata": {},
   "source": [
    "## 015. 是否有母音\n",
    "\n",
    "定義函數 `contain_vowels()` 能夠判斷輸入的 `str` 中是否包含英文的母音 a, e, i, o, u。\n",
    "\n",
    "- 運用關係運算符。\n",
    "- 運用邏輯運算符。\n",
    "- 將預期輸出寫在 `return` 之後。"
   ]
  },
  {
   "cell_type": "code",
   "execution_count": 92,
   "id": "banned-palace",
   "metadata": {},
   "outputs": [],
   "source": [
    "def contain_vowels(x: str) -> bool:\n",
    "    \"\"\"\n",
    "    >>> contain_vowels(\"python\")\n",
    "    True\n",
    "    >>> contain_vowels(\"pythn\")\n",
    "    False\n",
    "    >>> contain_vowels(\"anaconda\")\n",
    "    True\n",
    "    >>> contain_vowels(\"ncnd\")\n",
    "    False\n",
    "    >>> contain_vowels(\"reticulate\")\n",
    "    True\n",
    "    >>> contain_vowels(\"rtclt\")\n",
    "    False\n",
    "    \"\"\"\n",
    "    ### BEGIN SOLUTION\n",
    "    contain_a = \"a\" in x\n",
    "    contain_e = \"e\" in x\n",
    "    contain_i = \"i\" in x\n",
    "    contain_o = \"o\" in x\n",
    "    contain_u = \"u\" in x\n",
    "    condition_aeiou = contain_a or contain_e or contain_i or contain_o or contain_u\n",
    "    return condition_aeiou\n",
    "    ### END SOLUTION"
   ]
  },
  {
   "cell_type": "code",
   "execution_count": 93,
   "id": "5b908f35",
   "metadata": {},
   "outputs": [
    {
     "data": {
      "text/plain": [
       "True"
      ]
     },
     "execution_count": 93,
     "metadata": {},
     "output_type": "execute_result"
    }
   ],
   "source": [
    "contain_vowels(\"python\")"
   ]
  },
  {
   "cell_type": "code",
   "execution_count": 94,
   "id": "2e7f1d5c",
   "metadata": {},
   "outputs": [
    {
     "data": {
      "text/plain": [
       "False"
      ]
     },
     "execution_count": 94,
     "metadata": {},
     "output_type": "execute_result"
    }
   ],
   "source": [
    "contain_vowels(\"pythn\")"
   ]
  },
  {
   "cell_type": "code",
   "execution_count": 95,
   "id": "c38e4f9d",
   "metadata": {},
   "outputs": [
    {
     "data": {
      "text/plain": [
       "True"
      ]
     },
     "execution_count": 95,
     "metadata": {},
     "output_type": "execute_result"
    }
   ],
   "source": [
    "contain_vowels(\"anaconda\")"
   ]
  },
  {
   "cell_type": "code",
   "execution_count": 96,
   "id": "c7ff4ba9",
   "metadata": {},
   "outputs": [
    {
     "data": {
      "text/plain": [
       "False"
      ]
     },
     "execution_count": 96,
     "metadata": {},
     "output_type": "execute_result"
    }
   ],
   "source": [
    "contain_vowels(\"ncnd\")"
   ]
  },
  {
   "cell_type": "code",
   "execution_count": 97,
   "id": "380b71f2",
   "metadata": {},
   "outputs": [
    {
     "data": {
      "text/plain": [
       "True"
      ]
     },
     "execution_count": 97,
     "metadata": {},
     "output_type": "execute_result"
    }
   ],
   "source": [
    "contain_vowels(\"reticulate\")"
   ]
  },
  {
   "cell_type": "code",
   "execution_count": 98,
   "id": "8ac7f217",
   "metadata": {},
   "outputs": [
    {
     "data": {
      "text/plain": [
       "False"
      ]
     },
     "execution_count": 98,
     "metadata": {},
     "output_type": "execute_result"
    }
   ],
   "source": [
    "contain_vowels(\"rtclt\")"
   ]
  },
  {
   "cell_type": "code",
   "execution_count": null,
   "id": "05e73d4e",
   "metadata": {},
   "outputs": [],
   "source": []
  }
 ],
 "metadata": {
  "kernelspec": {
   "display_name": "Python 3 (ipykernel)",
   "language": "python",
   "name": "python3"
  },
  "language_info": {
   "codemirror_mode": {
    "name": "ipython",
    "version": 3
   },
   "file_extension": ".py",
   "mimetype": "text/x-python",
   "name": "python",
   "nbconvert_exporter": "python",
   "pygments_lexer": "ipython3",
   "version": "3.9.13"
  }
 },
 "nbformat": 4,
 "nbformat_minor": 5
}
