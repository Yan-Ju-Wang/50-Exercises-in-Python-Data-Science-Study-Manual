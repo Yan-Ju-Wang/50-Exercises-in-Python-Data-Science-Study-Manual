{
 "cells": [
  {
   "cell_type": "markdown",
   "id": "heated-welding",
   "metadata": {
    "deletable": false
   },
   "source": [
    "# Python 的 50+ 練習：資料科學學習手冊\n",
    "\n",
    "> 日期時間資料操作\n",
    "\n",
    "[數據交點](https://www.datainpoint.com) | 郭耀仁 <yaojenkuo@datainpoint.com>"
   ]
  },
  {
   "cell_type": "markdown",
   "id": "fleet-tokyo",
   "metadata": {
    "deletable": false
   },
   "source": [
    "## 練習題指引\n",
    "\n",
    "- 練習題閒置超過 10 分鐘會自動斷線，只要重新點選練習題連結即可重新啟動。\n",
    "- 第一個程式碼儲存格會將可能用得到的模組載入。\n",
    "- 如果練習題需要載入檔案，檔案存放絕對路徑為 `/home/jovyan/data`\n",
    "- 練習題已經給定函數、類別、預期輸入或參數名稱，我們只需要寫作程式區塊。同時也給定函數的類別提示，說明預期輸入以及預期輸出的類別。\n",
    "- 說明（Docstring）會描述測試如何進行，閱讀說明能夠暸解預期輸入以及預期輸出之間的關係，幫助我們更快解題。\n",
    "- 請在 `### BEGIN SOLUTION` 與 `### END SOLUTION` 這兩個註解之間寫作函數或者類別的程式區塊。\n",
    "- 將預期輸出放置在 `return` 保留字之後，若只是用 `print()` 函數將預期輸出印出無法通過測試。\n",
    "- 語法錯誤（`SyntaxError`）或縮排錯誤（`IndentationError`）等將會導致測試失效，測試之前應該先在筆記本使用函數觀察是否與說明（Docstring）描述的功能相符。\n",
    "- 如果卡關，可以先看練習題詳解或者複習課程單元影片之後再繼續寫作。\n",
    "- 執行測試的步驟：\n",
    "    1. 點選上方選單的 File -> Save Notebook 儲存 exercises.ipynb。\n",
    "    2. 點選上方選單的 File -> New -> Terminal 開啟終端機。\n",
    "    3. 在終端機輸入 `python 17-working-with-date-time/test_runner.py` 後按下 Enter 執行測試。"
   ]
  },
  {
   "cell_type": "code",
   "execution_count": 115,
   "id": "collected-norwegian",
   "metadata": {},
   "outputs": [],
   "source": [
    "from datetime import date\n",
    "from datetime import time\n",
    "from datetime import datetime\n",
    "from datetime import timedelta\n",
    "import pandas as pd"
   ]
  },
  {
   "cell_type": "markdown",
   "id": "touched-discharge",
   "metadata": {},
   "source": [
    "## 141. 建立日期物件\n",
    "\n",
    "定義函數 `create_date_object()` 將輸入的整數轉換為 `date` 類別的實例。\n",
    "\n",
    "- 運用 `date` 類別。\n",
    "- 將預期輸出寫在 `return` 之後。"
   ]
  },
  {
   "cell_type": "code",
   "execution_count": 117,
   "id": "28fa5ed2",
   "metadata": {},
   "outputs": [],
   "source": [
    "def create_date_object(year: int, month: int, day: int) -> date:\n",
    "    \"\"\"\n",
    "    >>> create_date_object(2021, 12, 31)\n",
    "    datetime.date(2021, 12, 31)\n",
    "    >>> type(create_date_object(2021, 12, 31))\n",
    "    datetime.date\n",
    "    >>> print(create_date_object(2021, 12, 31))\n",
    "    2021-12-31\n",
    "    >>> create_date_object(2022, 1, 1)\n",
    "    datetime.date(2022, 1, 1)\n",
    "    >>> type(create_date_object(2022, 1, 1))\n",
    "    datetime.date\n",
    "    >>> print(create_date_object(2022, 1, 1))\n",
    "    2022-01-01\n",
    "    \"\"\"\n",
    "    ### BEGIN SOLUTION\n",
    "    return date(year, month, day)\n",
    "    ### END SOLUTION"
   ]
  },
  {
   "cell_type": "code",
   "execution_count": 123,
   "id": "30232df8",
   "metadata": {},
   "outputs": [
    {
     "name": "stdout",
     "output_type": "stream",
     "text": [
      "2021-12-31\n",
      "2022-01-01\n"
     ]
    }
   ],
   "source": [
    "create_date_object(2021, 12, 31)\n",
    "type(create_date_object(2021, 12, 31))\n",
    "print(create_date_object(2021, 12, 31))\n",
    "create_date_object(2022, 1, 1)\n",
    "type(create_date_object(2022, 1, 1))\n",
    "print(create_date_object(2022, 1, 1))"
   ]
  },
  {
   "cell_type": "markdown",
   "id": "52e8eef7",
   "metadata": {},
   "source": [
    "## 142. 建立時間物件\n",
    "\n",
    "定義函數 `create_time_object()` 將輸入的整數轉換為 `time` 類別的實例。\n",
    "\n",
    "- 運用 `time` 類別。\n",
    "- 將預期輸出寫在 `return` 之後。"
   ]
  },
  {
   "cell_type": "code",
   "execution_count": 125,
   "id": "59aa04a2",
   "metadata": {},
   "outputs": [],
   "source": [
    "def create_time_object(hour: int, minute: int, second: int) -> time:\n",
    "    \"\"\"\n",
    "    >>> create_time_object(23, 59, 59)\n",
    "    datetime.time(23, 59, 59)\n",
    "    >>> type(create_time_object(23, 59, 59))\n",
    "    datetime.time\n",
    "    >>> print(create_time_object(23, 59, 59))\n",
    "    23:59:59\n",
    "    >>> create_time_object(0, 0, 1)\n",
    "    datetime.time(0, 0, 1)\n",
    "    >>> type(create_time_object(0, 0, 1))\n",
    "    datetime.time\n",
    "    >>> print(create_time_object(0, 0, 1))\n",
    "    00:00:01\n",
    "    \"\"\"\n",
    "    ### BEGIN SOLUTION\n",
    "    return time(hour, minute, second)\n",
    "    ### END SOLUTION"
   ]
  },
  {
   "cell_type": "code",
   "execution_count": 131,
   "id": "e25a8747",
   "metadata": {},
   "outputs": [
    {
     "name": "stdout",
     "output_type": "stream",
     "text": [
      "23:59:59\n",
      "00:00:01\n"
     ]
    }
   ],
   "source": [
    "create_time_object(23, 59, 59)\n",
    "type(create_time_object(23, 59, 59))\n",
    "print(create_time_object(23, 59, 59))\n",
    "create_time_object(0, 0, 1)\n",
    "type(create_time_object(0, 0, 1))\n",
    "print(create_time_object(0, 0, 1))"
   ]
  },
  {
   "cell_type": "markdown",
   "id": "127079e7",
   "metadata": {},
   "source": [
    "## 143. 建立日期時間物件\n",
    "\n",
    "定義函數 `create_datetime_object()` 將輸入的 `date` 與 `time` 轉換為 `datetime` 類別的實例。\n",
    "\n",
    "- 使用 `create_date_object()` 函數。\n",
    "- 使用 `create_time_object()` 函數。\n",
    "- 使用 `datetime.combine()`\n",
    "- 將預期輸出寫在 `return` 之後。"
   ]
  },
  {
   "cell_type": "code",
   "execution_count": 150,
   "id": "2e9a370c",
   "metadata": {},
   "outputs": [],
   "source": [
    "def create_datetime_object(d: date, t: time) -> datetime:\n",
    "    \"\"\"\n",
    "    >>> d = create_date_object(2021, 12, 31)\n",
    "    >>> t = create_time_object(23, 59, 59)\n",
    "    >>> create_datetime_object(d, t)\n",
    "    datetime.datetime(2021, 12, 31, 23, 59, 59)\n",
    "    >>> type(create_datetime_object(d, t))\n",
    "    datetime.datetime\n",
    "    >>> print(create_datetime_object(d, t))\n",
    "    2021-12-31 23:59:59\n",
    "    >>> d = create_date_object(2022, 1, 1)\n",
    "    >>> t = create_time_object(0, 0, 1)\n",
    "    >>> create_datetime_object(d, t)\n",
    "    datetime.datetime(2022, 1, 1, 0, 0, 1)\n",
    "    >>> type(create_datetime_object(d, t))\n",
    "    datetime.datetime\n",
    "    >>> print(create_datetime_object(d, t))\n",
    "    2022-01-01 00:00:01\n",
    "    \"\"\"\n",
    "    ### BEGIN SOLUTION \n",
    "    datetime_object = datetime.combine(d, t)\n",
    "    return datetime_object\n",
    "    ### END SOLUTION"
   ]
  },
  {
   "cell_type": "code",
   "execution_count": 156,
   "id": "e89461b2",
   "metadata": {},
   "outputs": [
    {
     "name": "stdout",
     "output_type": "stream",
     "text": [
      "2021-12-31 23:59:59\n",
      "2022-01-01 00:00:01\n"
     ]
    }
   ],
   "source": [
    "d = create_date_object(2021, 12, 31)\n",
    "t = create_time_object(23, 59, 59)\n",
    "create_datetime_object(d, t)\n",
    "type(create_datetime_object(d, t))\n",
    "print(create_datetime_object(d, t))\n",
    "d = create_date_object(2022, 1, 1)\n",
    "t = create_time_object(0, 0, 1)\n",
    "create_datetime_object(d, t)\n",
    "type(create_datetime_object(d, t))\n",
    "print(create_datetime_object(d, t))"
   ]
  },
  {
   "cell_type": "markdown",
   "id": "92878e8c",
   "metadata": {},
   "source": [
    "## 144. 昨天的日期 \n",
    "\n",
    "定義函數 `get_yesterdays_date()` 將輸入日期文字（ISO 8601 格式）的前一天回傳。\n",
    "\n",
    "- 使用 `date.fromisoformat()`\n",
    "- 運用 `timedelta` 類別。\n",
    "- 將預期輸出寫在 `return` 之後。"
   ]
  },
  {
   "cell_type": "code",
   "execution_count": 182,
   "id": "12952106",
   "metadata": {},
   "outputs": [],
   "source": [
    "def get_yesterdays_date(x: str) -> date:\n",
    "    \"\"\"\n",
    "    >>> print(get_yesterdays_date(\"2022-01-02\"))\n",
    "    2022-01-01\n",
    "    >>> print(get_yesterdays_date(\"2022-01-01\"))\n",
    "    2021-12-31\n",
    "    \"\"\"\n",
    "    ### BEGIN SOLUTION\n",
    "    x_date = date.fromisoformat(x)\n",
    "    one_day = timedelta(days = 1)\n",
    "    return x_date - one_day\n",
    "    ### END SOLUTION"
   ]
  },
  {
   "cell_type": "code",
   "execution_count": 185,
   "id": "89153959",
   "metadata": {},
   "outputs": [
    {
     "name": "stdout",
     "output_type": "stream",
     "text": [
      "2022-01-01\n",
      "2021-12-31\n"
     ]
    }
   ],
   "source": [
    "print(get_yesterdays_date(\"2022-01-02\"))\n",
    "print(get_yesterdays_date(\"2022-01-01\"))"
   ]
  },
  {
   "cell_type": "code",
   "execution_count": 1,
   "id": "460160f1",
   "metadata": {},
   "outputs": [],
   "source": [
    "# help(date.fromisoformat)\n",
    "# help(timedelta)"
   ]
  },
  {
   "cell_type": "markdown",
   "id": "a7055498",
   "metadata": {},
   "source": [
    "## 145. 前一秒的日期時間  \n",
    "\n",
    "定義函數 `get_a_second_before_datetime()` 將輸入日期時間文字（ISO 8601 格式）的前一秒回傳。\n",
    "\n",
    "- 使用 `datetime.fromisoformat()`\n",
    "- 運用 `timedelta` 類別。\n",
    "- 將預期輸出寫在 `return` 之後。"
   ]
  },
  {
   "cell_type": "code",
   "execution_count": 189,
   "id": "2ec685ef",
   "metadata": {},
   "outputs": [],
   "source": [
    "def get_a_second_before_datetime(x: str) -> datetime:\n",
    "    \"\"\"\n",
    "    >>> print(get_a_second_before_datetime(\"2022-01-01 00:00:01\"))\n",
    "    2022-01-01 00:00:00\n",
    "    >>> print(get_a_second_before_datetime(\"2022-01-01 00:00:00\"))\n",
    "    2021-12-31 23:59:59\n",
    "    \"\"\"\n",
    "    ### BEGIN SOLUTION\n",
    "    x_datetime = datetime.fromisoformat(x)\n",
    "    one_sec = timedelta(seconds = 1)\n",
    "    return x_datetime - one_sec\n",
    "    ### END SOLUTION"
   ]
  },
  {
   "cell_type": "code",
   "execution_count": 191,
   "id": "0a93a45f",
   "metadata": {},
   "outputs": [
    {
     "name": "stdout",
     "output_type": "stream",
     "text": [
      "2022-01-01 00:00:00\n",
      "2021-12-31 23:59:59\n"
     ]
    }
   ],
   "source": [
    "print(get_a_second_before_datetime(\"2022-01-01 00:00:01\"))\n",
    "print(get_a_second_before_datetime(\"2022-01-01 00:00:00\"))"
   ]
  },
  {
   "cell_type": "markdown",
   "id": "210f048f",
   "metadata": {},
   "source": [
    "## 146. 顯示非 ISO 8601 的日期格式 \n",
    "\n",
    "定義函數 `show_a_non_iso8601_date()` 將輸入的整數顯示為 `%a %b %d` 的日期格式。\n",
    "\n",
    "來源：<https://docs.python.org/3/library/datetime.html#strftime-and-strptime-format-codes>\n",
    "\n",
    "- 運用 `date` 類別。\n",
    "- 使用 `date.strftime()`\n",
    "- 將預期輸出寫在 `return` 之後。"
   ]
  },
  {
   "cell_type": "code",
   "execution_count": 200,
   "id": "2bf5bfc3",
   "metadata": {},
   "outputs": [],
   "source": [
    "def show_a_non_iso8601_date(year: int, month: int, day: int) -> str:\n",
    "    \"\"\"\n",
    "    >>> show_a_non_iso8601_date(2021, 12, 31)\n",
    "    'Fri Dec 31'\n",
    "    >>> show_a_non_iso8601_date(2022, 1, 1)\n",
    "    'Sat Jan 01'\n",
    "    \"\"\"\n",
    "    ### BEGIN SOLUTION\n",
    "    input_date = date(year, month, day)\n",
    "    return input_date.strftime(\"%a %b %d\")\n",
    "    ### END SOLUTION"
   ]
  },
  {
   "cell_type": "code",
   "execution_count": 202,
   "id": "74a58dde",
   "metadata": {},
   "outputs": [
    {
     "data": {
      "text/plain": [
       "'Sat Jan 01'"
      ]
     },
     "execution_count": 202,
     "metadata": {},
     "output_type": "execute_result"
    }
   ],
   "source": [
    "show_a_non_iso8601_date(2021, 12, 31)\n",
    "show_a_non_iso8601_date(2022, 1, 1)"
   ]
  },
  {
   "cell_type": "code",
   "execution_count": 195,
   "id": "149a8380",
   "metadata": {},
   "outputs": [],
   "source": [
    "# help(date.strftime)"
   ]
  },
  {
   "cell_type": "markdown",
   "id": "5014952a",
   "metadata": {},
   "source": [
    "## 147. 解析非 ISO 8601 的日期時間格式 \n",
    "\n",
    "定義函數 `parse_a_non_iso8601_datetime()` 將輸入的日期時間文字（`%a %b %d %y %H:%M:%S` 格式）轉換為 ISO 8601 日期時間文字（`%Y-%m-%d %H:%M:%S` 格式）。\n",
    "\n",
    "來源：<https://docs.python.org/3/library/datetime.html#strftime-and-strptime-format-codes>\n",
    "\n",
    "- 使用 `datetime.strptime()`\n",
    "- 使用 `datetime.strftime()`\n",
    "- 將預期輸出寫在 `return` 之後。"
   ]
  },
  {
   "cell_type": "code",
   "execution_count": 205,
   "id": "a9f8e139",
   "metadata": {},
   "outputs": [],
   "source": [
    "def parse_a_non_iso8601_datetime(x: str) -> str:\n",
    "    \"\"\"\n",
    "    >>> parse_a_non_iso8601_datetime(\"Fri Dec 31 21 23:59:59\")\n",
    "    '2021-12-31 23:59:59'\n",
    "    >>> parse_a_non_iso8601_datetime(\"Sat Jan 01 22 00:00:01\")\n",
    "    '2022-01-01 00:00:01'\n",
    "    \"\"\"\n",
    "    ### BEGIN SOLUTION\n",
    "    date_time = datetime.strptime(x, \"%a %b %d %y %H:%M:%S\")\n",
    "    return date_time.strftime(\"%Y-%m-%d %H:%M:%S\")\n",
    "    ### END SOLUTION"
   ]
  },
  {
   "cell_type": "code",
   "execution_count": 207,
   "id": "3f33f03b",
   "metadata": {},
   "outputs": [
    {
     "data": {
      "text/plain": [
       "'2022-01-01 00:00:01'"
      ]
     },
     "execution_count": 207,
     "metadata": {},
     "output_type": "execute_result"
    }
   ],
   "source": [
    "parse_a_non_iso8601_datetime(\"Fri Dec 31 21 23:59:59\")\n",
    "parse_a_non_iso8601_datetime(\"Sat Jan 01 22 00:00:01\")"
   ]
  },
  {
   "cell_type": "markdown",
   "id": "ee9c3617",
   "metadata": {},
   "source": [
    "## 148. 載入 `time_series_covid19_confirmed_global.csv`\n",
    "\n",
    "定義函數 `import_covid19_time_series_confirmed()` 將位於 `/home/jovyan/data/covid19` 路徑的 `time_series_covid19_confirmed_global.csv` 載入。\n",
    "\n",
    "- 運用絕對路徑。\n",
    "- 使用 `pd.read_csv()` 函數。\n",
    "- 將預期輸出寫在 `return` 之後。"
   ]
  },
  {
   "cell_type": "code",
   "execution_count": 209,
   "id": "02dcb059",
   "metadata": {},
   "outputs": [],
   "source": [
    "def import_covid19_time_series_confirmed() -> pd.core.frame.DataFrame:\n",
    "    \"\"\"\n",
    "    >>> covid19_time_series_confirmed = import_covid19_time_series_confirmed()\n",
    "    >>> type(covid19_time_series_confirmed)\n",
    "    pandas.core.frame.DataFrame\n",
    "    >>> covid19_time_series_confirmed.shape\n",
    "    (280, 735)\n",
    "    \"\"\"\n",
    "    ### BEGIN SOLUTION\n",
    "    file_path = \"C:\\\\Users\\\\Yan-Ju-Wang\\\\Python_Hahow\\\\covid19\\\\time_series_covid19_confirmed_global.csv\"\n",
    "    return pd.read_csv(file_path)\n",
    "    ### END SOLUTION"
   ]
  },
  {
   "cell_type": "code",
   "execution_count": 212,
   "id": "1e4d09ba",
   "metadata": {},
   "outputs": [
    {
     "data": {
      "text/html": [
       "<div>\n",
       "<style scoped>\n",
       "    .dataframe tbody tr th:only-of-type {\n",
       "        vertical-align: middle;\n",
       "    }\n",
       "\n",
       "    .dataframe tbody tr th {\n",
       "        vertical-align: top;\n",
       "    }\n",
       "\n",
       "    .dataframe thead th {\n",
       "        text-align: right;\n",
       "    }\n",
       "</style>\n",
       "<table border=\"1\" class=\"dataframe\">\n",
       "  <thead>\n",
       "    <tr style=\"text-align: right;\">\n",
       "      <th></th>\n",
       "      <th>Province/State</th>\n",
       "      <th>Country/Region</th>\n",
       "      <th>Lat</th>\n",
       "      <th>Long</th>\n",
       "      <th>1/22/20</th>\n",
       "      <th>1/23/20</th>\n",
       "      <th>1/24/20</th>\n",
       "      <th>1/25/20</th>\n",
       "      <th>1/26/20</th>\n",
       "      <th>1/27/20</th>\n",
       "      <th>...</th>\n",
       "      <th>1/12/22</th>\n",
       "      <th>1/13/22</th>\n",
       "      <th>1/14/22</th>\n",
       "      <th>1/15/22</th>\n",
       "      <th>1/16/22</th>\n",
       "      <th>1/17/22</th>\n",
       "      <th>1/18/22</th>\n",
       "      <th>1/19/22</th>\n",
       "      <th>1/20/22</th>\n",
       "      <th>1/21/22</th>\n",
       "    </tr>\n",
       "  </thead>\n",
       "  <tbody>\n",
       "    <tr>\n",
       "      <th>0</th>\n",
       "      <td>NaN</td>\n",
       "      <td>Afghanistan</td>\n",
       "      <td>33.939110</td>\n",
       "      <td>67.709953</td>\n",
       "      <td>0</td>\n",
       "      <td>0</td>\n",
       "      <td>0</td>\n",
       "      <td>0</td>\n",
       "      <td>0</td>\n",
       "      <td>0</td>\n",
       "      <td>...</td>\n",
       "      <td>158511</td>\n",
       "      <td>158602</td>\n",
       "      <td>158639</td>\n",
       "      <td>158678</td>\n",
       "      <td>158717</td>\n",
       "      <td>158826</td>\n",
       "      <td>158974</td>\n",
       "      <td>159070</td>\n",
       "      <td>159303</td>\n",
       "      <td>159516</td>\n",
       "    </tr>\n",
       "    <tr>\n",
       "      <th>1</th>\n",
       "      <td>NaN</td>\n",
       "      <td>Albania</td>\n",
       "      <td>41.153300</td>\n",
       "      <td>20.168300</td>\n",
       "      <td>0</td>\n",
       "      <td>0</td>\n",
       "      <td>0</td>\n",
       "      <td>0</td>\n",
       "      <td>0</td>\n",
       "      <td>0</td>\n",
       "      <td>...</td>\n",
       "      <td>224569</td>\n",
       "      <td>226598</td>\n",
       "      <td>228777</td>\n",
       "      <td>230940</td>\n",
       "      <td>232637</td>\n",
       "      <td>233654</td>\n",
       "      <td>236486</td>\n",
       "      <td>239129</td>\n",
       "      <td>241512</td>\n",
       "      <td>244182</td>\n",
       "    </tr>\n",
       "    <tr>\n",
       "      <th>2</th>\n",
       "      <td>NaN</td>\n",
       "      <td>Algeria</td>\n",
       "      <td>28.033900</td>\n",
       "      <td>1.659600</td>\n",
       "      <td>0</td>\n",
       "      <td>0</td>\n",
       "      <td>0</td>\n",
       "      <td>0</td>\n",
       "      <td>0</td>\n",
       "      <td>0</td>\n",
       "      <td>...</td>\n",
       "      <td>223806</td>\n",
       "      <td>224383</td>\n",
       "      <td>224979</td>\n",
       "      <td>225484</td>\n",
       "      <td>226057</td>\n",
       "      <td>226749</td>\n",
       "      <td>227559</td>\n",
       "      <td>228918</td>\n",
       "      <td>230470</td>\n",
       "      <td>232325</td>\n",
       "    </tr>\n",
       "    <tr>\n",
       "      <th>3</th>\n",
       "      <td>NaN</td>\n",
       "      <td>Andorra</td>\n",
       "      <td>42.506300</td>\n",
       "      <td>1.521800</td>\n",
       "      <td>0</td>\n",
       "      <td>0</td>\n",
       "      <td>0</td>\n",
       "      <td>0</td>\n",
       "      <td>0</td>\n",
       "      <td>0</td>\n",
       "      <td>...</td>\n",
       "      <td>28899</td>\n",
       "      <td>28899</td>\n",
       "      <td>29888</td>\n",
       "      <td>29888</td>\n",
       "      <td>29888</td>\n",
       "      <td>29888</td>\n",
       "      <td>29888</td>\n",
       "      <td>29888</td>\n",
       "      <td>32201</td>\n",
       "      <td>33025</td>\n",
       "    </tr>\n",
       "    <tr>\n",
       "      <th>4</th>\n",
       "      <td>NaN</td>\n",
       "      <td>Angola</td>\n",
       "      <td>-11.202700</td>\n",
       "      <td>17.873900</td>\n",
       "      <td>0</td>\n",
       "      <td>0</td>\n",
       "      <td>0</td>\n",
       "      <td>0</td>\n",
       "      <td>0</td>\n",
       "      <td>0</td>\n",
       "      <td>...</td>\n",
       "      <td>91907</td>\n",
       "      <td>92581</td>\n",
       "      <td>93302</td>\n",
       "      <td>93524</td>\n",
       "      <td>93694</td>\n",
       "      <td>93974</td>\n",
       "      <td>94275</td>\n",
       "      <td>94779</td>\n",
       "      <td>95220</td>\n",
       "      <td>95676</td>\n",
       "    </tr>\n",
       "    <tr>\n",
       "      <th>...</th>\n",
       "      <td>...</td>\n",
       "      <td>...</td>\n",
       "      <td>...</td>\n",
       "      <td>...</td>\n",
       "      <td>...</td>\n",
       "      <td>...</td>\n",
       "      <td>...</td>\n",
       "      <td>...</td>\n",
       "      <td>...</td>\n",
       "      <td>...</td>\n",
       "      <td>...</td>\n",
       "      <td>...</td>\n",
       "      <td>...</td>\n",
       "      <td>...</td>\n",
       "      <td>...</td>\n",
       "      <td>...</td>\n",
       "      <td>...</td>\n",
       "      <td>...</td>\n",
       "      <td>...</td>\n",
       "      <td>...</td>\n",
       "      <td>...</td>\n",
       "    </tr>\n",
       "    <tr>\n",
       "      <th>275</th>\n",
       "      <td>NaN</td>\n",
       "      <td>Vietnam</td>\n",
       "      <td>14.058324</td>\n",
       "      <td>108.277199</td>\n",
       "      <td>0</td>\n",
       "      <td>2</td>\n",
       "      <td>2</td>\n",
       "      <td>2</td>\n",
       "      <td>2</td>\n",
       "      <td>2</td>\n",
       "      <td>...</td>\n",
       "      <td>1958719</td>\n",
       "      <td>1975444</td>\n",
       "      <td>1991484</td>\n",
       "      <td>2007862</td>\n",
       "      <td>2023546</td>\n",
       "      <td>2023546</td>\n",
       "      <td>2062128</td>\n",
       "      <td>2078087</td>\n",
       "      <td>2094802</td>\n",
       "      <td>2110737</td>\n",
       "    </tr>\n",
       "    <tr>\n",
       "      <th>276</th>\n",
       "      <td>NaN</td>\n",
       "      <td>West Bank and Gaza</td>\n",
       "      <td>31.952200</td>\n",
       "      <td>35.233200</td>\n",
       "      <td>0</td>\n",
       "      <td>0</td>\n",
       "      <td>0</td>\n",
       "      <td>0</td>\n",
       "      <td>0</td>\n",
       "      <td>0</td>\n",
       "      <td>...</td>\n",
       "      <td>473302</td>\n",
       "      <td>474234</td>\n",
       "      <td>474234</td>\n",
       "      <td>474234</td>\n",
       "      <td>474234</td>\n",
       "      <td>476328</td>\n",
       "      <td>477151</td>\n",
       "      <td>478084</td>\n",
       "      <td>479343</td>\n",
       "      <td>480583</td>\n",
       "    </tr>\n",
       "    <tr>\n",
       "      <th>277</th>\n",
       "      <td>NaN</td>\n",
       "      <td>Yemen</td>\n",
       "      <td>15.552727</td>\n",
       "      <td>48.516388</td>\n",
       "      <td>0</td>\n",
       "      <td>0</td>\n",
       "      <td>0</td>\n",
       "      <td>0</td>\n",
       "      <td>0</td>\n",
       "      <td>0</td>\n",
       "      <td>...</td>\n",
       "      <td>10220</td>\n",
       "      <td>10233</td>\n",
       "      <td>10233</td>\n",
       "      <td>10233</td>\n",
       "      <td>10252</td>\n",
       "      <td>10352</td>\n",
       "      <td>10408</td>\n",
       "      <td>10449</td>\n",
       "      <td>10507</td>\n",
       "      <td>10585</td>\n",
       "    </tr>\n",
       "    <tr>\n",
       "      <th>278</th>\n",
       "      <td>NaN</td>\n",
       "      <td>Zambia</td>\n",
       "      <td>-13.133897</td>\n",
       "      <td>27.849332</td>\n",
       "      <td>0</td>\n",
       "      <td>0</td>\n",
       "      <td>0</td>\n",
       "      <td>0</td>\n",
       "      <td>0</td>\n",
       "      <td>0</td>\n",
       "      <td>...</td>\n",
       "      <td>289415</td>\n",
       "      <td>291582</td>\n",
       "      <td>293695</td>\n",
       "      <td>295028</td>\n",
       "      <td>296132</td>\n",
       "      <td>296817</td>\n",
       "      <td>298032</td>\n",
       "      <td>299172</td>\n",
       "      <td>299971</td>\n",
       "      <td>300587</td>\n",
       "    </tr>\n",
       "    <tr>\n",
       "      <th>279</th>\n",
       "      <td>NaN</td>\n",
       "      <td>Zimbabwe</td>\n",
       "      <td>-19.015438</td>\n",
       "      <td>29.154857</td>\n",
       "      <td>0</td>\n",
       "      <td>0</td>\n",
       "      <td>0</td>\n",
       "      <td>0</td>\n",
       "      <td>0</td>\n",
       "      <td>0</td>\n",
       "      <td>...</td>\n",
       "      <td>224433</td>\n",
       "      <td>225084</td>\n",
       "      <td>225637</td>\n",
       "      <td>225637</td>\n",
       "      <td>226078</td>\n",
       "      <td>226460</td>\n",
       "      <td>226460</td>\n",
       "      <td>226887</td>\n",
       "      <td>227552</td>\n",
       "      <td>227961</td>\n",
       "    </tr>\n",
       "  </tbody>\n",
       "</table>\n",
       "<p>280 rows × 735 columns</p>\n",
       "</div>"
      ],
      "text/plain": [
       "    Province/State      Country/Region        Lat        Long  1/22/20  \\\n",
       "0              NaN         Afghanistan  33.939110   67.709953        0   \n",
       "1              NaN             Albania  41.153300   20.168300        0   \n",
       "2              NaN             Algeria  28.033900    1.659600        0   \n",
       "3              NaN             Andorra  42.506300    1.521800        0   \n",
       "4              NaN              Angola -11.202700   17.873900        0   \n",
       "..             ...                 ...        ...         ...      ...   \n",
       "275            NaN             Vietnam  14.058324  108.277199        0   \n",
       "276            NaN  West Bank and Gaza  31.952200   35.233200        0   \n",
       "277            NaN               Yemen  15.552727   48.516388        0   \n",
       "278            NaN              Zambia -13.133897   27.849332        0   \n",
       "279            NaN            Zimbabwe -19.015438   29.154857        0   \n",
       "\n",
       "     1/23/20  1/24/20  1/25/20  1/26/20  1/27/20  ...  1/12/22  1/13/22  \\\n",
       "0          0        0        0        0        0  ...   158511   158602   \n",
       "1          0        0        0        0        0  ...   224569   226598   \n",
       "2          0        0        0        0        0  ...   223806   224383   \n",
       "3          0        0        0        0        0  ...    28899    28899   \n",
       "4          0        0        0        0        0  ...    91907    92581   \n",
       "..       ...      ...      ...      ...      ...  ...      ...      ...   \n",
       "275        2        2        2        2        2  ...  1958719  1975444   \n",
       "276        0        0        0        0        0  ...   473302   474234   \n",
       "277        0        0        0        0        0  ...    10220    10233   \n",
       "278        0        0        0        0        0  ...   289415   291582   \n",
       "279        0        0        0        0        0  ...   224433   225084   \n",
       "\n",
       "     1/14/22  1/15/22  1/16/22  1/17/22  1/18/22  1/19/22  1/20/22  1/21/22  \n",
       "0     158639   158678   158717   158826   158974   159070   159303   159516  \n",
       "1     228777   230940   232637   233654   236486   239129   241512   244182  \n",
       "2     224979   225484   226057   226749   227559   228918   230470   232325  \n",
       "3      29888    29888    29888    29888    29888    29888    32201    33025  \n",
       "4      93302    93524    93694    93974    94275    94779    95220    95676  \n",
       "..       ...      ...      ...      ...      ...      ...      ...      ...  \n",
       "275  1991484  2007862  2023546  2023546  2062128  2078087  2094802  2110737  \n",
       "276   474234   474234   474234   476328   477151   478084   479343   480583  \n",
       "277    10233    10233    10252    10352    10408    10449    10507    10585  \n",
       "278   293695   295028   296132   296817   298032   299172   299971   300587  \n",
       "279   225637   225637   226078   226460   226460   226887   227552   227961  \n",
       "\n",
       "[280 rows x 735 columns]"
      ]
     },
     "execution_count": 212,
     "metadata": {},
     "output_type": "execute_result"
    }
   ],
   "source": [
    "covid19_time_series_confirmed = import_covid19_time_series_confirmed()\n",
    "type(covid19_time_series_confirmed)\n",
    "covid19_time_series_confirmed.shape\n",
    "covid19_time_series_confirmed"
   ]
  },
  {
   "cell_type": "markdown",
   "id": "649f8408",
   "metadata": {},
   "source": [
    "## 149. 擷取日期的欄位名稱\n",
    "\n",
    "定義函數 `extract_date_columns()` 將 `time_series_covid19_confirmed_global.csv` 中 `Province/State`、`Country/Region`、`Lat`、`Long` 以外日期的欄位名稱擷取出來。\n",
    "\n",
    "- 使用 `import_covid19_time_series_confirmed()` 函數。\n",
    "- 運用 `DataFrame.columns`\n",
    "- 運用 slicing 技巧。\n",
    "- 將預期輸出寫在 `return` 之後。"
   ]
  },
  {
   "cell_type": "code",
   "execution_count": 220,
   "id": "e243bba8",
   "metadata": {},
   "outputs": [],
   "source": [
    "def extract_date_columns() -> pd.core.indexes.base.Index:\n",
    "    \"\"\"\n",
    "    >>> date_columns = extract_date_columns()\n",
    "    >>> type(date_columns)\n",
    "    pandas.core.indexes.base.Index\n",
    "    >>> date_columns.size\n",
    "    731\n",
    "    >>> date_columns\n",
    "    Index(['1/22/20', '1/23/20', '1/24/20', '1/25/20', '1/26/20', '1/27/20',\n",
    "           '1/28/20', '1/29/20', '1/30/20', '1/31/20',\n",
    "           ...\n",
    "           '1/12/22', '1/13/22', '1/14/22', '1/15/22', '1/16/22', '1/17/22',\n",
    "           '1/18/22', '1/19/22', '1/20/22', '1/21/22'],\n",
    "          dtype='object', length=731)\n",
    "    \"\"\"\n",
    "    ### BEGIN SOLUTION\n",
    "    covid19_time_series_confirmed = import_covid19_time_series_confirmed()\n",
    "    datafram_columns = covid19_time_series_confirmed.columns\n",
    "    return datafram_columns[4:]\n",
    "    ### END SOLUTION"
   ]
  },
  {
   "cell_type": "code",
   "execution_count": 221,
   "id": "4b9056ea",
   "metadata": {},
   "outputs": [
    {
     "data": {
      "text/plain": [
       "Index(['1/22/20', '1/23/20', '1/24/20', '1/25/20', '1/26/20', '1/27/20',\n",
       "       '1/28/20', '1/29/20', '1/30/20', '1/31/20',\n",
       "       ...\n",
       "       '1/12/22', '1/13/22', '1/14/22', '1/15/22', '1/16/22', '1/17/22',\n",
       "       '1/18/22', '1/19/22', '1/20/22', '1/21/22'],\n",
       "      dtype='object', length=731)"
      ]
     },
     "execution_count": 221,
     "metadata": {},
     "output_type": "execute_result"
    }
   ],
   "source": [
    "date_columns = extract_date_columns()\n",
    "type(date_columns)\n",
    "date_columns.size\n",
    "date_columns"
   ]
  },
  {
   "cell_type": "markdown",
   "id": "64f0718d",
   "metadata": {},
   "source": [
    "## 150. 解析日期的欄位名稱\n",
    "\n",
    "定義函數 `parse_date_columns()` 將 `time_series_covid19_confirmed_global.csv` 中日期的欄位名稱擷取出來轉換為 `DatetimeIndex`\n",
    "\n",
    "- 使用 `extract_date_columns()` 函數。\n",
    "- 使用 `pd.to_datetime()` 函數。\n",
    "- 將預期輸出寫在 `return` 之後。"
   ]
  },
  {
   "cell_type": "code",
   "execution_count": 222,
   "id": "8187b72f",
   "metadata": {},
   "outputs": [],
   "source": [
    "def parse_date_columns() -> pd.core.indexes.datetimes.DatetimeIndex:\n",
    "    \"\"\"\n",
    "    >>> date_columns = parse_date_columns()\n",
    "    >>> type(date_columns)\n",
    "    pandas.core.indexes.datetimes.DatetimeIndex\n",
    "    >>> date_columns.size\n",
    "    731\n",
    "    >>> date_columns\n",
    "    DatetimeIndex(['2020-01-22', '2020-01-23', '2020-01-24', '2020-01-25',\n",
    "                   '2020-01-26', '2020-01-27', '2020-01-28', '2020-01-29',\n",
    "                   '2020-01-30', '2020-01-31',\n",
    "                   ...\n",
    "                   '2022-01-12', '2022-01-13', '2022-01-14', '2022-01-15',\n",
    "                   '2022-01-16', '2022-01-17', '2022-01-18', '2022-01-19',\n",
    "                   '2022-01-20', '2022-01-21'],\n",
    "                  dtype='datetime64[ns]', length=731, freq=None)\n",
    "    \"\"\"\n",
    "    ### BEGIN SOLUTION\n",
    "    date_columns = extract_date_columns()\n",
    "    return pd.to_datetime(date_columns)\n",
    "    ### END SOLUTION"
   ]
  },
  {
   "cell_type": "code",
   "execution_count": 225,
   "id": "1b6e6c5e",
   "metadata": {},
   "outputs": [
    {
     "data": {
      "text/plain": [
       "DatetimeIndex(['2020-01-22', '2020-01-23', '2020-01-24', '2020-01-25',\n",
       "               '2020-01-26', '2020-01-27', '2020-01-28', '2020-01-29',\n",
       "               '2020-01-30', '2020-01-31',\n",
       "               ...\n",
       "               '2022-01-12', '2022-01-13', '2022-01-14', '2022-01-15',\n",
       "               '2022-01-16', '2022-01-17', '2022-01-18', '2022-01-19',\n",
       "               '2022-01-20', '2022-01-21'],\n",
       "              dtype='datetime64[ns]', length=731, freq=None)"
      ]
     },
     "execution_count": 225,
     "metadata": {},
     "output_type": "execute_result"
    }
   ],
   "source": [
    "date_columns = parse_date_columns()\n",
    "type(date_columns)\n",
    "date_columns.size\n",
    "date_columns"
   ]
  },
  {
   "cell_type": "code",
   "execution_count": null,
   "id": "03cecd72",
   "metadata": {},
   "outputs": [],
   "source": []
  }
 ],
 "metadata": {
  "kernelspec": {
   "display_name": "Python 3 (ipykernel)",
   "language": "python",
   "name": "python3"
  },
  "language_info": {
   "codemirror_mode": {
    "name": "ipython",
    "version": 3
   },
   "file_extension": ".py",
   "mimetype": "text/x-python",
   "name": "python",
   "nbconvert_exporter": "python",
   "pygments_lexer": "ipython3",
   "version": "3.9.13"
  }
 },
 "nbformat": 4,
 "nbformat_minor": 5
}
